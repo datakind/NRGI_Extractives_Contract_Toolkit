{
 "cells": [
  {
   "cell_type": "code",
   "execution_count": 5,
   "metadata": {
    "collapsed": true
   },
   "outputs": [],
   "source": [
    "import urllib2\n",
    "import os\n",
    "import pandas as pd\n",
    "from tqdm import tqdm\n",
    "tqdm.pandas(desc=\"Progress\")"
   ]
  },
  {
   "cell_type": "code",
   "execution_count": 6,
   "metadata": {},
   "outputs": [],
   "source": [
    "contract_ids = pd.read_csv('contract_data/olc_contract_2017-08-11.csv')['OCID']\n",
    "destination_folder = 'contract_data/Contracts_Annotations/openland_contracts/'\n",
    "# source_url = 'http://resourcecontracts.org/contract/'\n",
    "source_url = 'http://openlandcontracts.org/contract/'"
   ]
  },
  {
   "cell_type": "code",
   "execution_count": 7,
   "metadata": {
    "collapsed": true
   },
   "outputs": [],
   "source": [
    "existing_xls = [f for f in os.listdir(destination_folder) if f.lower().endswith('.xls')]"
   ]
  },
  {
   "cell_type": "code",
   "execution_count": 8,
   "metadata": {
    "collapsed": true
   },
   "outputs": [],
   "source": [
    "def download_xls(url,outfilename):\n",
    "    '''\n",
    "    Function downloads PDFs from url to given filename\n",
    "    '''\n",
    "    response = urllib2.urlopen(url)\n",
    "    f = open(destination_folder + outfilename, 'w')\n",
    "    f.write(response.read())\n",
    "    f.close()\n",
    "    \n",
    "    return"
   ]
  },
  {
   "cell_type": "code",
   "execution_count": 9,
   "metadata": {},
   "outputs": [
    {
     "name": "stderr",
     "output_type": "stream",
     "text": [
      "100%|██████████| 193/193 [01:17<00:00,  2.49it/s]\n"
     ]
    }
   ],
   "source": [
    "for contract_id in tqdm(contract_ids):\n",
    "    outfilename = contract_id + '.xls'\n",
    "    if not outfilename in existing_xls:\n",
    "        url = source_url + contract_id + '/download/annotations'\n",
    "        try:\n",
    "            download_xls(url, outfilename)\n",
    "        except:\n",
    "            print 'No annotations for ' + contract_id"
   ]
  },
  {
   "cell_type": "code",
   "execution_count": 10,
   "metadata": {},
   "outputs": [
    {
     "name": "stdout",
     "output_type": "stream",
     "text": [
      "193\n"
     ]
    }
   ],
   "source": [
    "print len([f for f in os.listdir(destination_folder) if f.lower().endswith('.xls')])"
   ]
  },
  {
   "cell_type": "code",
   "execution_count": null,
   "metadata": {
    "collapsed": true
   },
   "outputs": [],
   "source": []
  }
 ],
 "metadata": {
  "kernelspec": {
   "display_name": "Python 2",
   "language": "python",
   "name": "python2"
  },
  "language_info": {
   "codemirror_mode": {
    "name": "ipython",
    "version": 2
   },
   "file_extension": ".py",
   "mimetype": "text/x-python",
   "name": "python",
   "nbconvert_exporter": "python",
   "pygments_lexer": "ipython2",
   "version": "2.7.13"
  }
 },
 "nbformat": 4,
 "nbformat_minor": 2
}
