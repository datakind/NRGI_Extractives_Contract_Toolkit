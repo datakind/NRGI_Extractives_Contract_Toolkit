{
 "cells": [
  {
   "cell_type": "code",
   "execution_count": 1,
   "metadata": {
    "collapsed": true
   },
   "outputs": [],
   "source": [
    "import urllib2\n",
    "import os\n",
    "import pandas as pd\n",
    "from tqdm import tqdm\n",
    "tqdm.pandas(desc=\"Progress\")"
   ]
  },
  {
   "cell_type": "code",
   "execution_count": 2,
   "metadata": {
    "collapsed": true
   },
   "outputs": [],
   "source": [
    "contract_ids = pd.read_csv('contract_data/contract_2017-06-21.csv')['OCID']\n",
    "destination_folder = 'contract_data/Contracts_Annotations/'"
   ]
  },
  {
   "cell_type": "code",
   "execution_count": 3,
   "metadata": {},
   "outputs": [],
   "source": [
    "existing_csvs = [f for f in os.listdir(destination_folder) if f.lower().endswith('.csv')]"
   ]
  },
  {
   "cell_type": "code",
   "execution_count": 4,
   "metadata": {
    "collapsed": true
   },
   "outputs": [],
   "source": [
    "def download_csv(url,outfilename):\n",
    "    '''\n",
    "    Function downloads PDFs from url to given filename\n",
    "    '''\n",
    "    response = urllib2.urlopen(url)\n",
    "    f = open(destination_folder + outfilename, 'w')\n",
    "    f.write(response.read())\n",
    "    f.close()\n",
    "    \n",
    "    return"
   ]
  },
  {
   "cell_type": "code",
   "execution_count": null,
   "metadata": {},
   "outputs": [
    {
     "name": "stderr",
     "output_type": "stream",
     "text": [
      "  5%|▌         | 76/1496 [00:34<10:38,  2.22it/s]"
     ]
    }
   ],
   "source": [
    "for contract_id in tqdm(contract_ids):\n",
    "    outfilename = contract_id + '.csv'\n",
    "    if not outfilename in existing_csvs:\n",
    "        url = 'http://resourcecontracts.org/contract/' + contract_id + '/download/annotations'\n",
    "        try:\n",
    "            download_csv(url, outfilename)\n",
    "        except:\n",
    "            print 'No annotations for ' + contract_id"
   ]
  },
  {
   "cell_type": "code",
   "execution_count": null,
   "metadata": {
    "collapsed": true
   },
   "outputs": [],
   "source": []
  }
 ],
 "metadata": {
  "kernelspec": {
   "display_name": "Python 2",
   "language": "python",
   "name": "python2"
  },
  "language_info": {
   "codemirror_mode": {
    "name": "ipython",
    "version": 2
   },
   "file_extension": ".py",
   "mimetype": "text/x-python",
   "name": "python",
   "nbconvert_exporter": "python",
   "pygments_lexer": "ipython2",
   "version": "2.7.13"
  }
 },
 "nbformat": 4,
 "nbformat_minor": 2
}
