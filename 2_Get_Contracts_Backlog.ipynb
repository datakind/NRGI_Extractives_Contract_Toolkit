{
 "cells": [
  {
   "cell_type": "markdown",
   "metadata": {},
   "source": [
    "### Scrape text from Colombian oil contract website, found pdf links and output list of links to pdf files\n",
    "### Take that list and dowloads pdfs"
   ]
  },
  {
   "cell_type": "code",
   "execution_count": 2,
   "metadata": {
    "collapsed": true
   },
   "outputs": [],
   "source": [
    "import io, os\n",
    "import codecs, unicodedata, re, urlparse, urllib2\n",
    "import time"
   ]
  },
  {
   "cell_type": "code",
   "execution_count": 3,
   "metadata": {
    "collapsed": true
   },
   "outputs": [],
   "source": [
    "# List of PDF URLs from Colombian website to clean\n",
    "colombia_filenames_raw = 'contract_data/Contracts_Backlog/colombia_oil_contracts_raw.txt' \n",
    "# List of Clean PDF URLs from Colombian website\n",
    "colombia_filenames = 'contract_data/Contracts_Backlog/colombia_oil_contracts.txt' \n",
    "# Where you want to save the PDFs\n",
    "destination_folder = 'contract_data/Contracts_Backlog/'"
   ]
  },
  {
   "cell_type": "code",
   "execution_count": 4,
   "metadata": {},
   "outputs": [],
   "source": [
    "f = codecs.open(colombia_filenames_raw,'rt', encoding='utf-8').readlines()\n",
    "pdffiles = [filename for filename in [filename.strip() for filename in f] if filename.endswith('.pdf')]\n",
    "\n",
    "f = codecs.open(colombia_filenames,'w',encoding='utf-8')\n",
    "for filename in pdffiles:\n",
    "    filename = filename.replace(' ','%20')\n",
    "    f.write('http://www.anh.gov.co/Asignacion-de-areas/Contratos%20EP%20y%20TEAS%20firmados/' + filename)\n",
    "    f.write('\\n')\n",
    "f.close()"
   ]
  },
  {
   "cell_type": "code",
   "execution_count": 5,
   "metadata": {},
   "outputs": [
    {
     "name": "stdout",
     "output_type": "stream",
     "text": [
      "470\n",
      "474\n"
     ]
    }
   ],
   "source": [
    "existing_pdfs = [unicodedata.normalize('NFKC',f.decode('utf8')) for f in os.listdir(destination_folder) if f.lower().endswith('.pdf')]\n",
    "f = list(set(codecs.open(colombia_filenames,'r', encoding='utf-8').readlines()))\n",
    "print len(f)\n",
    "print len(existing_pdfs)"
   ]
  },
  {
   "cell_type": "code",
   "execution_count": 6,
   "metadata": {
    "collapsed": true
   },
   "outputs": [],
   "source": [
    "def urlEncodeNonAscii(b):\n",
    "    return re.sub('[\\x80-\\xFF]', lambda c: '%%%02x' % ord(c.group(0)), b)\n",
    "\n",
    "def iriToUri(iri):\n",
    "    parts= urlparse.urlparse(iri)\n",
    "    return urlparse.urlunparse(\n",
    "        part.encode('idna') if parti==1 else urlEncodeNonAscii(part.encode('utf-8'))\n",
    "        for parti, part in enumerate(parts)\n",
    "    )"
   ]
  },
  {
   "cell_type": "code",
   "execution_count": 7,
   "metadata": {
    "collapsed": true
   },
   "outputs": [],
   "source": [
    "def download_pdf(url,pdf_filename):\n",
    "    '''\n",
    "    Function downloads PDFs from url to given filename\n",
    "    '''\n",
    "    try:\n",
    "        url = iriToUri(url)\n",
    "    except:\n",
    "        pass\n",
    "    response = urllib2.urlopen(url)\n",
    "    f = open(destination_folder + pdf_filename, 'w')\n",
    "    f.write(response.read())\n",
    "    f.close()\n",
    "    \n",
    "    return"
   ]
  },
  {
   "cell_type": "code",
   "execution_count": 8,
   "metadata": {
    "collapsed": true
   },
   "outputs": [],
   "source": [
    "for url in f:\n",
    "    pdf_filename = unicodedata.normalize('NFKC',url.strip().split('/')[-1].replace(\"%20\",\"_\"))\n",
    "    if not pdf_filename in existing_pdfs:\n",
    "        print pdf_filename\n",
    "        try:\n",
    "            download_pdf(url.strip(),pdf_filename)\n",
    "        except:\n",
    "            print \"Sleeping on \" + pdf_filename\n",
    "            time.sleep(5*60)\n",
    "            try:\n",
    "                download_pdf(url.strip(),pdf_filename)\n",
    "            except:\n",
    "                print \"Could not open file: \" + pdf_filename"
   ]
  },
  {
   "cell_type": "code",
   "execution_count": null,
   "metadata": {
    "collapsed": true
   },
   "outputs": [],
   "source": []
  }
 ],
 "metadata": {
  "kernelspec": {
   "display_name": "Python 2",
   "language": "python",
   "name": "python2"
  },
  "language_info": {
   "codemirror_mode": {
    "name": "ipython",
    "version": 2
   },
   "file_extension": ".py",
   "mimetype": "text/x-python",
   "name": "python",
   "nbconvert_exporter": "python",
   "pygments_lexer": "ipython2",
   "version": "2.7.13"
  }
 },
 "nbformat": 4,
 "nbformat_minor": 1
}
