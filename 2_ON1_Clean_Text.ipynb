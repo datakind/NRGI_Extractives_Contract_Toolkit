{
 "cells": [
  {
   "cell_type": "markdown",
   "metadata": {},
   "source": [
    "![alt text](DataKind_orange.png)"
   ]
  },
  {
   "cell_type": "markdown",
   "metadata": {},
   "source": [
    "# Omidyar Extractives Project 1\n",
    "## Clean Contract Text (Notebook 2 of 5)\n",
    "### 1. Reads in contract text\n",
    "### 2. Strips HTML from text\n",
    "### 3. Cleans text for NLP prep (remove unicode, special characters, stopwords, etc.)\n",
    "### 4. Outputs cleaned text appended to dataframe from Notebook 1"
   ]
  },
  {
   "cell_type": "code",
   "execution_count": 9,
   "metadata": {
    "collapsed": true
   },
   "outputs": [],
   "source": [
    "import re\n",
    "import string\n",
    "import pandas as pd\n",
    "from HTMLParser import HTMLParser\n",
    "import nltk\n",
    "from nltk.corpus import stopwords\n",
    "from langdetect import detect\n",
    "\n",
    "import warnings\n",
    "with warnings.catch_warnings():\n",
    "    warnings.filterwarnings(\"ignore\",category=DeprecationWarning)\n",
    "import matplotlib.pylab as plt\n",
    "import seaborn as sns\n",
    "%matplotlib inline"
   ]
  },
  {
   "cell_type": "code",
   "execution_count": 10,
   "metadata": {
    "collapsed": false
   },
   "outputs": [],
   "source": [
    "contracts = pd.read_pickle('contract_data/1_contracts_with_text.pkl')\n",
    "outfile = 'contract_data/2_contracts_with_text.pkl'"
   ]
  },
  {
   "cell_type": "code",
   "execution_count": 11,
   "metadata": {
    "collapsed": false
   },
   "outputs": [
    {
     "name": "stdout",
     "output_type": "stream",
     "text": [
      "Number of contracts: 1496\n"
     ]
    }
   ],
   "source": [
    "print \"Number of contracts: \" + str(len(contracts))"
   ]
  },
  {
   "cell_type": "markdown",
   "metadata": {},
   "source": [
    "### Strip HTML, carriage returns, newline characters"
   ]
  },
  {
   "cell_type": "code",
   "execution_count": 13,
   "metadata": {
    "collapsed": true
   },
   "outputs": [],
   "source": [
    "class MLStripper(HTMLParser):\n",
    "    def __init__(self):\n",
    "        self.reset()\n",
    "        self.fed = []\n",
    "    def handle_data(self, d):\n",
    "        self.fed.append(d)\n",
    "    def get_data(self):\n",
    "        return ''.join(self.fed)\n",
    "\n",
    "def strip_tags(html):\n",
    "    s = MLStripper()\n",
    "    s.feed(html)\n",
    "    return s.get_data()"
   ]
  },
  {
   "cell_type": "code",
   "execution_count": 14,
   "metadata": {
    "collapsed": true
   },
   "outputs": [],
   "source": [
    "contracts['HTML_Stripped_Text'] = contracts['Contract_Text'].apply(strip_tags)"
   ]
  },
  {
   "cell_type": "code",
   "execution_count": 15,
   "metadata": {
    "collapsed": true
   },
   "outputs": [],
   "source": [
    "characters_to_replace = ['\\xef','\\xbb','\\xbf','\\r','\\n']\n",
    "for char in characters_to_replace:\n",
    "    contracts['HTML_Stripped_Text'] = contracts['HTML_Stripped_Text'].str.replace(char,\" \")"
   ]
  },
  {
   "cell_type": "code",
   "execution_count": 16,
   "metadata": {
    "collapsed": true
   },
   "outputs": [],
   "source": [
    "contracts['TextLength'] = contracts['HTML_Stripped_Text'].str.len()"
   ]
  },
  {
   "cell_type": "code",
   "execution_count": 22,
   "metadata": {
    "collapsed": true
   },
   "outputs": [],
   "source": [
    "## Remove short documents\n",
    "contracts = contracts[contracts['TextLength'] > 2000].copy()"
   ]
  },
  {
   "cell_type": "markdown",
   "metadata": {},
   "source": [
    "### Clean Text"
   ]
  },
  {
   "cell_type": "code",
   "execution_count": null,
   "metadata": {
    "collapsed": true
   },
   "outputs": [],
   "source": [
    "unicode_re = nltk.regexp.re.compile(u'('u'\\ud83c[\\udf00-\\udfff]|'\n",
    "                        u'\\ud83d[\\udc00-\\ude4f\\ude80-\\udeff]|'\n",
    "                        u'[\\u2600-\\u26FF\\u2700-\\u27BF])+',\n",
    "                        nltk.regexp.re.UNICODE)\n",
    "url_re = r'(?:www|https?\\://)\\S+'"
   ]
  },
  {
   "cell_type": "code",
   "execution_count": null,
   "metadata": {
    "collapsed": true
   },
   "outputs": [],
   "source": [
    "def unicode_remove(text):\n",
    "    try:\n",
    "        return text.decode('unicode_escape').encode('ascii','ignore')\n",
    "    except:\n",
    "        try:\n",
    "            return text.decode('string-escape').encode('ascii','ignore')\n",
    "        except:\n",
    "            return repr(text).translate(None,r'\\\\x')\n",
    "\n",
    "def perform_lowercase(text):\n",
    "    \"\"\"\n",
    "    Mutates and returns text where all characters are lowercased\n",
    "    \"\"\"\n",
    "    new_text = text.lower()\n",
    "    return new_text\n",
    "\n",
    "def urlpath_replace(text):\n",
    "    \"\"\"\n",
    "    Replaces URL with URL base path\n",
    "    \"\"\"\n",
    "    new_text = text\n",
    "    urls = nltk.regexp.re.findall(url_re,text)\n",
    "    for url in urls:\n",
    "        try:\n",
    "            parsed = urlparse.urlparse(url)\n",
    "            urlnetloc = parsed.netloc\n",
    "            urlpath = parsed.path\n",
    "            if urlnetloc != '':\n",
    "                new_text = text.replace(url,urlnetloc)\n",
    "            else:\n",
    "                new_text = text.replace(url,urlpath)\n",
    "            text = new_text\n",
    "        except:\n",
    "            pass\n",
    "    return new_text\n",
    "\n",
    "def emoji_replace_word(text):\n",
    "    \"\"\"\n",
    "    Replaces emoji byte representations with ' EMOJI ' \n",
    "    Uses UCS-4 wide code points for the regex\n",
    "    http://stackoverflow.com/questions/26568722/remove-unicode-emoji-using-re-in-python\n",
    "    \"\"\"\n",
    "    if isinstance(text, unicode):\n",
    "        new_text = nltk.regexp.re.sub(unicode_re, ' emoji ', text)\n",
    "        return new_text\n",
    "    else:\n",
    "        return text\n",
    "\n",
    "def remove_underscore(text):\n",
    "    new_text = text.replace('_',' ')\n",
    "    return new_text\n",
    "\n",
    "def punctuation_remove(text):\n",
    "    \"\"\"\n",
    "    Mutates and returns text where all punctuation are replaced\n",
    "    \"\"\"\n",
    "    chars = re.escape(string.punctuation)\n",
    "    return re.sub(r'['+chars+']', ' ',text)\n",
    "\n",
    "def doublespace_remove(text):\n",
    "    return re.sub(' +',' ',text)"
   ]
  },
  {
   "cell_type": "code",
   "execution_count": null,
   "metadata": {
    "collapsed": true
   },
   "outputs": [],
   "source": [
    "def cleaning(text):\n",
    "    function_list = [\n",
    "        unicode_remove, perform_lowercase, urlpath_replace, \n",
    "        emoji_replace_word, punctuation_remove, \n",
    "        remove_underscore, doublespace_remove\n",
    "                ]\n",
    "    for func in function_list:\n",
    "        text = func(text)\n",
    "    \n",
    "    return text"
   ]
  },
  {
   "cell_type": "code",
   "execution_count": null,
   "metadata": {
    "collapsed": true
   },
   "outputs": [],
   "source": [
    "contracts['CleanText'] = contracts.apply(lambda row: row['HTML_Stripped_Text'] if row['Language'] == 'ar' else cleaning(row['HTML_Stripped_Text']),axis=1)"
   ]
  },
  {
   "cell_type": "markdown",
   "metadata": {},
   "source": [
    "### Optimizing for NLP"
   ]
  },
  {
   "cell_type": "code",
   "execution_count": null,
   "metadata": {
    "collapsed": true
   },
   "outputs": [],
   "source": [
    "stopwords = set(stopwords.words('english'))\n",
    "stopwords.update(stopword_list)\n",
    "def remove_stopwords(text):\n",
    "    return ' '.join([i for i in text.lower().split() if i not in stopwords])"
   ]
  },
  {
   "cell_type": "code",
   "execution_count": null,
   "metadata": {
    "collapsed": true
   },
   "outputs": [],
   "source": []
  },
  {
   "cell_type": "code",
   "execution_count": null,
   "metadata": {
    "collapsed": true
   },
   "outputs": [],
   "source": []
  },
  {
   "cell_type": "code",
   "execution_count": null,
   "metadata": {
    "collapsed": true
   },
   "outputs": [],
   "source": []
  }
 ],
 "metadata": {
  "kernelspec": {
   "display_name": "Python 2",
   "language": "python",
   "name": "python2"
  },
  "language_info": {
   "codemirror_mode": {
    "name": "ipython",
    "version": 2
   },
   "file_extension": ".py",
   "mimetype": "text/x-python",
   "name": "python",
   "nbconvert_exporter": "python",
   "pygments_lexer": "ipython2",
   "version": "2.7.12"
  }
 },
 "nbformat": 4,
 "nbformat_minor": 1
}
