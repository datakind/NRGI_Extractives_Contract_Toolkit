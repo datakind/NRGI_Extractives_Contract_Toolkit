{
 "cells": [
  {
   "cell_type": "markdown",
   "metadata": {},
   "source": [
    "# Omidyar Extractives Project 1\n",
    "## OCR Contracts Backlog (Notebook 3 of 8)\n",
    "### From directory of PDFs, performs OCR and outputs txt files to same directory"
   ]
  },
  {
   "cell_type": "code",
   "execution_count": 1,
   "metadata": {
    "collapsed": true
   },
   "outputs": [],
   "source": [
    "import io, os\n",
    "import json\n",
    "import unicodedata\n",
    "from PIL import Image as PI\n",
    "import pyocr\n",
    "import pyocr.builders\n",
    "from wand.image import Image\n",
    "from tqdm import tqdm"
   ]
  },
  {
   "cell_type": "code",
   "execution_count": 2,
   "metadata": {
    "collapsed": true
   },
   "outputs": [],
   "source": [
    "# Where you want to save the PDFspip \n",
    "destination_folder = 'contract_data/Contracts_Backlog/'"
   ]
  },
  {
   "cell_type": "code",
   "execution_count": 13,
   "metadata": {},
   "outputs": [
    {
     "name": "stdout",
     "output_type": "stream",
     "text": [
      "474\n",
      "143\n"
     ]
    }
   ],
   "source": [
    "pdfs = [unicodedata.normalize('NFKC',f.decode('utf8')) for f in os.listdir(destination_folder) if f.lower().endswith('.pdf')]\n",
    "txt_files = [unicodedata.normalize('NFKC',f.decode('utf8')) for f in os.listdir(destination_folder) if f.lower().endswith('.txt')]\n",
    "print len(pdfs)\n",
    "print len(txt_files)"
   ]
  },
  {
   "cell_type": "code",
   "execution_count": null,
   "metadata": {
    "collapsed": true
   },
   "outputs": [],
   "source": [
    "tempdir = \"/private/var/tmp/\""
   ]
  },
  {
   "cell_type": "markdown",
   "metadata": {
    "collapsed": true
   },
   "source": [
    "### Perform OCR on PDFs"
   ]
  },
  {
   "cell_type": "code",
   "execution_count": null,
   "metadata": {
    "collapsed": true
   },
   "outputs": [],
   "source": [
    "def ocr_pdf_to_text(filename):\n",
    "    tool = pyocr.get_available_tools()[0]\n",
    "    lang = 'spa'\n",
    "    req_image = []\n",
    "    final_text = []\n",
    "    image_pdf = Image(filename=filename, resolution=300)\n",
    "    image_jpeg = image_pdf.convert('jpeg')\n",
    "    for img in image_jpeg.sequence:\n",
    "        img_page = Image(image=img)\n",
    "        req_image.append(img_page.make_blob('jpeg'))\n",
    "\n",
    "    for img in req_image: \n",
    "        txt = tool.image_to_string(\n",
    "            PI.open(io.BytesIO(img)),\n",
    "            lang=lang,\n",
    "            builder=pyocr.builders.TextBuilder()\n",
    "        )\n",
    "        final_text.append(txt)\n",
    "    return final_text"
   ]
  },
  {
   "cell_type": "code",
   "execution_count": null,
   "metadata": {},
   "outputs": [],
   "source": [
    "errors = []\n",
    "for filename in tqdm(pdfs):\n",
    "    txt_file = filename[:-3] +'txt'\n",
    "    txt_filename = destination_folder + txt_file\n",
    "    \n",
    "    if not txt_file in txt_files: \n",
    "        try:\n",
    "            ocr_txt = ocr_pdf_to_text(destination_folder + filename)\n",
    "            with open(txt_filename,'w') as f:\n",
    "                for i in range(len(ocr_txt)):\n",
    "                    f.write(json.dumps({i:ocr_txt[i].encode('utf8')}))\n",
    "                    f.write('\\n')\n",
    "            f.close()\n",
    "\n",
    "        except:\n",
    "            print \"Could not OCR \" + filename\n",
    "\n",
    "        files = os.listdir(tempdir)\n",
    "        for file in files:\n",
    "            if \"magick\" in file:\n",
    "                os.remove(os.path.join(tempdir,file)) "
   ]
  },
  {
   "cell_type": "code",
   "execution_count": null,
   "metadata": {
    "collapsed": true
   },
   "outputs": [],
   "source": []
  }
 ],
 "metadata": {
  "kernelspec": {
   "display_name": "Python 2",
   "language": "python",
   "name": "python2"
  },
  "language_info": {
   "codemirror_mode": {
    "name": "ipython",
    "version": 2
   },
   "file_extension": ".py",
   "mimetype": "text/x-python",
   "name": "python",
   "nbconvert_exporter": "python",
   "pygments_lexer": "ipython2",
   "version": "2.7.13"
  }
 },
 "nbformat": 4,
 "nbformat_minor": 1
}
