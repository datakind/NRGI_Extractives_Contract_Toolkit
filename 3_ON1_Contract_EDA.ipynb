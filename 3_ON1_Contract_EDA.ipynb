{
 "cells": [
  {
   "cell_type": "markdown",
   "metadata": {},
   "source": [
    "![alt text](DataKind_orange.png)"
   ]
  },
  {
   "cell_type": "markdown",
   "metadata": {},
   "source": [
    "# Omidyar Extractives Project 1\n",
    "## Exploratory Data Analysis (Notebook 3 of 5)\n",
    "### 1. Reads in contract text and original metadata from Notebook 2\n",
    "### 2. Computes basic stats on text and original metadata\n",
    "### 3. Does topic modeling on text\n",
    "### 4. Creates explanatory charts and graphs"
   ]
  },
  {
   "cell_type": "code",
   "execution_count": 33,
   "metadata": {
    "collapsed": false
   },
   "outputs": [],
   "source": [
    "import re\n",
    "import string\n",
    "import pandas as pd\n",
    "from HTMLParser import HTMLParser\n",
    "import nltk\n",
    "from nltk.corpus import stopwords\n",
    "from langdetect import detect\n",
    "\n",
    "import warnings\n",
    "with warnings.catch_warnings():\n",
    "    warnings.filterwarnings(\"ignore\",category=DeprecationWarning)\n",
    "import matplotlib.pylab as plt\n",
    "import seaborn as sns\n",
    "%matplotlib inline"
   ]
  },
  {
   "cell_type": "code",
   "execution_count": 35,
   "metadata": {
    "collapsed": false
   },
   "outputs": [],
   "source": [
    "contracts = pd.read_pickle('contract_data/2_contracts_with_text.pkl')"
   ]
  },
  {
   "cell_type": "code",
   "execution_count": 36,
   "metadata": {
    "collapsed": false
   },
   "outputs": [
    {
     "data": {
      "text/plain": [
       "Index([u'OCID', u'Category', u'Contract Name', u'Contract Identifier',\n",
       "       u'Language', u'Country Name', u'Resource', u'Contract Type',\n",
       "       u'Signature Date', u'Document Type', u'Government Entity',\n",
       "       u'Government Identifier', u'Company Name', u'Company Address',\n",
       "       u'Jurisdiction of Incorporation', u'Registration Agency',\n",
       "       u'Company Number', u'Corporate Grouping', u'Participation Share',\n",
       "       u'Open Corporates Link', u'Incorporation Date', u'Operator',\n",
       "       u'Project Title', u'Project Identifier', u'License Name',\n",
       "       u'License Identifier', u'Source Url', u'Disclosure Mode',\n",
       "       u'Retrieval Date', u'Pdf Url', u'Deal Number', u'Contract Note',\n",
       "       u'Matrix Page', u'Annotation Category', u'Annotation Text',\n",
       "       u'Contract_Text'],\n",
       "      dtype='object')"
      ]
     },
     "execution_count": 36,
     "metadata": {},
     "output_type": "execute_result"
    }
   ],
   "source": [
    "contracts.columns"
   ]
  },
  {
   "cell_type": "code",
   "execution_count": null,
   "metadata": {
    "collapsed": true
   },
   "outputs": [],
   "source": [
    "pd.set_option('max_colwidth',400)\n",
    "contracts[contracts['TextLength'] < 5000][['OCID','Contract Type','Pdf Url','Contract_Text']]"
   ]
  },
  {
   "cell_type": "code",
   "execution_count": 31,
   "metadata": {
    "collapsed": false
   },
   "outputs": [
    {
     "data": {
      "text/plain": [
       "Hydrocarbons                                                           872\n",
       "other minerals                                                         124\n",
       "Gold                                                                    58\n",
       "Cobalt;Copper                                                           45\n",
       "Iron Ore                                                                35\n",
       "Copper                                                                  29\n",
       "Aluminum;Bauxite                                                        27\n",
       "Gypsum                                                                  27\n",
       "Gold;Copper                                                             24\n",
       "Nickel                                                                  23\n",
       "Copper;Gold                                                             20\n",
       "Bauxite                                                                 18\n",
       "Chromite;Nickel                                                         16\n",
       "Diamonds;Gold                                                           14\n",
       "Gas                                                                     12\n",
       "Salt                                                                    11\n",
       "Phosphate                                                                9\n",
       "Gold;Silver                                                              9\n",
       "Coal                                                                     8\n",
       "Diamonds                                                                 7\n",
       "Chromite                                                                 6\n",
       "Copper;Gold;Silver                                                       5\n",
       "Cobalt                                                                   5\n",
       "Copper;Cobalt                                                            5\n",
       "Barite                                                                   4\n",
       "Copper;Gold;Molybdenum;Silver                                            4\n",
       "Gold;Iron Ore                                                            4\n",
       "Gold;Platinum Group Metals;Silver                                        4\n",
       "Copper;Zinc                                                              4\n",
       "Copper;Molybdenum                                                        3\n",
       "                                                                      ... \n",
       "Ilmenite;Leucoxene;Rutile;Zircon                                         2\n",
       "Chromite;Cobalt;Iron Ore;Nickel                                          2\n",
       "Iron                                                                     2\n",
       "Alumina;Bauxite                                                          2\n",
       "Copper;Nickel                                                            2\n",
       "Copper;Lead;Zinc                                                         2\n",
       "Magnetite                                                                2\n",
       "Uranium (U3O8)                                                           2\n",
       "Heavy Mineral Sands                                                      1\n",
       "Copper;other minerals                                                    1\n",
       "Diamonds;Gold;Iron Ore;Silver                                            1\n",
       "Coal;Methane                                                             1\n",
       "Corundum                                                                 1\n",
       "Base metals;Diamonds;Manganese;Platinum Group Metals;other minerals      1\n",
       "Gas;Hydrocarbons                                                         1\n",
       "Diamonds;Gold;Silver                                                     1\n",
       "Attapulgite;Clay                                                         1\n",
       "Gold;other minerals                                                      1\n",
       "Silver                                                                   1\n",
       "Attapulgite                                                              1\n",
       "Base metals                                                              1\n",
       "Ilmenite;Rutile;Zircon                                                   1\n",
       "Not Specified                                                            1\n",
       "Bauxite-Aluminum                                                         1\n",
       "Bentonite                                                                1\n",
       "Minerals                                                                 1\n",
       "Sandstone                                                                1\n",
       "Bauxite;Gold                                                             1\n",
       "Gold;Gold                                                                1\n",
       "Lithium;Tin                                                              1\n",
       "Name: Resource, Length: 71, dtype: int64"
      ]
     },
     "execution_count": 31,
     "metadata": {},
     "output_type": "execute_result"
    }
   ],
   "source": [
    "contracts['Resource'].value_counts()"
   ]
  },
  {
   "cell_type": "code",
   "execution_count": 20,
   "metadata": {
    "collapsed": false
   },
   "outputs": [
    {
     "data": {
      "image/png": "[encoded data removed]",
      "text/plain": [
       "<matplotlib.figure.Figure at 0x11dc26e90>"
      ]
     },
     "metadata": {},
     "output_type": "display_data"
    }
   ],
   "source": [
    "contracts.hist(column='TextLength');"
   ]
  },
  {
   "cell_type": "markdown",
   "metadata": {},
   "source": [
    "### Detect Language"
   ]
  },
  {
   "cell_type": "code",
   "execution_count": 15,
   "metadata": {
    "collapsed": false
   },
   "outputs": [
    {
     "name": "stdout",
     "output_type": "stream",
     "text": [
      "Contract Language counts:\n",
      "en    665\n",
      "fr    437\n",
      "es    366\n",
      "pt     20\n",
      "ar      3\n",
      "pl      1\n",
      "Name: Language, dtype: int64\n"
     ]
    }
   ],
   "source": [
    "print \"Contract Language counts:\"\n",
    "print contracts.Language.value_counts()"
   ]
  },
  {
   "cell_type": "code",
   "execution_count": 250,
   "metadata": {
    "collapsed": false
   },
   "outputs": [],
   "source": [
    "def detect_lang(row):\n",
    "    text = doublespace_remove(''.join([i for i in row['CleanText'] if not i.isdigit()]))\n",
    "    if row['Language'] == 'ar':\n",
    "        return 'ar'\n",
    "    elif 'accessdenied' in text[0:100]:\n",
    "        return 'Error'\n",
    "    else:\n",
    "        try:\n",
    "            return detect(text[len(text) / 2 - 1000: len(text) / 2 + 1000])\n",
    "        except:\n",
    "            print 'Error in OCID: ' + row['OCID']"
   ]
  },
  {
   "cell_type": "code",
   "execution_count": 251,
   "metadata": {
    "collapsed": false
   },
   "outputs": [],
   "source": [
    "contracts['DetectedLanguage'] = contracts.apply(detect_lang,axis=1)"
   ]
  },
  {
   "cell_type": "code",
   "execution_count": 266,
   "metadata": {
    "collapsed": false
   },
   "outputs": [
    {
     "name": "stdout",
     "output_type": "stream",
     "text": [
      "Detected Language different from reported language: 78\n",
      "Contracts in english: 593\n",
      "Contracts with no txt: 25\n"
     ]
    }
   ],
   "source": [
    "print 'Detected Language different from reported language: ' + str(len(contracts[(contracts['DetectedLanguage'] != contracts['Language']) & (contracts['DetectedLanguage'] != 'Error')]))\n",
    "print 'Contracts in english: ' + str(len(contracts[(contracts['DetectedLanguage'] == 'en') & (contracts['Language'] == 'en')]))\n",
    "print 'Contracts with no txt: ' + str(len(contracts[contracts['DetectedLanguage'] == 'Error']))"
   ]
  },
  {
   "cell_type": "code",
   "execution_count": 253,
   "metadata": {
    "collapsed": false
   },
   "outputs": [
    {
     "data": {
      "text/plain": [
       "en       601\n",
       "fr       465\n",
       "es       367\n",
       "Error     25\n",
       "pt        18\n",
       "ro         4\n",
       "ar         3\n",
       "ca         3\n",
       "pl         2\n",
       "sw         1\n",
       "it         1\n",
       "tl         1\n",
       "cy         1\n",
       "Name: DetectedLanguage, dtype: int64"
      ]
     },
     "execution_count": 253,
     "metadata": {},
     "output_type": "execute_result"
    }
   ],
   "source": [
    "contracts['DetectedLanguage'].value_counts()"
   ]
  },
  {
   "cell_type": "code",
   "execution_count": 254,
   "metadata": {
    "collapsed": false
   },
   "outputs": [
    {
     "data": {
      "text/html": [
       "<div>\n",
       "<style>\n",
       "    .dataframe thead tr:only-child th {\n",
       "        text-align: right;\n",
       "    }\n",
       "\n",
       "    .dataframe thead th {\n",
       "        text-align: left;\n",
       "    }\n",
       "\n",
       "    .dataframe tbody tr th {\n",
       "        vertical-align: top;\n",
       "    }\n",
       "</style>\n",
       "<table border=\"1\" class=\"dataframe\">\n",
       "  <thead>\n",
       "    <tr>\n",
       "      <th></th>\n",
       "      <th></th>\n",
       "      <th>OCID</th>\n",
       "    </tr>\n",
       "    <tr>\n",
       "      <th></th>\n",
       "      <th></th>\n",
       "      <th>count</th>\n",
       "    </tr>\n",
       "    <tr>\n",
       "      <th>Language</th>\n",
       "      <th>DetectedLanguage</th>\n",
       "      <th></th>\n",
       "    </tr>\n",
       "  </thead>\n",
       "  <tbody>\n",
       "    <tr>\n",
       "      <th rowspan=\"7\" valign=\"top\">en</th>\n",
       "      <th>Error</th>\n",
       "      <td>9</td>\n",
       "    </tr>\n",
       "    <tr>\n",
       "      <th>cy</th>\n",
       "      <td>1</td>\n",
       "    </tr>\n",
       "    <tr>\n",
       "      <th>es</th>\n",
       "      <td>14</td>\n",
       "    </tr>\n",
       "    <tr>\n",
       "      <th>fr</th>\n",
       "      <td>44</td>\n",
       "    </tr>\n",
       "    <tr>\n",
       "      <th>pl</th>\n",
       "      <td>1</td>\n",
       "    </tr>\n",
       "    <tr>\n",
       "      <th>ro</th>\n",
       "      <td>2</td>\n",
       "    </tr>\n",
       "    <tr>\n",
       "      <th>tl</th>\n",
       "      <td>1</td>\n",
       "    </tr>\n",
       "    <tr>\n",
       "      <th rowspan=\"3\" valign=\"top\">es</th>\n",
       "      <th>Error</th>\n",
       "      <td>8</td>\n",
       "    </tr>\n",
       "    <tr>\n",
       "      <th>ca</th>\n",
       "      <td>1</td>\n",
       "    </tr>\n",
       "    <tr>\n",
       "      <th>en</th>\n",
       "      <td>4</td>\n",
       "    </tr>\n",
       "    <tr>\n",
       "      <th rowspan=\"6\" valign=\"top\">fr</th>\n",
       "      <th>Error</th>\n",
       "      <td>8</td>\n",
       "    </tr>\n",
       "    <tr>\n",
       "      <th>ca</th>\n",
       "      <td>2</td>\n",
       "    </tr>\n",
       "    <tr>\n",
       "      <th>en</th>\n",
       "      <td>2</td>\n",
       "    </tr>\n",
       "    <tr>\n",
       "      <th>it</th>\n",
       "      <td>1</td>\n",
       "    </tr>\n",
       "    <tr>\n",
       "      <th>ro</th>\n",
       "      <td>2</td>\n",
       "    </tr>\n",
       "    <tr>\n",
       "      <th>sw</th>\n",
       "      <td>1</td>\n",
       "    </tr>\n",
       "    <tr>\n",
       "      <th>pt</th>\n",
       "      <th>en</th>\n",
       "      <td>2</td>\n",
       "    </tr>\n",
       "  </tbody>\n",
       "</table>\n",
       "</div>"
      ],
      "text/plain": [
       "                           OCID\n",
       "                          count\n",
       "Language DetectedLanguage      \n",
       "en       Error                9\n",
       "         cy                   1\n",
       "         es                  14\n",
       "         fr                  44\n",
       "         pl                   1\n",
       "         ro                   2\n",
       "         tl                   1\n",
       "es       Error                8\n",
       "         ca                   1\n",
       "         en                   4\n",
       "fr       Error                8\n",
       "         ca                   2\n",
       "         en                   2\n",
       "         it                   1\n",
       "         ro                   2\n",
       "         sw                   1\n",
       "pt       en                   2"
      ]
     },
     "execution_count": 254,
     "metadata": {},
     "output_type": "execute_result"
    }
   ],
   "source": [
    "contracts[contracts['DetectedLanguage'] != contracts['Language']][['OCID','Language','DetectedLanguage']].groupby(['Language','DetectedLanguage']).agg(['count'])"
   ]
  },
  {
   "cell_type": "code",
   "execution_count": 258,
   "metadata": {
    "collapsed": false
   },
   "outputs": [
    {
     "data": {
      "text/html": [
       "<div>\n",
       "<style>\n",
       "    .dataframe thead tr:only-child th {\n",
       "        text-align: right;\n",
       "    }\n",
       "\n",
       "    .dataframe thead th {\n",
       "        text-align: left;\n",
       "    }\n",
       "\n",
       "    .dataframe tbody tr th {\n",
       "        vertical-align: top;\n",
       "    }\n",
       "</style>\n",
       "<table border=\"1\" class=\"dataframe\">\n",
       "  <thead>\n",
       "    <tr style=\"text-align: right;\">\n",
       "      <th></th>\n",
       "      <th>OCID</th>\n",
       "      <th>CleanText</th>\n",
       "    </tr>\n",
       "  </thead>\n",
       "  <tbody>\n",
       "    <tr>\n",
       "      <th>172</th>\n",
       "      <td>ocds-591adf-9753464836</td>\n",
       "      <td>ex 10 1 2 dex101 htm block 95 exploration and production contract english translation exhibit 10 1 license contract for the exploration and exploitation of hydrocarbons in block 95 perupetro s a and harken del per limitada \f",
       "license contract for the exploration and exploitation of hydrocarbons in block 95 perupetro s a and harken del per ltda preliminary clause general i by virtue of the authority conferred upon it by law no 26221 perupetro participates in this document to enter into the license contract for the exploration and exploitation of hydrocarbons in block 95 ii hydrocarbons in situ are the property of the state the ownership right to extracted hydrocarbons is transferred by perupetro to the contractor on the date of signing as stated in the contract and in article 8 of law no 26221 the contractor commits itself to pay to the state through perupetro a cash royalty under the conditions and at the time set forth in the contract iii in accordance with the provisions set forth in article 12 of law no 26221 the contract shall be governed by perus private law and shall be subject to the scope of article 1357 of the civil code iv for all purposes related to and arising from this contract the parties hereby agree that the captions of the clauses are irrelevant for purposes of the interpretation of the contents thereof v any reference to the contract includes the annexes should any conflict arise between the annexes and the body of the contract the latter shall prevail clause one definitions the definitions agreed upon by the parties in this clause are aimed at giving the required meaning to the terms used in the contract and such meaning shall be the only one accepted for purposes of interpretation in the performance hereof unless otherwise expressly agreed upon by the parties in writing 2 \f",
       "the terms defined and used in the contract whether in singular or plural shall be capitalized and shall have the following meanings 1 1 affiliate any entity fifty percent 50 ...</td>\n",
       "    </tr>\n",
       "    <tr>\n",
       "      <th>174</th>\n",
       "      <td>ocds-591adf-4582194938</td>\n",
       "      <td>ex 10 5 2 a05 6089 2ex10d5 htm ex 10 5 exhibit 10 5 amendment of license contract for exploration and exploitation of hydrocarbons on block z 1 entered by perupetro s a with bpz energy inc sucursal peru first clause 1 background 1 1 on november 30 2001 perupetro s a hereinafter perupetro entered into a license contract for exploration and exploitation of hydrocarbons in block z 1 with syntroleum per holdings limited sucursal del per and with bpz energy inc sucursal peru which was approved by supreme decree n 052 2001 em as mandated by law and made a public deed on november 30 2001 by its registration on the same date made by dr cecilia hidalgo morn a notary public of lima per 1 2 by means of supreme decree n 045 2002 em dated october 23 2002 approval was given to the modification of the license contract for exploration and exploitation of hydrocarbons in block z 1 which was also made a public deed on the same date by registration made by dr cecilia hidalgo morn a notary public of lima per 1 3 through supreme decree n 003 2004 em dated february 12 2004 approval was given to the modification and transferal or assignment of the contractual position in the license contract for the exploration and exploitation of hydrocarbons in block z 1 made by syntroleum per holdings limited sucursal del per which assigned all of its participation in the contract equivalent to ninety five percent 95 of participation in the contract to nuevo per ltd sucursal del per this modification and assignment of contractual position was made a public deed on march 18 2004 by dr ricardo fernandini barreda a notary public of lima per 1 1 4 by means of a letter dated november 5 2004 and in conformance with clause sixteen of the contract nuevo per ltd sucursal del per notified perupetro of its decision to assign its contractual position in the contract to bpz energy inc sucursal per 1 5 plains exploration production company acquired through a merger ownership of nuevo energy company as agreed by ...</td>\n",
       "    </tr>\n",
       "    <tr>\n",
       "      <th>1148</th>\n",
       "      <td>ocds-591adf-3743828893</td>\n",
       "      <td>poder gjecutivo acuerdo pe prorroga de concesion hidrocarburifera ca 11 faro virgenes pe la provincia de santa cruz en la ciudad de rio gallegos a lo si del mes de ju uao del ano 2011 se celebra el presente acuerdo de prorroga de concesion hidrocarburifera ca 11 faro vlrgenes de la provincia de santa cruz el acuerdo entre la provincia de santa cruz la provincia representada en este acto por el senor gobemador don daniel romm peralta y arpetrol argentina s a actuando a traves de su representante legal contador norberto barrionuevo con domicilio en cerrito 1186 piso 4 de la ciudad de buenos aires y considerando que el articulo 124 de la constitucion nacional reconocio a las provincias el dominio originario de los recursos naturales existentes en sus territories y que en consonancia la ley n 26 197 modificatoria de la i c rvxtv t 14 ley n 17 319 ordeno la asuncion en forma plena el ejercicio del dominio originario y la administracion n8 hi s f sobre los yaciraientos de hidrocarburos que se encuentran en territorio de las provincias y en el lecho y y subsuelo del mar territorial del que fueren riberenas y transfirid de pleno derecho todos los permisos de hj exploracion y concesiones de explotacion de hidrocarburos as como cualquier otro tipo de contrato de xr1 xb1 exploracion y o explotacion de hidrocarburos otorgado o aprobado por el estado nacional en uso de sus facultades sin que ello afeete los derechos y las obligaciones contraidas por sus titulares y las facultades regulatorias federales otorgadas por la ley n 17 319 que este marco legal brinda a la provincia la posibilidad de prorrogar los vencimientos de las concesiones de explotacion conforme lo establecido en ei articulo 35 de la ley n 17 319 que el 25 de marzo de 2010 el honorable camara de diputados de la provincia aprobo la ley 3117 para crear un marco regulators para la prorroga de concesiones hidrocarburiferas la lev marco que la ley marco establece ciertas prescripciones para los acuerdos referentes...</td>\n",
       "    </tr>\n",
       "    <tr>\n",
       "      <th>1403</th>\n",
       "      <td>ocds-591adf-3845912103</td>\n",
       "      <td>1 6 16 4 23 pm ex 10 5 5 a2151916zex 10 5 htm ex 10 5 quicklinks click here to rapidly navigate through this document exhibit 10 5 license contract for the exploration and exploitation of hydrocarbons block z 1 perupetro s a with nuevo peru ltd sucursal del peru bpz energy inc sucursal peru index preliminary clause general points clause one definitions clause two purpose of the contract clause three term conditions guaranty clause four exploration clause five exploitation clause six submission of information studies clause seven supervision committee clause eight royalty valuation clause nine taxes clause ten customs duties clause eleven financial rights clause twelve employees clause thirteen environmental protection clause fourteen conservation of hydrocarbons loss prevention clause fifteen training technology transfer clause sixteen assignment clause seventeen act of god or force majeure clause eighteen accounting clause nineteen miscellaneous clause twenty notices communications clause twentyone submission to peruvian law and disputes resolution clause twentytwo termination annex a description of contract area annex b map of contract area annexes c 1 to c x letters of guaranty for the minimum work program annex d corporate guaranty annex e accounting procedure annex f exploration working unitstable of equivalencies 3 3 10 10 13 17 19 20 21 26 26 27 29 29 29 30 31 32 33 34 35 36 38 40 41 42 43 44 50 1 http www sec gov archives edgar data 1023734 000104746905003754 a2151916zex 10 5 htm page 1 of 63 \f",
       "1 6 16 4 23 pm introductory clausebackground i perupetro s a perupetro syntroleum peru holdings limited sucursal del peru and bpz energy inc sucursal peru entered into a license contract for the exploration and exploitation of hydrocarbons in block z 1 hereinafter called the contract the same that according to law was approved by supreme decree 052 2001 em converted into a public deed on november 30 2001 by the notary public of lima dr cecilia hidalgo moran and rec...</td>\n",
       "    </tr>\n",
       "  </tbody>\n",
       "</table>\n",
       "</div>"
      ],
      "text/plain": [
       "                        OCID  \\\n",
       "172   ocds-591adf-9753464836   \n",
       "174   ocds-591adf-4582194938   \n",
       "1148  ocds-591adf-3743828893   \n",
       "1403  ocds-591adf-3845912103   \n",
       "\n",
       "                                                                                                                                                                                                                                                                                                                                                                                                                                                                                                                                                                                                                                                                                                                                                                                                                                                                                                                                                                                                                                                                                                                                                                                                                                                                                                                                                                                                                                                                                                                                                                                                                                                                                                                                                                                                                                                                                                                                                                                                                                                                            CleanText  \n",
       "172   ex 10 1 2 dex101 htm block 95 exploration and production contract english translation exhibit 10 1 license contract for the exploration and exploitation of hydrocarbons in block 95 perupetro s a and harken del per limitada \f",
       "license contract for the exploration and exploitation of hydrocarbons in block 95 perupetro s a and harken del per ltda preliminary clause general i by virtue of the authority conferred upon it by law no 26221 perupetro participates in this document to enter into the license contract for the exploration and exploitation of hydrocarbons in block 95 ii hydrocarbons in situ are the property of the state the ownership right to extracted hydrocarbons is transferred by perupetro to the contractor on the date of signing as stated in the contract and in article 8 of law no 26221 the contractor commits itself to pay to the state through perupetro a cash royalty under the conditions and at the time set forth in the contract iii in accordance with the provisions set forth in article 12 of law no 26221 the contract shall be governed by perus private law and shall be subject to the scope of article 1357 of the civil code iv for all purposes related to and arising from this contract the parties hereby agree that the captions of the clauses are irrelevant for purposes of the interpretation of the contents thereof v any reference to the contract includes the annexes should any conflict arise between the annexes and the body of the contract the latter shall prevail clause one definitions the definitions agreed upon by the parties in this clause are aimed at giving the required meaning to the terms used in the contract and such meaning shall be the only one accepted for purposes of interpretation in the performance hereof unless otherwise expressly agreed upon by the parties in writing 2 \f",
       "the terms defined and used in the contract whether in singular or plural shall be capitalized and shall have the following meanings 1 1 affiliate any entity fifty percent 50 ...  \n",
       "174   ex 10 5 2 a05 6089 2ex10d5 htm ex 10 5 exhibit 10 5 amendment of license contract for exploration and exploitation of hydrocarbons on block z 1 entered by perupetro s a with bpz energy inc sucursal peru first clause 1 background 1 1 on november 30 2001 perupetro s a hereinafter perupetro entered into a license contract for exploration and exploitation of hydrocarbons in block z 1 with syntroleum per holdings limited sucursal del per and with bpz energy inc sucursal peru which was approved by supreme decree n 052 2001 em as mandated by law and made a public deed on november 30 2001 by its registration on the same date made by dr cecilia hidalgo morn a notary public of lima per 1 2 by means of supreme decree n 045 2002 em dated october 23 2002 approval was given to the modification of the license contract for exploration and exploitation of hydrocarbons in block z 1 which was also made a public deed on the same date by registration made by dr cecilia hidalgo morn a notary public of lima per 1 3 through supreme decree n 003 2004 em dated february 12 2004 approval was given to the modification and transferal or assignment of the contractual position in the license contract for the exploration and exploitation of hydrocarbons in block z 1 made by syntroleum per holdings limited sucursal del per which assigned all of its participation in the contract equivalent to ninety five percent 95 of participation in the contract to nuevo per ltd sucursal del per this modification and assignment of contractual position was made a public deed on march 18 2004 by dr ricardo fernandini barreda a notary public of lima per 1 1 4 by means of a letter dated november 5 2004 and in conformance with clause sixteen of the contract nuevo per ltd sucursal del per notified perupetro of its decision to assign its contractual position in the contract to bpz energy inc sucursal per 1 5 plains exploration production company acquired through a merger ownership of nuevo energy company as agreed by ...  \n",
       "1148   poder gjecutivo acuerdo pe prorroga de concesion hidrocarburifera ca 11 faro virgenes pe la provincia de santa cruz en la ciudad de rio gallegos a lo si del mes de ju uao del ano 2011 se celebra el presente acuerdo de prorroga de concesion hidrocarburifera ca 11 faro vlrgenes de la provincia de santa cruz el acuerdo entre la provincia de santa cruz la provincia representada en este acto por el senor gobemador don daniel romm peralta y arpetrol argentina s a actuando a traves de su representante legal contador norberto barrionuevo con domicilio en cerrito 1186 piso 4 de la ciudad de buenos aires y considerando que el articulo 124 de la constitucion nacional reconocio a las provincias el dominio originario de los recursos naturales existentes en sus territories y que en consonancia la ley n 26 197 modificatoria de la i c rvxtv t 14 ley n 17 319 ordeno la asuncion en forma plena el ejercicio del dominio originario y la administracion n8 hi s f sobre los yaciraientos de hidrocarburos que se encuentran en territorio de las provincias y en el lecho y y subsuelo del mar territorial del que fueren riberenas y transfirid de pleno derecho todos los permisos de hj exploracion y concesiones de explotacion de hidrocarburos as como cualquier otro tipo de contrato de xr1 xb1 exploracion y o explotacion de hidrocarburos otorgado o aprobado por el estado nacional en uso de sus facultades sin que ello afeete los derechos y las obligaciones contraidas por sus titulares y las facultades regulatorias federales otorgadas por la ley n 17 319 que este marco legal brinda a la provincia la posibilidad de prorrogar los vencimientos de las concesiones de explotacion conforme lo establecido en ei articulo 35 de la ley n 17 319 que el 25 de marzo de 2010 el honorable camara de diputados de la provincia aprobo la ley 3117 para crear un marco regulators para la prorroga de concesiones hidrocarburiferas la lev marco que la ley marco establece ciertas prescripciones para los acuerdos referentes...  \n",
       "1403  1 6 16 4 23 pm ex 10 5 5 a2151916zex 10 5 htm ex 10 5 quicklinks click here to rapidly navigate through this document exhibit 10 5 license contract for the exploration and exploitation of hydrocarbons block z 1 perupetro s a with nuevo peru ltd sucursal del peru bpz energy inc sucursal peru index preliminary clause general points clause one definitions clause two purpose of the contract clause three term conditions guaranty clause four exploration clause five exploitation clause six submission of information studies clause seven supervision committee clause eight royalty valuation clause nine taxes clause ten customs duties clause eleven financial rights clause twelve employees clause thirteen environmental protection clause fourteen conservation of hydrocarbons loss prevention clause fifteen training technology transfer clause sixteen assignment clause seventeen act of god or force majeure clause eighteen accounting clause nineteen miscellaneous clause twenty notices communications clause twentyone submission to peruvian law and disputes resolution clause twentytwo termination annex a description of contract area annex b map of contract area annexes c 1 to c x letters of guaranty for the minimum work program annex d corporate guaranty annex e accounting procedure annex f exploration working unitstable of equivalencies 3 3 10 10 13 17 19 20 21 26 26 27 29 29 29 30 31 32 33 34 35 36 38 40 41 42 43 44 50 1 http www sec gov archives edgar data 1023734 000104746905003754 a2151916zex 10 5 htm page 1 of 63 \f",
       "1 6 16 4 23 pm introductory clausebackground i perupetro s a perupetro syntroleum peru holdings limited sucursal del peru and bpz energy inc sucursal peru entered into a license contract for the exploration and exploitation of hydrocarbons in block z 1 hereinafter called the contract the same that according to law was approved by supreme decree 052 2001 em converted into a public deed on november 30 2001 by the notary public of lima dr cecilia hidalgo moran and rec...  "
      ]
     },
     "execution_count": 258,
     "metadata": {},
     "output_type": "execute_result"
    }
   ],
   "source": [
    "pd.set_option('max_colwidth',2000)\n",
    "contracts[(contracts['Language'] == 'es') & (contracts['DetectedLanguage'] == 'en')][['OCID','CleanText']]"
   ]
  },
  {
   "cell_type": "markdown",
   "metadata": {},
   "source": []
  },
  {
   "cell_type": "code",
   "execution_count": null,
   "metadata": {
    "collapsed": true
   },
   "outputs": [],
   "source": []
  },
  {
   "cell_type": "code",
   "execution_count": null,
   "metadata": {
    "collapsed": true
   },
   "outputs": [],
   "source": []
  }
 ],
 "metadata": {
  "kernelspec": {
   "display_name": "Python 2",
   "language": "python",
   "name": "python2"
  },
  "language_info": {
   "codemirror_mode": {
    "name": "ipython",
    "version": 2
   },
   "file_extension": ".py",
   "mimetype": "text/x-python",
   "name": "python",
   "nbconvert_exporter": "python",
   "pygments_lexer": "ipython2",
   "version": "2.7.12"
  }
 },
 "nbformat": 4,
 "nbformat_minor": 1
}
