{
 "cells": [
  {
   "cell_type": "markdown",
   "metadata": {},
   "source": [
    "![alt text](DataKind_orange.png)"
   ]
  },
  {
   "cell_type": "markdown",
   "metadata": {},
   "source": [
    "# NRGI Extractives Contracts\n",
    "## Clean Contract Text\n",
    "### 1. Reads in contract text\n",
    "### 2. Parses by paragraph\n",
    "### 3. Strips HTML from text\n",
    "### 4. Outputs pickled dataframe ready for featurization and modeling"
   ]
  },
  {
   "cell_type": "code",
   "execution_count": 2,
   "metadata": {
    "collapsed": true
   },
   "outputs": [],
   "source": [
    "import re\n",
    "import string\n",
    "import pandas as pd\n",
    "from HTMLParser import HTMLParser\n",
    "import nltk\n",
    "from nltk.corpus import stopwords\n",
    "from langdetect import detect\n",
    "\n",
    "import warnings\n",
    "with warnings.catch_warnings():\n",
    "    warnings.filterwarnings(\"ignore\",category=DeprecationWarning)\n",
    "import matplotlib.pylab as plt\n",
    "import seaborn as sns\n",
    "%matplotlib inline"
   ]
  },
  {
   "cell_type": "code",
   "execution_count": 3,
   "metadata": {
    "collapsed": true
   },
   "outputs": [],
   "source": [
    "supported_languages = ['en','fr','es']"
   ]
  },
  {
   "cell_type": "code",
   "execution_count": 4,
   "metadata": {
    "collapsed": true
   },
   "outputs": [],
   "source": [
    "rc_contracts = pd.read_pickle('contract_data/resource_contracts_with_text.pkl')\n",
    "rc_contracts['Source'] = 'rc'\n",
    "ol_contracts = pd.read_pickle('contract_data/openland_contracts_with_text.pkl')\n",
    "ol_contracts['Source'] = 'ol'\n",
    "outfile = 'contract_data/cleaned_contracts.pkl'"
   ]
  },
  {
   "cell_type": "code",
   "execution_count": 5,
   "metadata": {
    "collapsed": false
   },
   "outputs": [
    {
     "name": "stdout",
     "output_type": "stream",
     "text": [
      "Number of contracts: 1689\n"
     ]
    }
   ],
   "source": [
    "contracts = pd.concat([rc_contracts,ol_contracts])\n",
    "print \"Number of contracts: \" + str(len(contracts))"
   ]
  },
  {
   "cell_type": "markdown",
   "metadata": {},
   "source": [
    "### Parse by paragraph, strip HTML, carriage returns, newline characters"
   ]
  },
  {
   "cell_type": "code",
   "execution_count": 6,
   "metadata": {
    "collapsed": true
   },
   "outputs": [],
   "source": [
    "def get_paragraphs(text):\n",
    "    text = re.sub(' +',' ',text)\n",
    "    splitters = [r'<br \\/><br \\/>\\r\\n<br \\/><br \\/>\\r\\n',\n",
    "                 r'<br \\/><br \\/>\\n<br \\/><br \\/>\\n',\n",
    "                 r'\\b\\. <br \\/>\\r<br \\/><br \\/>\\n',\n",
    "                 r'</div><div><br></div><div>',\n",
    "                 r'\\b\\.<br><br>',\n",
    "                 r'<br \\/>\\n<br><br><br \\/>\\n',\n",
    "                 r'<br><br \\/>\\n<br><br \\/>\\n',\n",
    "                 r'\\b\\.\\n\\n',\n",
    "                 r'; <br />\\n<br><br />\\n ']\n",
    "    splitter_counts = {}\n",
    "    for splitter in splitters:\n",
    "        splitter_counts[splitter] = re.findall(splitter,text)\n",
    "    maxsplitter = max(splitter_counts,key=splitter_counts.get)\n",
    "    paras = re.split(maxsplitter, text)\n",
    "    if maxsplitter in [r'\\b. <br \\/>\\r<br \\/><br \\/>\\n',r'\\b.<br><br>',r'\\b\\.\\n\\n']:\n",
    "        paras = [para.strip() + '.' for para in paras]\n",
    "    return paras"
   ]
  },
  {
   "cell_type": "code",
   "execution_count": 7,
   "metadata": {
    "collapsed": true
   },
   "outputs": [],
   "source": [
    "class MLStripper(HTMLParser):\n",
    "    def __init__(self):\n",
    "        self.reset()\n",
    "        self.fed = []\n",
    "    def handle_data(self, d):\n",
    "        self.fed.append(d)\n",
    "    def get_data(self):\n",
    "        return ''.join(self.fed)\n",
    "\n",
    "def strip_tags(html):\n",
    "    s = MLStripper()\n",
    "    s.feed(html)\n",
    "    return s.get_data()"
   ]
  },
  {
   "cell_type": "code",
   "execution_count": 8,
   "metadata": {
    "collapsed": false
   },
   "outputs": [
    {
     "name": "stdout",
     "output_type": "stream",
     "text": [
      "Number of contracts: 1535\n"
     ]
    }
   ],
   "source": [
    "contracts['Text_by_Paragraph'] = contracts['Contract_Text'].apply(get_paragraphs)\n",
    "contracts['Num Paragraphs'] = contracts['Text_by_Paragraph'].apply(len)\n",
    "contracts = contracts[contracts['Num Paragraphs'] > 10].copy() # remove short documents\n",
    "print \"Number of contracts: \" + str(len(contracts))"
   ]
  },
  {
   "cell_type": "code",
   "execution_count": 9,
   "metadata": {
    "collapsed": true
   },
   "outputs": [],
   "source": [
    "contracts_by_para = pd.DataFrame()\n",
    "temp = []\n",
    "for index, row in contracts.iterrows():\n",
    "    i = 1\n",
    "    for para in row['Text_by_Paragraph']:\n",
    "        temp.append({'OCID':row['OCID'],\n",
    "                'Source':row['Source'],\n",
    "                'Language':row['Language'],\n",
    "                'Country Name':row['Country Name'],\n",
    "                'Resource':row['Resource'],\n",
    "                'Contract Type':row['Contract Type'],\n",
    "                'Document Type':row['Document Type'],\n",
    "                'Paragraph_Num':i,\n",
    "                'Paragraph_Text': para})\n",
    "        i += 1\n",
    "contracts_by_para = pd.DataFrame(temp)"
   ]
  },
  {
   "cell_type": "code",
   "execution_count": 10,
   "metadata": {
    "collapsed": true
   },
   "outputs": [],
   "source": [
    "contracts_by_para['Clean_Paragraph_Text'] = contracts_by_para['Paragraph_Text'].apply(strip_tags)"
   ]
  },
  {
   "cell_type": "code",
   "execution_count": 11,
   "metadata": {
    "collapsed": true
   },
   "outputs": [],
   "source": [
    "characters_to_replace = ['\\xef','\\xbb','\\xbf','\\r','\\n']\n",
    "for char in characters_to_replace:\n",
    "    contracts_by_para['Clean_Paragraph_Text'] = contracts_by_para['Clean_Paragraph_Text'].str.replace(char,\" \")\n",
    "contracts_by_para.drop('Paragraph_Text',axis=1,inplace=True)"
   ]
  },
  {
   "cell_type": "code",
   "execution_count": 12,
   "metadata": {
    "collapsed": false
   },
   "outputs": [
    {
     "name": "stdout",
     "output_type": "stream",
     "text": [
      "397761\n"
     ]
    }
   ],
   "source": [
    "# drop blank and integer paragraphs and contracts less than 4 words\n",
    "contracts_by_para.dropna(subset=['Clean_Paragraph_Text'],inplace=True)\n",
    "contracts_by_para = contracts_by_para[contracts_by_para['Clean_Paragraph_Text'].apply(lambda x: type(x)!=int)].copy()\n",
    "contracts_by_para = contracts_by_para[contracts_by_para['Clean_Paragraph_Text'].apply(lambda x: len(x.split()) > 5)].copy()\n",
    "print len(contracts_by_para)"
   ]
  },
  {
   "cell_type": "code",
   "execution_count": 13,
   "metadata": {
    "collapsed": true
   },
   "outputs": [],
   "source": [
    "# contracts_by_para['TextLength'] = contracts_by_para['Clean_Paragraph_Text'].str.len()"
   ]
  },
  {
   "cell_type": "code",
   "execution_count": 16,
   "metadata": {
    "collapsed": false
   },
   "outputs": [
    {
     "data": {
      "text/html": [
       "<div>\n",
       "<style>\n",
       "    .dataframe thead tr:only-child th {\n",
       "        text-align: right;\n",
       "    }\n",
       "\n",
       "    .dataframe thead th {\n",
       "        text-align: left;\n",
       "    }\n",
       "\n",
       "    .dataframe tbody tr th {\n",
       "        vertical-align: top;\n",
       "    }\n",
       "</style>\n",
       "<table border=\"1\" class=\"dataframe\">\n",
       "  <thead>\n",
       "    <tr style=\"text-align: right;\">\n",
       "      <th></th>\n",
       "      <th>Contract Type</th>\n",
       "      <th>Country Name</th>\n",
       "      <th>Document Type</th>\n",
       "      <th>Language</th>\n",
       "      <th>OCID</th>\n",
       "      <th>Paragraph_Num</th>\n",
       "      <th>Resource</th>\n",
       "      <th>Source</th>\n",
       "      <th>Clean_Paragraph_Text</th>\n",
       "    </tr>\n",
       "  </thead>\n",
       "  <tbody>\n",
       "    <tr>\n",
       "      <th>1</th>\n",
       "      <td>Concession Agreement</td>\n",
       "      <td>Mongolia</td>\n",
       "      <td>Contract</td>\n",
       "      <td>en</td>\n",
       "      <td>ocds-591adf-3757991515</td>\n",
       "      <td>2</td>\n",
       "      <td>Copper;Gold;Molybdenum;Silver</td>\n",
       "      <td>rc</td>\n",
       "      <td>BETWEEN THE GOVERNMENT OF MONGOLIA AND IVANHOE...</td>\n",
       "    </tr>\n",
       "    <tr>\n",
       "      <th>3</th>\n",
       "      <td>Concession Agreement</td>\n",
       "      <td>Mongolia</td>\n",
       "      <td>Contract</td>\n",
       "      <td>en</td>\n",
       "      <td>ocds-591adf-3757991515</td>\n",
       "      <td>4</td>\n",
       "      <td>Copper;Gold;Molybdenum;Silver</td>\n",
       "      <td>rc</td>\n",
       "      <td>In accordance with Article 29 of the Minerals ...</td>\n",
       "    </tr>\n",
       "    <tr>\n",
       "      <th>5</th>\n",
       "      <td>Concession Agreement</td>\n",
       "      <td>Mongolia</td>\n",
       "      <td>Contract</td>\n",
       "      <td>en</td>\n",
       "      <td>ocds-591adf-3757991515</td>\n",
       "      <td>6</td>\n",
       "      <td>Copper;Gold;Molybdenum;Silver</td>\n",
       "      <td>rc</td>\n",
       "      <td>Parties during the period of exploring, minin...</td>\n",
       "    </tr>\n",
       "    <tr>\n",
       "      <th>9</th>\n",
       "      <td>Concession Agreement</td>\n",
       "      <td>Mongolia</td>\n",
       "      <td>Contract</td>\n",
       "      <td>en</td>\n",
       "      <td>ocds-591adf-3757991515</td>\n",
       "      <td>10</td>\n",
       "      <td>Copper;Gold;Molybdenum;Silver</td>\n",
       "      <td>rc</td>\n",
       "      <td>Except as provided by Clause 15.26, this Agree...</td>\n",
       "    </tr>\n",
       "    <tr>\n",
       "      <th>11</th>\n",
       "      <td>Concession Agreement</td>\n",
       "      <td>Mongolia</td>\n",
       "      <td>Contract</td>\n",
       "      <td>en</td>\n",
       "      <td>ocds-591adf-3757991515</td>\n",
       "      <td>12</td>\n",
       "      <td>Copper;Gold;Molybdenum;Silver</td>\n",
       "      <td>rc</td>\n",
       "      <td>The Investor shall have a right to apply for a...</td>\n",
       "    </tr>\n",
       "    <tr>\n",
       "      <th>13</th>\n",
       "      <td>Concession Agreement</td>\n",
       "      <td>Mongolia</td>\n",
       "      <td>Contract</td>\n",
       "      <td>en</td>\n",
       "      <td>ocds-591adf-3757991515</td>\n",
       "      <td>14</td>\n",
       "      <td>Copper;Gold;Molybdenum;Silver</td>\n",
       "      <td>rc</td>\n",
       "      <td>Except as provided by Clause 2.24.2, Taxes pay...</td>\n",
       "    </tr>\n",
       "    <tr>\n",
       "      <th>15</th>\n",
       "      <td>Concession Agreement</td>\n",
       "      <td>Mongolia</td>\n",
       "      <td>Contract</td>\n",
       "      <td>en</td>\n",
       "      <td>ocds-591adf-3757991515</td>\n",
       "      <td>16</td>\n",
       "      <td>Copper;Gold;Molybdenum;Silver</td>\n",
       "      <td>rc</td>\n",
       "      <td>The Investor is hereby granted the rights to m...</td>\n",
       "    </tr>\n",
       "    <tr>\n",
       "      <th>17</th>\n",
       "      <td>Concession Agreement</td>\n",
       "      <td>Mongolia</td>\n",
       "      <td>Contract</td>\n",
       "      <td>en</td>\n",
       "      <td>ocds-591adf-3757991515</td>\n",
       "      <td>18</td>\n",
       "      <td>Copper;Gold;Molybdenum;Silver</td>\n",
       "      <td>rc</td>\n",
       "      <td>This Agreement applies to the whole range of t...</td>\n",
       "    </tr>\n",
       "    <tr>\n",
       "      <th>19</th>\n",
       "      <td>Concession Agreement</td>\n",
       "      <td>Mongolia</td>\n",
       "      <td>Contract</td>\n",
       "      <td>en</td>\n",
       "      <td>ocds-591adf-3757991515</td>\n",
       "      <td>20</td>\n",
       "      <td>Copper;Gold;Molybdenum;Silver</td>\n",
       "      <td>rc</td>\n",
       "      <td>The State shall own 34% (thirty four percent) ...</td>\n",
       "    </tr>\n",
       "    <tr>\n",
       "      <th>21</th>\n",
       "      <td>Concession Agreement</td>\n",
       "      <td>Mongolia</td>\n",
       "      <td>Contract</td>\n",
       "      <td>en</td>\n",
       "      <td>ocds-591adf-3757991515</td>\n",
       "      <td>22</td>\n",
       "      <td>Copper;Gold;Molybdenum;Silver</td>\n",
       "      <td>rc</td>\n",
       "      <td>The Investor shall use its best endeavours in ...</td>\n",
       "    </tr>\n",
       "  </tbody>\n",
       "</table>\n",
       "</div>"
      ],
      "text/plain": [
       "           Contract Type Country Name Document Type Language  \\\n",
       "1   Concession Agreement     Mongolia      Contract       en   \n",
       "3   Concession Agreement     Mongolia      Contract       en   \n",
       "5   Concession Agreement     Mongolia      Contract       en   \n",
       "9   Concession Agreement     Mongolia      Contract       en   \n",
       "11  Concession Agreement     Mongolia      Contract       en   \n",
       "13  Concession Agreement     Mongolia      Contract       en   \n",
       "15  Concession Agreement     Mongolia      Contract       en   \n",
       "17  Concession Agreement     Mongolia      Contract       en   \n",
       "19  Concession Agreement     Mongolia      Contract       en   \n",
       "21  Concession Agreement     Mongolia      Contract       en   \n",
       "\n",
       "                      OCID  Paragraph_Num                       Resource  \\\n",
       "1   ocds-591adf-3757991515              2  Copper;Gold;Molybdenum;Silver   \n",
       "3   ocds-591adf-3757991515              4  Copper;Gold;Molybdenum;Silver   \n",
       "5   ocds-591adf-3757991515              6  Copper;Gold;Molybdenum;Silver   \n",
       "9   ocds-591adf-3757991515             10  Copper;Gold;Molybdenum;Silver   \n",
       "11  ocds-591adf-3757991515             12  Copper;Gold;Molybdenum;Silver   \n",
       "13  ocds-591adf-3757991515             14  Copper;Gold;Molybdenum;Silver   \n",
       "15  ocds-591adf-3757991515             16  Copper;Gold;Molybdenum;Silver   \n",
       "17  ocds-591adf-3757991515             18  Copper;Gold;Molybdenum;Silver   \n",
       "19  ocds-591adf-3757991515             20  Copper;Gold;Molybdenum;Silver   \n",
       "21  ocds-591adf-3757991515             22  Copper;Gold;Molybdenum;Silver   \n",
       "\n",
       "   Source                               Clean_Paragraph_Text  \n",
       "1      rc  BETWEEN THE GOVERNMENT OF MONGOLIA AND IVANHOE...  \n",
       "3      rc  In accordance with Article 29 of the Minerals ...  \n",
       "5      rc  \f",
       "Parties during the period of exploring, minin...  \n",
       "9      rc  Except as provided by Clause 15.26, this Agree...  \n",
       "11     rc  The Investor shall have a right to apply for a...  \n",
       "13     rc  Except as provided by Clause 2.24.2, Taxes pay...  \n",
       "15     rc  The Investor is hereby granted the rights to m...  \n",
       "17     rc  This Agreement applies to the whole range of t...  \n",
       "19     rc  The State shall own 34% (thirty four percent) ...  \n",
       "21     rc  The Investor shall use its best endeavours in ...  "
      ]
     },
     "execution_count": 16,
     "metadata": {},
     "output_type": "execute_result"
    }
   ],
   "source": [
    "contracts_by_para.head(10)"
   ]
  },
  {
   "cell_type": "code",
   "execution_count": 17,
   "metadata": {
    "collapsed": true
   },
   "outputs": [],
   "source": [
    "# Remove unsupported languages\n",
    "contracts_by_para = contracts_by_para[contracts_by_para['Language'].isin(supported_languages)].copy()"
   ]
  },
  {
   "cell_type": "code",
   "execution_count": 19,
   "metadata": {
    "collapsed": true
   },
   "outputs": [],
   "source": [
    "for lang in supported_languages:\n",
    "    df = contracts_by_para[contracts_by_para['Language'] == lang]\n",
    "    df.to_pickle('contract_data/cleaned_unannotated_contracts_by_paragraph_'+ lang + '.pkl')"
   ]
  },
  {
   "cell_type": "code",
   "execution_count": 21,
   "metadata": {
    "collapsed": false
   },
   "outputs": [
    {
     "name": "stdout",
     "output_type": "stream",
     "text": [
      "en    252816\n",
      "fr     77142\n",
      "es     58614\n",
      "Name: Language, dtype: int64\n"
     ]
    }
   ],
   "source": [
    "print contracts_by_para['Language'].value_counts()"
   ]
  },
  {
   "cell_type": "code",
   "execution_count": null,
   "metadata": {
    "collapsed": true
   },
   "outputs": [],
   "source": []
  }
 ],
 "metadata": {
  "anaconda-cloud": {},
  "kernelspec": {
   "display_name": "Python [Root]",
   "language": "python",
   "name": "Python [Root]"
  },
  "language_info": {
   "codemirror_mode": {
    "name": "ipython",
    "version": 2
   },
   "file_extension": ".py",
   "mimetype": "text/x-python",
   "name": "python",
   "nbconvert_exporter": "python",
   "pygments_lexer": "ipython2",
   "version": "2.7.12"
  }
 },
 "nbformat": 4,
 "nbformat_minor": 1
}
