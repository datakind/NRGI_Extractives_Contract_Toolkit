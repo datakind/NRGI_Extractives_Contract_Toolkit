{
 "cells": [
  {
   "cell_type": "markdown",
   "metadata": {},
   "source": [
    "![alt text](DataKind_orange.png)"
   ]
  },
  {
   "cell_type": "markdown",
   "metadata": {},
   "source": [
    "# NRGI Extractives Contracts\n",
    "## Clean Contract Text\n",
    "### 1. Reads in contract text\n",
    "### 2. Parses by paragraph\n",
    "### 3. Strips HTML from text\n",
    "### 4. Outputs pickled dataframe ready for featurization and modeling"
   ]
  },
  {
   "cell_type": "code",
   "execution_count": 1,
   "metadata": {
    "collapsed": true
   },
   "outputs": [],
   "source": [
    "import re\n",
    "import string\n",
    "import pandas as pd\n",
    "from HTMLParser import HTMLParser\n",
    "import nltk\n",
    "from nltk.corpus import stopwords\n",
    "from langdetect import detect\n",
    "\n",
    "import warnings\n",
    "with warnings.catch_warnings():\n",
    "    warnings.filterwarnings(\"ignore\",category=DeprecationWarning)\n",
    "import matplotlib.pylab as plt\n",
    "import seaborn as sns\n",
    "%matplotlib inline"
   ]
  },
  {
   "cell_type": "code",
   "execution_count": 3,
   "metadata": {
    "collapsed": true
   },
   "outputs": [],
   "source": [
    "rc_contracts = pd.read_pickle('contract_data/resource_contracts_with_text.pkl')\n",
    "rc_contracts['Source'] = 'rc'\n",
    "ol_contracts = pd.read_pickle('contract_data/openland_contracts_with_text.pkl')\n",
    "ol_contracts['Source'] = 'ol'\n",
    "outfile = 'contract_data/cleaned_contracts.pkl'"
   ]
  },
  {
   "cell_type": "code",
   "execution_count": 4,
   "metadata": {},
   "outputs": [
    {
     "name": "stdout",
     "output_type": "stream",
     "text": [
      "Number of contracts: 1689\n"
     ]
    }
   ],
   "source": [
    "contracts = pd.concat([rc_contracts,ol_contracts])\n",
    "print \"Number of contracts: \" + str(len(contracts))"
   ]
  },
  {
   "cell_type": "markdown",
   "metadata": {},
   "source": [
    "### Parse by paragraph, strip HTML, carriage returns, newline characters"
   ]
  },
  {
   "cell_type": "code",
   "execution_count": 461,
   "metadata": {
    "collapsed": true
   },
   "outputs": [],
   "source": [
    "def get_paragraphs(text):\n",
    "    text = re.sub(' +',' ',text)\n",
    "    splitters = [r'<br \\/><br \\/>\\r\\n<br \\/><br \\/>\\r\\n',\n",
    "                 r'<br \\/><br \\/>\\n<br \\/><br \\/>\\n',\n",
    "                 r'\\b\\. <br \\/>\\r<br \\/><br \\/>\\n',\n",
    "                 r'</div><div><br></div><div>',\n",
    "                 r'\\b\\.<br><br>',\n",
    "                 r'<br \\/>\\n<br><br><br \\/>\\n',\n",
    "                 r'<br><br \\/>\\n<br><br \\/>\\n',\n",
    "                 r'\\b\\.\\n\\n',\n",
    "                 r'; <br />\\n<br><br />\\n ']\n",
    "    splitter_counts = {}\n",
    "    for splitter in splitters:\n",
    "        splitter_counts[splitter] = re.findall(splitter,text)\n",
    "    maxsplitter = max(splitter_counts,key=splitter_counts.get)\n",
    "    paras = re.split(maxsplitter, text)\n",
    "    if maxsplitter in [r'\\b. <br \\/>\\r<br \\/><br \\/>\\n',r'\\b.<br><br>',r'\\b\\.\\n\\n']:\n",
    "        paras = [para.strip() + '.' for para in paras]\n",
    "    return paras"
   ]
  },
  {
   "cell_type": "code",
   "execution_count": 233,
   "metadata": {
    "collapsed": true
   },
   "outputs": [],
   "source": [
    "class MLStripper(HTMLParser):\n",
    "    def __init__(self):\n",
    "        self.reset()\n",
    "        self.fed = []\n",
    "    def handle_data(self, d):\n",
    "        self.fed.append(d)\n",
    "    def get_data(self):\n",
    "        return ''.join(self.fed)\n",
    "\n",
    "def strip_tags(html):\n",
    "    s = MLStripper()\n",
    "    s.feed(html)\n",
    "    return s.get_data()"
   ]
  },
  {
   "cell_type": "code",
   "execution_count": 510,
   "metadata": {},
   "outputs": [
    {
     "name": "stdout",
     "output_type": "stream",
     "text": [
      "Number of contracts: 1535\n"
     ]
    }
   ],
   "source": [
    "contracts['Text_by_Paragraph'] = contracts['Contract_Text'].apply(get_paragraphs)\n",
    "contracts['Num Paragraphs'] = contracts['Text_by_Paragraph'].apply(len)\n",
    "contracts = contracts[contracts['Num Paragraphs'] > 10].copy() # remove short documents\n",
    "print \"Number of contracts: \" + str(len(contracts))"
   ]
  },
  {
   "cell_type": "code",
   "execution_count": 528,
   "metadata": {
    "collapsed": true
   },
   "outputs": [],
   "source": [
    "contracts_by_para = pd.DataFrame()\n",
    "temp = []\n",
    "for index, row in contracts.iterrows():\n",
    "    i = 1\n",
    "    for para in row['Text_by_Paragraph']:\n",
    "        temp.append({'OCID':row['OCID'],\n",
    "                'Source':row['Source'],\n",
    "                'Language':row['Language'],\n",
    "                'Country Name':row['Country Name'],\n",
    "                'Resource':row['Resource'],\n",
    "                'Contract Type':row['Contract Type'],\n",
    "                'Document Type':row['Document Type'],\n",
    "                'Paragraph_Num':i,\n",
    "                'Paragraph_Text': para})\n",
    "        i += 1\n",
    "contracts_by_para = pd.DataFrame(temp)"
   ]
  },
  {
   "cell_type": "code",
   "execution_count": 529,
   "metadata": {
    "collapsed": true
   },
   "outputs": [],
   "source": [
    "contracts_by_para['Clean_Paragraph_Text'] = contracts_by_para['Paragraph_Text'].apply(strip_tags)"
   ]
  },
  {
   "cell_type": "code",
   "execution_count": 530,
   "metadata": {
    "collapsed": true
   },
   "outputs": [],
   "source": [
    "characters_to_replace = ['\\xef','\\xbb','\\xbf','\\r','\\n']\n",
    "for char in characters_to_replace:\n",
    "    contracts_by_para['Clean_Paragraph_Text'] = contracts_by_para['Clean_Paragraph_Text'].str.replace(char,\" \")"
   ]
  },
  {
   "cell_type": "code",
   "execution_count": 531,
   "metadata": {
    "collapsed": true
   },
   "outputs": [],
   "source": [
    "contracts_by_para['TextLength'] = contracts_by_para['Clean_Paragraph_Text'].str.len()"
   ]
  },
  {
   "cell_type": "code",
   "execution_count": 532,
   "metadata": {},
   "outputs": [
    {
     "data": {
      "text/html": [
       "<div>\n",
       "<style>\n",
       "    .dataframe thead tr:only-child th {\n",
       "        text-align: right;\n",
       "    }\n",
       "\n",
       "    .dataframe thead th {\n",
       "        text-align: left;\n",
       "    }\n",
       "\n",
       "    .dataframe tbody tr th {\n",
       "        vertical-align: top;\n",
       "    }\n",
       "</style>\n",
       "<table border=\"1\" class=\"dataframe\">\n",
       "  <thead>\n",
       "    <tr style=\"text-align: right;\">\n",
       "      <th></th>\n",
       "      <th>Contract Type</th>\n",
       "      <th>Country Name</th>\n",
       "      <th>Document Type</th>\n",
       "      <th>Language</th>\n",
       "      <th>OCID</th>\n",
       "      <th>Paragraph_Num</th>\n",
       "      <th>Paragraph_Text</th>\n",
       "      <th>Resource</th>\n",
       "      <th>Source</th>\n",
       "      <th>Clean_Paragraph_Text</th>\n",
       "      <th>TextLength</th>\n",
       "    </tr>\n",
       "  </thead>\n",
       "  <tbody>\n",
       "    <tr>\n",
       "      <th>0</th>\n",
       "      <td>Concession Agreement</td>\n",
       "      <td>Mongolia</td>\n",
       "      <td>Contract</td>\n",
       "      <td>en</td>\n",
       "      <td>ocds-591adf-3757991515</td>\n",
       "      <td>1</td>\n",
       "      <td>INVESTMENT AGREEMENT</td>\n",
       "      <td>Copper;Gold;Molybdenum;Silver</td>\n",
       "      <td>rc</td>\n",
       "      <td>INVESTMENT AGREEMENT</td>\n",
       "      <td>20</td>\n",
       "    </tr>\n",
       "    <tr>\n",
       "      <th>1</th>\n",
       "      <td>Concession Agreement</td>\n",
       "      <td>Mongolia</td>\n",
       "      <td>Contract</td>\n",
       "      <td>en</td>\n",
       "      <td>ocds-591adf-3757991515</td>\n",
       "      <td>2</td>\n",
       "      <td>BETWEEN&lt;br /&gt;&lt;br /&gt;\\nTHE GOVERNMENT OF MONGOLIA&lt;br /&gt;&lt;br /&gt;\\nAND&lt;br /&gt;&lt;br /&gt;\\nIVANHOE MINES MONGOLIA INC LLC&lt;br /&gt;&lt;br /&gt;\\nAND&lt;br /&gt;&lt;br /&gt;\\nIVANHOE MINES LTD&lt;br /&gt;&lt;br /&gt;\\nAND&lt;br /&gt;&lt;br /&gt;\\nRIO TINTO...</td>\n",
       "      <td>Copper;Gold;Molybdenum;Silver</td>\n",
       "      <td>rc</td>\n",
       "      <td>BETWEEN THE GOVERNMENT OF MONGOLIA AND IVANHOE MINES MONGOLIA INC LLC AND IVANHOE MINES LTD AND RIO TINTO INTERNATIONAL HOLDINGS LIMITED</td>\n",
       "      <td>136</td>\n",
       "    </tr>\n",
       "    <tr>\n",
       "      <th>2</th>\n",
       "      <td>Concession Agreement</td>\n",
       "      <td>Mongolia</td>\n",
       "      <td>Contract</td>\n",
       "      <td>en</td>\n",
       "      <td>ocds-591adf-3757991515</td>\n",
       "      <td>3</td>\n",
       "      <td>INVESTMENT AGREEMENT</td>\n",
       "      <td>Copper;Gold;Molybdenum;Silver</td>\n",
       "      <td>rc</td>\n",
       "      <td>INVESTMENT AGREEMENT</td>\n",
       "      <td>21</td>\n",
       "    </tr>\n",
       "    <tr>\n",
       "      <th>3</th>\n",
       "      <td>Concession Agreement</td>\n",
       "      <td>Mongolia</td>\n",
       "      <td>Contract</td>\n",
       "      <td>en</td>\n",
       "      <td>ocds-591adf-3757991515</td>\n",
       "      <td>4</td>\n",
       "      <td>In accordance with Article 29 of the Minerals Law of Mongolia (hereinafter referred to as the&lt;br /&gt;&lt;br /&gt;\\n“Minerals Law”), Resolution Number 40 dated 4 December 2008 and Resolution Number 57&lt;br /...</td>\n",
       "      <td>Copper;Gold;Molybdenum;Silver</td>\n",
       "      <td>rc</td>\n",
       "      <td>In accordance with Article 29 of the Minerals Law of Mongolia (hereinafter referred to as the “Minerals Law”), Resolution Number 40 dated 4 December 2008 and Resolution Number 57 dated 16 July 200...</td>\n",
       "      <td>2059</td>\n",
       "    </tr>\n",
       "    <tr>\n",
       "      <th>4</th>\n",
       "      <td>Concession Agreement</td>\n",
       "      <td>Mongolia</td>\n",
       "      <td>Contract</td>\n",
       "      <td>en</td>\n",
       "      <td>ocds-591adf-3757991515</td>\n",
       "      <td>5</td>\n",
       "      <td>Page 1</td>\n",
       "      <td>Copper;Gold;Molybdenum;Silver</td>\n",
       "      <td>rc</td>\n",
       "      <td>Page 1</td>\n",
       "      <td>6</td>\n",
       "    </tr>\n",
       "    <tr>\n",
       "      <th>5</th>\n",
       "      <td>Concession Agreement</td>\n",
       "      <td>Mongolia</td>\n",
       "      <td>Contract</td>\n",
       "      <td>en</td>\n",
       "      <td>ocds-591adf-3757991515</td>\n",
       "      <td>6</td>\n",
       "      <td>Parties during the period of exploring, mining and processing operations within the&lt;br /&gt;&lt;br /&gt;\\nContract Area;&lt;br /&gt;&lt;br /&gt;\\nResolution Number 57 of the State Great Khural dated 16 July 2009 has ...</td>\n",
       "      <td>Copper;Gold;Molybdenum;Silver</td>\n",
       "      <td>rc</td>\n",
       "      <td>Parties during the period of exploring, mining and processing operations within the Contract Area; Resolution Number 57 of the State Great Khural dated 16 July 2009 has resolved to authorise the ...</td>\n",
       "      <td>373</td>\n",
       "    </tr>\n",
       "    <tr>\n",
       "      <th>6</th>\n",
       "      <td>Concession Agreement</td>\n",
       "      <td>Mongolia</td>\n",
       "      <td>Contract</td>\n",
       "      <td>en</td>\n",
       "      <td>ocds-591adf-3757991515</td>\n",
       "      <td>7</td>\n",
       "      <td>1.</td>\n",
       "      <td>Copper;Gold;Molybdenum;Silver</td>\n",
       "      <td>rc</td>\n",
       "      <td>1.</td>\n",
       "      <td>2</td>\n",
       "    </tr>\n",
       "    <tr>\n",
       "      <th>7</th>\n",
       "      <td>Concession Agreement</td>\n",
       "      <td>Mongolia</td>\n",
       "      <td>Contract</td>\n",
       "      <td>en</td>\n",
       "      <td>ocds-591adf-3757991515</td>\n",
       "      <td>8</td>\n",
       "      <td>CHAPTER ONE: GENERAL</td>\n",
       "      <td>Copper;Gold;Molybdenum;Silver</td>\n",
       "      <td>rc</td>\n",
       "      <td>CHAPTER ONE: GENERAL</td>\n",
       "      <td>20</td>\n",
       "    </tr>\n",
       "    <tr>\n",
       "      <th>8</th>\n",
       "      <td>Concession Agreement</td>\n",
       "      <td>Mongolia</td>\n",
       "      <td>Contract</td>\n",
       "      <td>en</td>\n",
       "      <td>ocds-591adf-3757991515</td>\n",
       "      <td>9</td>\n",
       "      <td>1.1.</td>\n",
       "      <td>Copper;Gold;Molybdenum;Silver</td>\n",
       "      <td>rc</td>\n",
       "      <td>1.1.</td>\n",
       "      <td>4</td>\n",
       "    </tr>\n",
       "    <tr>\n",
       "      <th>9</th>\n",
       "      <td>Concession Agreement</td>\n",
       "      <td>Mongolia</td>\n",
       "      <td>Contract</td>\n",
       "      <td>en</td>\n",
       "      <td>ocds-591adf-3757991515</td>\n",
       "      <td>10</td>\n",
       "      <td>Except as provided by Clause 15.26, this Agreement shall come into effect on and from&lt;br /&gt;&lt;br /&gt;\\nthe Effective Date and remain in effect, in accordance with Article 29.3 of the Minerals&lt;br /&gt;&lt;br...</td>\n",
       "      <td>Copper;Gold;Molybdenum;Silver</td>\n",
       "      <td>rc</td>\n",
       "      <td>Except as provided by Clause 15.26, this Agreement shall come into effect on and from the Effective Date and remain in effect, in accordance with Article 29.3 of the Minerals Law, for an initial p...</td>\n",
       "      <td>223</td>\n",
       "    </tr>\n",
       "  </tbody>\n",
       "</table>\n",
       "</div>"
      ],
      "text/plain": [
       "          Contract Type Country Name Document Type Language  \\\n",
       "0  Concession Agreement     Mongolia      Contract       en   \n",
       "1  Concession Agreement     Mongolia      Contract       en   \n",
       "2  Concession Agreement     Mongolia      Contract       en   \n",
       "3  Concession Agreement     Mongolia      Contract       en   \n",
       "4  Concession Agreement     Mongolia      Contract       en   \n",
       "5  Concession Agreement     Mongolia      Contract       en   \n",
       "6  Concession Agreement     Mongolia      Contract       en   \n",
       "7  Concession Agreement     Mongolia      Contract       en   \n",
       "8  Concession Agreement     Mongolia      Contract       en   \n",
       "9  Concession Agreement     Mongolia      Contract       en   \n",
       "\n",
       "                     OCID  Paragraph_Num  \\\n",
       "0  ocds-591adf-3757991515              1   \n",
       "1  ocds-591adf-3757991515              2   \n",
       "2  ocds-591adf-3757991515              3   \n",
       "3  ocds-591adf-3757991515              4   \n",
       "4  ocds-591adf-3757991515              5   \n",
       "5  ocds-591adf-3757991515              6   \n",
       "6  ocds-591adf-3757991515              7   \n",
       "7  ocds-591adf-3757991515              8   \n",
       "8  ocds-591adf-3757991515              9   \n",
       "9  ocds-591adf-3757991515             10   \n",
       "\n",
       "                                                                                                                                                                                            Paragraph_Text  \\\n",
       "0                                                                                                                                                                                     INVESTMENT AGREEMENT   \n",
       "1  BETWEEN<br /><br />\\nTHE GOVERNMENT OF MONGOLIA<br /><br />\\nAND<br /><br />\\nIVANHOE MINES MONGOLIA INC LLC<br /><br />\\nAND<br /><br />\\nIVANHOE MINES LTD<br /><br />\\nAND<br /><br />\\nRIO TINTO...   \n",
       "2                                                                                                                                                                                    \f",
       "INVESTMENT AGREEMENT   \n",
       "3  In accordance with Article 29 of the Minerals Law of Mongolia (hereinafter referred to as the<br /><br />\\n“Minerals Law”), Resolution Number 40 dated 4 December 2008 and Resolution Number 57<br /...   \n",
       "4                                                                                                                                                                                                   Page 1   \n",
       "5  \f",
       "Parties during the period of exploring, mining and processing operations within the<br /><br />\\nContract Area;<br /><br />\\nResolution Number 57 of the State Great Khural dated 16 July 2009 has ...   \n",
       "6                                                                                                                                                                                                       1.   \n",
       "7                                                                                                                                                                                     CHAPTER ONE: GENERAL   \n",
       "8                                                                                                                                                                                                     1.1.   \n",
       "9  Except as provided by Clause 15.26, this Agreement shall come into effect on and from<br /><br />\\nthe Effective Date and remain in effect, in accordance with Article 29.3 of the Minerals<br /><br...   \n",
       "\n",
       "                        Resource Source  \\\n",
       "0  Copper;Gold;Molybdenum;Silver     rc   \n",
       "1  Copper;Gold;Molybdenum;Silver     rc   \n",
       "2  Copper;Gold;Molybdenum;Silver     rc   \n",
       "3  Copper;Gold;Molybdenum;Silver     rc   \n",
       "4  Copper;Gold;Molybdenum;Silver     rc   \n",
       "5  Copper;Gold;Molybdenum;Silver     rc   \n",
       "6  Copper;Gold;Molybdenum;Silver     rc   \n",
       "7  Copper;Gold;Molybdenum;Silver     rc   \n",
       "8  Copper;Gold;Molybdenum;Silver     rc   \n",
       "9  Copper;Gold;Molybdenum;Silver     rc   \n",
       "\n",
       "                                                                                                                                                                                      Clean_Paragraph_Text  \\\n",
       "0                                                                                                                                                                                     INVESTMENT AGREEMENT   \n",
       "1                                                                 BETWEEN THE GOVERNMENT OF MONGOLIA AND IVANHOE MINES MONGOLIA INC LLC AND IVANHOE MINES LTD AND RIO TINTO INTERNATIONAL HOLDINGS LIMITED   \n",
       "2                                                                                                                                                                                    \f",
       "INVESTMENT AGREEMENT   \n",
       "3  In accordance with Article 29 of the Minerals Law of Mongolia (hereinafter referred to as the “Minerals Law”), Resolution Number 40 dated 4 December 2008 and Resolution Number 57 dated 16 July 200...   \n",
       "4                                                                                                                                                                                                   Page 1   \n",
       "5  \f",
       "Parties during the period of exploring, mining and processing operations within the Contract Area; Resolution Number 57 of the State Great Khural dated 16 July 2009 has resolved to authorise the ...   \n",
       "6                                                                                                                                                                                                       1.   \n",
       "7                                                                                                                                                                                     CHAPTER ONE: GENERAL   \n",
       "8                                                                                                                                                                                                     1.1.   \n",
       "9  Except as provided by Clause 15.26, this Agreement shall come into effect on and from the Effective Date and remain in effect, in accordance with Article 29.3 of the Minerals Law, for an initial p...   \n",
       "\n",
       "   TextLength  \n",
       "0          20  \n",
       "1         136  \n",
       "2          21  \n",
       "3        2059  \n",
       "4           6  \n",
       "5         373  \n",
       "6           2  \n",
       "7          20  \n",
       "8           4  \n",
       "9         223  "
      ]
     },
     "execution_count": 532,
     "metadata": {},
     "output_type": "execute_result"
    }
   ],
   "source": [
    "contracts_by_para.head(10)"
   ]
  },
  {
   "cell_type": "code",
   "execution_count": 533,
   "metadata": {
    "collapsed": true
   },
   "outputs": [],
   "source": [
    "contracts_by_para.to_pickle('contract_data/cleaned_unannotated_contracts_by_paragraph.pkl')"
   ]
  },
  {
   "cell_type": "code",
   "execution_count": 534,
   "metadata": {},
   "outputs": [
    {
     "name": "stdout",
     "output_type": "stream",
     "text": [
      "653133\n"
     ]
    }
   ],
   "source": [
    "print len(contracts_by_para)"
   ]
  },
  {
   "cell_type": "code",
   "execution_count": null,
   "metadata": {
    "collapsed": true
   },
   "outputs": [],
   "source": []
  }
 ],
 "metadata": {
  "anaconda-cloud": {},
  "kernelspec": {
   "display_name": "Python 2",
   "language": "python",
   "name": "python2"
  },
  "language_info": {
   "codemirror_mode": {
    "name": "ipython",
    "version": 2
   },
   "file_extension": ".py",
   "mimetype": "text/x-python",
   "name": "python",
   "nbconvert_exporter": "python",
   "pygments_lexer": "ipython2",
   "version": "2.7.13"
  }
 },
 "nbformat": 4,
 "nbformat_minor": 1
}
