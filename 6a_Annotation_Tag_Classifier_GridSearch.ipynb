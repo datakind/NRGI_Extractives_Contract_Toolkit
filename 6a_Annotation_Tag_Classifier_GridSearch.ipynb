{
 "cells": [
  {
   "cell_type": "markdown",
   "metadata": {},
   "source": [
    "![alt text](DataKind_orange.png)"
   ]
  },
  {
   "cell_type": "markdown",
   "metadata": {},
   "source": [
    "### Performs grid search for binary classification of Stabilization and Royalties clauses"
   ]
  },
  {
   "cell_type": "code",
   "execution_count": 1,
   "metadata": {
    "collapsed": true
   },
   "outputs": [],
   "source": [
    "import os, io\n",
    "from collections import Counter\n",
    "from itertools import product\n",
    "import requests\n",
    "import re, string\n",
    "import pandas as pd\n",
    "import numpy as np\n",
    "\n",
    "from sklearn.dummy import DummyClassifier\n",
    "from sklearn.linear_model import LogisticRegression\n",
    "from sklearn.tree import DecisionTreeClassifier\n",
    "from sklearn.ensemble import RandomForestClassifier, ExtraTreesClassifier\n",
    "from sklearn.multiclass import OneVsRestClassifier\n",
    "from sklearn.model_selection import train_test_split, cross_val_score, GridSearchCV\n",
    "from sklearn.metrics import accuracy_score, precision_score, recall_score, roc_auc_score, classification_report\n",
    "from sklearn.feature_extraction.text import TfidfVectorizer\n",
    "\n",
    "import nltk\n",
    "from nltk.corpus import stopwords\n",
    "from nltk.stem.snowball import SnowballStemmer\n",
    "from nltk import word_tokenize, pos_tag\n",
    "from textblob import TextBlob\n",
    "from textstat.textstat import textstat\n",
    "from langdetect import detect\n",
    "\n",
    "from IPython.display import display\n",
    "import matplotlib.pyplot as plt\n",
    "%matplotlib inline\n",
    "import seaborn as sns\n",
    "sns.set_context('notebook', rc={'figure.figsize': (10, 6)}, font_scale=1.5)"
   ]
  },
  {
   "cell_type": "code",
   "execution_count": 2,
   "metadata": {
    "collapsed": true
   },
   "outputs": [],
   "source": [
    "resource_folder = 'contract_data/Contracts_Annotations/resource_contracts/'\n",
    "land_folder = 'contract_data/Contracts_Annotations/openland_contracts/'\n",
    "folders = [resource_folder,land_folder]"
   ]
  },
  {
   "cell_type": "code",
   "execution_count": 3,
   "metadata": {
    "collapsed": true
   },
   "outputs": [],
   "source": [
    "labels = ['stabilization','royalties']\n",
    "n_folds = 3"
   ]
  },
  {
   "cell_type": "code",
   "execution_count": 4,
   "metadata": {
    "collapsed": true
   },
   "outputs": [],
   "source": [
    "# Languages must be supported by NLTK Snowball Stemmer and stopwords\n",
    "languages = ['english','french','spanish','italian','portuguese','dutch','swedish']\n",
    "s = requests.get('http://data.okfn.org/data/core/language-codes/r/language-codes.csv').content\n",
    "language_codes = pd.read_csv(io.StringIO(s.decode('utf-8')))\n",
    "language_codes.columns = ['language_code','Language']"
   ]
  },
  {
   "cell_type": "code",
   "execution_count": 5,
   "metadata": {},
   "outputs": [
    {
     "name": "stdout",
     "output_type": "stream",
     "text": [
      "Number of annotations: 20609\n"
     ]
    }
   ],
   "source": [
    "annotations = pd.DataFrame()\n",
    "for folder in folders:\n",
    "    xls_files = [f for f in os.listdir(folder) if f.lower().endswith('.xls')]\n",
    "    for xls in xls_files:\n",
    "        temp = pd.read_excel(folder + xls)\n",
    "        if len(temp) > 0:\n",
    "            temp['OCID'] = xls[:-4]\n",
    "            temp['Source'] = folder.split('/')[-2]\n",
    "            annotations = annotations.append(temp)\n",
    "print \"Number of annotations: \" + str(len(annotations))"
   ]
  },
  {
   "cell_type": "code",
   "execution_count": 6,
   "metadata": {},
   "outputs": [
    {
     "name": "stdout",
     "output_type": "stream",
     "text": [
      "20561\n",
      "16364\n"
     ]
    }
   ],
   "source": [
    "# drop blank annotations\n",
    "annotations.dropna(subset=['Annotation Text'],inplace=True)\n",
    "print len(annotations)\n",
    "# If duplicate text appears within the same contract, drop it\n",
    "annotations.drop_duplicates(['Annotation Text','OCID','Category'],inplace=True)\n",
    "print len(annotations)"
   ]
  },
  {
   "cell_type": "code",
   "execution_count": 7,
   "metadata": {
    "collapsed": true
   },
   "outputs": [],
   "source": [
    "labels = [label.lower() for label in labels]\n",
    "annotations['label'] = [x.lower() if x.lower() in labels else 'other' for x in annotations['Category']]"
   ]
  },
  {
   "cell_type": "code",
   "execution_count": 8,
   "metadata": {},
   "outputs": [
    {
     "name": "stdout",
     "output_type": "stream",
     "text": [
      "16181\n"
     ]
    }
   ],
   "source": [
    "# Given some duplicate text with different Category labels, keep the labels that are in our target label list when dropping\n",
    "sort_num = range(len(labels) + 1)\n",
    "sort_key = dict(zip(labels,sort_num))\n",
    "sort_key['other'] = sort_num[-1]\n",
    "annotations['sort_key'] = [sort_key[x] for x in annotations['label']]\n",
    "annotations.sort_values(by='sort_key',inplace=True,ascending=True)\n",
    "annotations.drop_duplicates(['Annotation Text','OCID'],keep='first',inplace=True)\n",
    "print len(annotations)"
   ]
  },
  {
   "cell_type": "code",
   "execution_count": 9,
   "metadata": {},
   "outputs": [
    {
     "name": "stdout",
     "output_type": "stream",
     "text": [
      "96.40% other\n",
      "2.07% royalties\n",
      "1.53% stabilization\n"
     ]
    }
   ],
   "source": [
    "y = list(annotations['label'])\n",
    "yunique = list(np.unique(y))\n",
    "for item in yunique:\n",
    "    print str(\"{0:.2f}%\".format(100*y.count(item) / float(len(y)))) + \" \" + item"
   ]
  },
  {
   "cell_type": "code",
   "execution_count": 10,
   "metadata": {
    "scrolled": false
   },
   "outputs": [
    {
     "data": {
      "text/html": [
       "<div>\n",
       "<style>\n",
       "    .dataframe thead tr:only-child th {\n",
       "        text-align: right;\n",
       "    }\n",
       "\n",
       "    .dataframe thead th {\n",
       "        text-align: left;\n",
       "    }\n",
       "\n",
       "    .dataframe tbody tr th {\n",
       "        vertical-align: top;\n",
       "    }\n",
       "</style>\n",
       "<table border=\"1\" class=\"dataframe\">\n",
       "  <thead>\n",
       "    <tr style=\"text-align: right;\">\n",
       "      <th></th>\n",
       "      <th>Category</th>\n",
       "      <th>Topic</th>\n",
       "      <th>Annotation Text</th>\n",
       "      <th>PDF Page Number</th>\n",
       "      <th>Article Reference</th>\n",
       "      <th>OCID</th>\n",
       "      <th>Source</th>\n",
       "      <th>label</th>\n",
       "      <th>sort_key</th>\n",
       "    </tr>\n",
       "  </thead>\n",
       "  <tbody>\n",
       "    <tr>\n",
       "      <th>23</th>\n",
       "      <td>Stabilization</td>\n",
       "      <td>Legal Rules</td>\n",
       "      <td>If, as a result of any change in the laws, rul...</td>\n",
       "      <td>30</td>\n",
       "      <td>Art. 18. 3</td>\n",
       "      <td>ocds-591adf-1990915353</td>\n",
       "      <td>resource_contracts</td>\n",
       "      <td>stabilization</td>\n",
       "      <td>0</td>\n",
       "    </tr>\n",
       "    <tr>\n",
       "      <th>29</th>\n",
       "      <td>Stabilization</td>\n",
       "      <td>Legal Rules</td>\n",
       "      <td>If a material change occurs to Phillips China ...</td>\n",
       "      <td>40</td>\n",
       "      <td>Art. 27.2</td>\n",
       "      <td>ocds-591adf-1706855956</td>\n",
       "      <td>resource_contracts</td>\n",
       "      <td>stabilization</td>\n",
       "      <td>0</td>\n",
       "    </tr>\n",
       "  </tbody>\n",
       "</table>\n",
       "</div>"
      ],
      "text/plain": [
       "         Category        Topic  \\\n",
       "23  Stabilization  Legal Rules   \n",
       "29  Stabilization  Legal Rules   \n",
       "\n",
       "                                      Annotation Text  PDF Page Number  \\\n",
       "23  If, as a result of any change in the laws, rul...               30   \n",
       "29  If a material change occurs to Phillips China ...               40   \n",
       "\n",
       "   Article Reference                    OCID              Source  \\\n",
       "23        Art. 18. 3  ocds-591adf-1990915353  resource_contracts   \n",
       "29         Art. 27.2  ocds-591adf-1706855956  resource_contracts   \n",
       "\n",
       "            label  sort_key  \n",
       "23  stabilization         0  \n",
       "29  stabilization         0  "
      ]
     },
     "execution_count": 10,
     "metadata": {},
     "output_type": "execute_result"
    }
   ],
   "source": [
    "annotations.head(2)"
   ]
  },
  {
   "cell_type": "code",
   "execution_count": 11,
   "metadata": {
    "collapsed": true
   },
   "outputs": [],
   "source": [
    "def punctuation_remove(text):\n",
    "    \"\"\"\n",
    "    Mutates and returns text where all punctuation besides underscores,\n",
    "    are replaced\n",
    "    \"\"\"\n",
    "    punctuation_re = r'[^\\w\\s_]'\n",
    "    new_text = nltk.regexp.re.sub(punctuation_re, ' ', text)\n",
    "    return new_text\n",
    "\n",
    "def replace_numbers(text):\n",
    "    ''' \n",
    "    Removes all characters but periods, commas and alpha-numeric and \n",
    "    returns all numeric values replace with the word numeric_value\n",
    "    '''\n",
    "    allowed = {\",\", \".\",\" \"}.union(string.ascii_letters).union([str(num) for num in range(0,10)])\n",
    "    filtered = ''.join([character for character in text if character in allowed])\n",
    "    for word in text.split():\n",
    "        try:\n",
    "            int(word.replace(',','').replace('.',''))\n",
    "            text = text.replace(word,'numericvalue')\n",
    "        except:\n",
    "            pass\n",
    "    return text\n",
    "\n",
    "def perform_lowercase(text):\n",
    "    \"\"\"\n",
    "    Mutates and returns text where all characters are lowercased\n",
    "    \"\"\"\n",
    "    try:\n",
    "        new_text = text.lower()\n",
    "    except:\n",
    "        new_text = str(text).lower()\n",
    "    return new_text\n",
    "\n",
    "def underscore_remove(text):\n",
    "    '''\n",
    "    replaces multiple underscores with text fillintheblank\n",
    "    and single underscore with space\n",
    "    '''\n",
    "    double_underscore_re = r'(__[a-zA-Z0-9_]*(__)?)'\n",
    "    text = nltk.regexp.re.sub(double_underscore_re,'fillintheblank',text)\n",
    "    return text.replace('_',' ')\n",
    "\n",
    "def doublespace_remove(text):\n",
    "    return re.sub(' +',' ',text)\n",
    "\n",
    "def textblobsent(text):\n",
    "    '''\n",
    "    returns the TextBlob polarity and subjectivity\n",
    "    '''\n",
    "    text = text.encode('ascii','replace')\n",
    "    sent = TextBlob(text).sentiment\n",
    "    return pd.Series([sent.polarity,sent.subjectivity])\n",
    "\n",
    "def get_avg_wordlength(document):\n",
    "    wordlengths = [len(word) for word in document.split()]\n",
    "    if len(wordlengths) == 0:\n",
    "        return 0\n",
    "    else:\n",
    "        return np.mean(wordlengths)\n",
    "\n",
    "def determine_tense(essay):\n",
    "    '''\n",
    "    Returns the number of past, present and future tense verbs in a given text\n",
    "    '''\n",
    "    text = word_tokenize(essay)\n",
    "    tagged = pos_tag(text)\n",
    "\n",
    "    numfuture = len([word for word in tagged if word[1] == \"MD\"])\n",
    "    numpresent = len([word for word in tagged if word[1] in [\"VBP\", \"VBZ\",\"VBG\"]])\n",
    "    numpast = len([word for word in tagged if word[1] in [\"VBD\", \"VBN\"]]) \n",
    "    \n",
    "    return pd.Series([numpast,numpresent,numfuture],index=['NumPast','NumPresent','NumFuture'])\n",
    "\n",
    "def get_pos_tags(text):\n",
    "    '''\n",
    "    Returns part of speech tag counts\n",
    "    '''\n",
    "    text = word_tokenize(text)\n",
    "    tagged = pos_tag(text)\n",
    "\n",
    "    counts = Counter([word[1] for word in tagged]).items()\n",
    "    countdict = {}\n",
    "    for key, value in counts:\n",
    "        countdict[key] = value  \n",
    "    \n",
    "    return countdict\n",
    "\n",
    "def detect_lang(text):\n",
    "    '''\n",
    "    Returns detected language\n",
    "    '''\n",
    "    text = doublespace_remove(text)\n",
    "    try:\n",
    "        return detect(text)\n",
    "    except:\n",
    "        return 'None'\n",
    "    \n",
    "def remove_stopwords(row):\n",
    "    '''\n",
    "    Multilingual stopwords removal\n",
    "    '''\n",
    "    language = row['Language']\n",
    "    if language in languages:\n",
    "        text = ' '.join([word for word in row['CleanText'].split(' ') if word not in stopwords.words(language)])\n",
    "        return text\n",
    "    else:\n",
    "        return row['CleanText']\n",
    "    \n",
    "def stem_words(row):\n",
    "    ''' \n",
    "    Multilingual word stemmer\n",
    "    '''\n",
    "    language = row['Language']    \n",
    "    if language in languages:\n",
    "        stemmer = SnowballStemmer(language)\n",
    "        text = ' '.join([stemmer.stem(word) for word in row['CleanText_NoStop'].split(' ')])\n",
    "        return text\n",
    "    else:\n",
    "        return row['CleanText_NoStop']"
   ]
  },
  {
   "cell_type": "code",
   "execution_count": 12,
   "metadata": {
    "collapsed": true
   },
   "outputs": [],
   "source": [
    "def clean_text(df):\n",
    "    df['Annotation Text'].fillna('',inplace=True)\n",
    "    df['CleanText'] = df['Annotation Text']\n",
    "    func_list = [perform_lowercase,replace_numbers,punctuation_remove,underscore_remove, doublespace_remove]\n",
    "    for func in func_list:\n",
    "        df['CleanText'] = df['CleanText'].apply(func)\n",
    "\n",
    "    return df\n",
    "\n",
    "def featurize(df):\n",
    "    \n",
    "    df['AvgWordLength'] = df['CleanText'].apply(get_avg_wordlength)\n",
    "    df['language_code'] = df['CleanText'].apply(detect_lang)\n",
    "    df = df.merge(language_codes,how='left',on='language_code')\n",
    "    df['Language'] = df['Language'].astype('str')\n",
    "    df['Language'] = df['Language'].apply(lambda x: x.lower().split(';')[0])\n",
    "    df['Language'] = df['Language'].apply(lambda x: x if x in languages else 'other')\n",
    "    df['Language'].fillna('None')\n",
    "    langdummies = pd.get_dummies(df['Language'],prefix='language')\n",
    "    \n",
    "    df['CleanText_NoStop'] = df.apply(remove_stopwords,axis=1)\n",
    "    df['CleanText_NoStop_Stemmed'] = df.apply(stem_words,axis=1)\n",
    "    df.drop(['language_code','Language'],axis=1,inplace=True)\n",
    "    \n",
    "    tenses = df['CleanText'].apply(determine_tense)\n",
    "    tenses.columns = ['tense_' + col for col in tenses.columns]\n",
    "    \n",
    "    postagcounts = []\n",
    "    for index, row in df.iterrows():\n",
    "        postagcounts.append(get_pos_tags(row['CleanText']))    \n",
    "    postagdf = pd.DataFrame(postagcounts).fillna(0)\n",
    "    postagdf.index = df.index\n",
    "    postagdf.columns = ['postag_' + col for col in postagdf.columns]\n",
    "    \n",
    "    textblobsentdf = df['CleanText'].apply(textblobsent)\n",
    "    textblobsentdf.columns = ['TextblobPolarity','TextblobSubjectivity']\n",
    "    df = pd.concat([df,textblobsentdf,tenses,postagdf,langdummies],axis=1)\n",
    "    \n",
    "    return df"
   ]
  },
  {
   "cell_type": "code",
   "execution_count": 13,
   "metadata": {
    "collapsed": true
   },
   "outputs": [],
   "source": [
    "annotations = clean_text(annotations)\n",
    "annotations = featurize(annotations)"
   ]
  },
  {
   "cell_type": "code",
   "execution_count": 14,
   "metadata": {},
   "outputs": [
    {
     "name": "stdout",
     "output_type": "stream",
     "text": [
      "(16181, 6560)\n"
     ]
    }
   ],
   "source": [
    "tfidf_vectorizer = TfidfVectorizer(max_df= .6,\n",
    "                                 min_df= .002, \n",
    "                                 stop_words=None,  \n",
    "                                 use_idf=True, \n",
    "                                 ngram_range=(1,4))\n",
    "tfidf_matrix = tfidf_vectorizer.fit_transform(annotations['CleanText_NoStop_Stemmed'].values.astype('U'))\n",
    "terms = tfidf_vectorizer.get_feature_names()\n",
    "tfidf_matrix = tfidf_matrix.todense()\n",
    "tfidf = pd.DataFrame(tfidf_matrix)\n",
    "tfidf.index = annotations.index\n",
    "tfidf.columns = terms\n",
    "print tfidf.shape"
   ]
  },
  {
   "cell_type": "code",
   "execution_count": 15,
   "metadata": {
    "collapsed": true
   },
   "outputs": [],
   "source": [
    "exclude = ['Source','Category','Topic','Annotation Text','CleanText','CleanText_NoStop','CleanText_NoStop_Stemmed',\n",
    "           'OCID','PDF Page Number','Article Reference','MD','VBP','VBZ','VBG','VBD','VBN','other',\"''\",'label','sort_key']\n",
    "features = [col for col in annotations.columns.tolist() if not col in exclude]"
   ]
  },
  {
   "cell_type": "code",
   "execution_count": 16,
   "metadata": {
    "collapsed": true
   },
   "outputs": [],
   "source": [
    "X = pd.concat([tfidf,annotations[features]],axis=1)"
   ]
  },
  {
   "cell_type": "code",
   "execution_count": 17,
   "metadata": {
    "collapsed": true
   },
   "outputs": [],
   "source": [
    "X.fillna(0,inplace=True)\n",
    "X = X.rename(columns = {'fit':'fit_feature'})"
   ]
  },
  {
   "cell_type": "code",
   "execution_count": 18,
   "metadata": {
    "collapsed": true
   },
   "outputs": [],
   "source": [
    "classifiers = [\n",
    "#             LogisticRegression(),\n",
    "#             DecisionTreeClassifier(),\n",
    "            RandomForestClassifier()\n",
    "#             ExtraTreesClassifier()\n",
    "             ]"
   ]
  },
  {
   "cell_type": "code",
   "execution_count": 26,
   "metadata": {
    "collapsed": true
   },
   "outputs": [],
   "source": [
    "parameters = [\n",
    "#         {'penalty': ['l1','l2']      # LogisticRegression\n",
    "#               ,'C': [.001,.01,.1,1,10,100]\n",
    "#               ,'class_weight': [None,'balanced']\n",
    "#               ,'n_jobs': [-1]}\n",
    "#         ,{'max_depth': [8,10,12,14]}       #DecisionTree\n",
    "         {'estimator__n_estimators': [200],          # RandomForest\n",
    "          'estimator__n_jobs': [-1],\n",
    "            \"estimator__max_depth\": [None,10,12],\n",
    "              \"estimator__max_features\": [.2,.33],\n",
    "              \"estimator__min_samples_split\": [2, 4, 10],\n",
    "              \"estimator__min_samples_leaf\": [50],\n",
    "              \"estimator__bootstrap\": [True, False],\n",
    "              \"estimator__criterion\": ['gini'],\n",
    "              \"estimator__class_weight\": ['balanced','balanced_subsample']}\n",
    "#         ,{'max_features':[0.2,0.33,0.5]       #ExtraTrees\n",
    "#               ,'n_estimators': [50]\n",
    "#               ,'n_jobs': [-1]\n",
    "#               ,'max_depth': [3,6,9]}\n",
    "]"
   ]
  },
  {
   "cell_type": "code",
   "execution_count": 38,
   "metadata": {
    "collapsed": true
   },
   "outputs": [],
   "source": [
    "parameters = [\n",
    "#         {'penalty': ['l1','l2']      # LogisticRegression\n",
    "#               ,'C': [.001,.01,.1,1,10,100]\n",
    "#               ,'class_weight': [None,'balanced']\n",
    "#               ,'n_jobs': [-1]}\n",
    "#         ,{'max_depth': [8,10,12,14]}       #DecisionTree\n",
    "         {'estimator__n_estimators': [500],          # RandomForest\n",
    "          'estimator__n_jobs': [-1],\n",
    "            \"estimator__max_depth\": [None,12,14],\n",
    "              \"estimator__max_features\": [.2,.33],\n",
    "              \"estimator__min_samples_split\": [2,10],\n",
    "              \"estimator__min_samples_leaf\": [50],\n",
    "              \"estimator__bootstrap\": [False,True],\n",
    "              \"estimator__criterion\": ['gini'],\n",
    "              \"estimator__class_weight\": ['balanced','balanced_subsample']}\n",
    "#         ,{'max_features':[0.2,0.33,0.5]       #ExtraTrees\n",
    "#               ,'n_estimators': [50]\n",
    "#               ,'n_jobs': [-1]\n",
    "#               ,'max_depth': [3,6,9]}\n",
    "]"
   ]
  },
  {
   "cell_type": "code",
   "execution_count": 39,
   "metadata": {
    "collapsed": true,
    "scrolled": false
   },
   "outputs": [],
   "source": [
    "def grid_search(X_all, y_all, classifiers, parameters):\n",
    "    \n",
    "    # Runs grid search on given list of classifiers and parameters dictionary\n",
    "    scores = ['recall_macro']\n",
    "#     X_train, X_test, y_train, y_test = train_test_split(X_all, y_all, test_size=0.33)\n",
    "    \n",
    "    results = []\n",
    "    for i in range(len(classifiers)):\n",
    "        model = str(classifiers[i]).split('(')[:1][0]\n",
    "        print '     ******************************************'\n",
    "        print '     *** ' + model + ' ***'        \n",
    "        print '     Tuning hyper-parameters for:' \n",
    "        for score in scores:\n",
    "            print '     ' + score.title()\n",
    "#             clf = GridSearchCV(classifiers[i], parameters[i],cv=n_folds,scoring=score)            \n",
    "            clf = GridSearchCV(OneVsRestClassifier(classifiers[i]), parameters[i],cv=n_folds,scoring=score, verbose=10)            \n",
    "            clf.fit(X_all,y_all)\n",
    "            y_true, y_pred = y_all, clf.predict(X_all)\n",
    "            \n",
    "#             acc = accuracy_score(y_true, y_pred)\n",
    "#             prec = precision_score(y_true, y_pred, average='macro')\n",
    "#             rec = recall_score(y_true, y_pred, average='macro')\n",
    "#             roc_auc = roc_auc_score(y_true, y_pred, average='macro')\n",
    "            print \"Accuracy Score: \" + str(accuracy_score(y_true, y_pred))\n",
    "            print classification_report(y_true, y_pred, target_names=yunique)\n",
    "            results.append([model, score, clf.best_params_, clf.best_score_])\n",
    "    return results"
   ]
  },
  {
   "cell_type": "code",
   "execution_count": 40,
   "metadata": {
    "scrolled": false
   },
   "outputs": [
    {
     "name": "stdout",
     "output_type": "stream",
     "text": [
      "     ******************************************\n",
      "     *** RandomForestClassifier ***\n",
      "     Tuning hyper-parameters for:\n",
      "     Recall_Macro\n",
      "Fitting 3 folds for each of 48 candidates, totalling 144 fits\n",
      "[CV] estimator__min_samples_leaf=50, estimator__criterion=gini, estimator__class_weight=balanced, estimator__min_samples_split=2, estimator__max_features=0.2, estimator__bootstrap=False, estimator__max_depth=None, estimator__n_estimators=500, estimator__n_jobs=-1 \n",
      "[CV]  estimator__min_samples_leaf=50, estimator__criterion=gini, estimator__class_weight=balanced, estimator__min_samples_split=2, estimator__max_features=0.2, estimator__bootstrap=False, estimator__max_depth=None, estimator__n_estimators=500, estimator__n_jobs=-1, score=0.888524, total= 4.0min\n",
      "[CV] estimator__min_samples_leaf=50, estimator__criterion=gini, estimator__class_weight=balanced, estimator__min_samples_split=2, estimator__max_features=0.2, estimator__bootstrap=False, estimator__max_depth=None, estimator__n_estimators=500, estimator__n_jobs=-1 \n"
     ]
    },
    {
     "name": "stderr",
     "output_type": "stream",
     "text": [
      "[Parallel(n_jobs=1)]: Done   1 out of   1 | elapsed:  4.1min remaining:    0.0s\n"
     ]
    },
    {
     "name": "stdout",
     "output_type": "stream",
     "text": [
      "[CV]  estimator__min_samples_leaf=50, estimator__criterion=gini, estimator__class_weight=balanced, estimator__min_samples_split=2, estimator__max_features=0.2, estimator__bootstrap=False, estimator__max_depth=None, estimator__n_estimators=500, estimator__n_jobs=-1, score=0.892574, total= 4.2min\n",
      "[CV] estimator__min_samples_leaf=50, estimator__criterion=gini, estimator__class_weight=balanced, estimator__min_samples_split=2, estimator__max_features=0.2, estimator__bootstrap=False, estimator__max_depth=None, estimator__n_estimators=500, estimator__n_jobs=-1 \n"
     ]
    },
    {
     "name": "stderr",
     "output_type": "stream",
     "text": [
      "[Parallel(n_jobs=1)]: Done   2 out of   2 | elapsed:  8.3min remaining:    0.0s\n"
     ]
    },
    {
     "name": "stdout",
     "output_type": "stream",
     "text": [
      "[CV]  estimator__min_samples_leaf=50, estimator__criterion=gini, estimator__class_weight=balanced, estimator__min_samples_split=2, estimator__max_features=0.2, estimator__bootstrap=False, estimator__max_depth=None, estimator__n_estimators=500, estimator__n_jobs=-1, score=0.923433, total= 4.2min\n",
      "[CV] estimator__min_samples_leaf=50, estimator__criterion=gini, estimator__class_weight=balanced, estimator__min_samples_split=10, estimator__max_features=0.2, estimator__bootstrap=False, estimator__max_depth=None, estimator__n_estimators=500, estimator__n_jobs=-1 \n"
     ]
    },
    {
     "name": "stderr",
     "output_type": "stream",
     "text": [
      "[Parallel(n_jobs=1)]: Done   3 out of   3 | elapsed: 12.6min remaining:    0.0s\n"
     ]
    },
    {
     "name": "stdout",
     "output_type": "stream",
     "text": [
      "[CV]  estimator__min_samples_leaf=50, estimator__criterion=gini, estimator__class_weight=balanced, estimator__min_samples_split=10, estimator__max_features=0.2, estimator__bootstrap=False, estimator__max_depth=None, estimator__n_estimators=500, estimator__n_jobs=-1, score=0.888139, total= 3.9min\n",
      "[CV] estimator__min_samples_leaf=50, estimator__criterion=gini, estimator__class_weight=balanced, estimator__min_samples_split=10, estimator__max_features=0.2, estimator__bootstrap=False, estimator__max_depth=None, estimator__n_estimators=500, estimator__n_jobs=-1 \n"
     ]
    },
    {
     "name": "stderr",
     "output_type": "stream",
     "text": [
      "[Parallel(n_jobs=1)]: Done   4 out of   4 | elapsed: 16.6min remaining:    0.0s\n"
     ]
    },
    {
     "name": "stdout",
     "output_type": "stream",
     "text": [
      "[CV]  estimator__min_samples_leaf=50, estimator__criterion=gini, estimator__class_weight=balanced, estimator__min_samples_split=10, estimator__max_features=0.2, estimator__bootstrap=False, estimator__max_depth=None, estimator__n_estimators=500, estimator__n_jobs=-1, score=0.892767, total= 4.2min\n",
      "[CV] estimator__min_samples_leaf=50, estimator__criterion=gini, estimator__class_weight=balanced, estimator__min_samples_split=10, estimator__max_features=0.2, estimator__bootstrap=False, estimator__max_depth=None, estimator__n_estimators=500, estimator__n_jobs=-1 \n"
     ]
    },
    {
     "name": "stderr",
     "output_type": "stream",
     "text": [
      "[Parallel(n_jobs=1)]: Done   5 out of   5 | elapsed: 20.9min remaining:    0.0s\n"
     ]
    },
    {
     "name": "stdout",
     "output_type": "stream",
     "text": [
      "[CV]  estimator__min_samples_leaf=50, estimator__criterion=gini, estimator__class_weight=balanced, estimator__min_samples_split=10, estimator__max_features=0.2, estimator__bootstrap=False, estimator__max_depth=None, estimator__n_estimators=500, estimator__n_jobs=-1, score=0.918983, total= 4.2min\n",
      "[CV] estimator__min_samples_leaf=50, estimator__criterion=gini, estimator__class_weight=balanced, estimator__min_samples_split=2, estimator__max_features=0.33, estimator__bootstrap=False, estimator__max_depth=None, estimator__n_estimators=500, estimator__n_jobs=-1 \n"
     ]
    },
    {
     "name": "stderr",
     "output_type": "stream",
     "text": [
      "[Parallel(n_jobs=1)]: Done   6 out of   6 | elapsed: 25.2min remaining:    0.0s\n"
     ]
    },
    {
     "name": "stdout",
     "output_type": "stream",
     "text": [
      "[CV]  estimator__min_samples_leaf=50, estimator__criterion=gini, estimator__class_weight=balanced, estimator__min_samples_split=2, estimator__max_features=0.33, estimator__bootstrap=False, estimator__max_depth=None, estimator__n_estimators=500, estimator__n_jobs=-1, score=0.889691, total= 6.1min\n",
      "[CV] estimator__min_samples_leaf=50, estimator__criterion=gini, estimator__class_weight=balanced, estimator__min_samples_split=2, estimator__max_features=0.33, estimator__bootstrap=False, estimator__max_depth=None, estimator__n_estimators=500, estimator__n_jobs=-1 \n"
     ]
    },
    {
     "name": "stderr",
     "output_type": "stream",
     "text": [
      "[Parallel(n_jobs=1)]: Done   7 out of   7 | elapsed: 31.3min remaining:    0.0s\n"
     ]
    },
    {
     "name": "stdout",
     "output_type": "stream",
     "text": [
      "[CV]  estimator__min_samples_leaf=50, estimator__criterion=gini, estimator__class_weight=balanced, estimator__min_samples_split=2, estimator__max_features=0.33, estimator__bootstrap=False, estimator__max_depth=None, estimator__n_estimators=500, estimator__n_jobs=-1, score=0.870608, total= 6.6min\n",
      "[CV] estimator__min_samples_leaf=50, estimator__criterion=gini, estimator__class_weight=balanced, estimator__min_samples_split=2, estimator__max_features=0.33, estimator__bootstrap=False, estimator__max_depth=None, estimator__n_estimators=500, estimator__n_jobs=-1 \n"
     ]
    },
    {
     "name": "stderr",
     "output_type": "stream",
     "text": [
      "[Parallel(n_jobs=1)]: Done   8 out of   8 | elapsed: 38.0min remaining:    0.0s\n"
     ]
    },
    {
     "name": "stdout",
     "output_type": "stream",
     "text": [
      "[CV]  estimator__min_samples_leaf=50, estimator__criterion=gini, estimator__class_weight=balanced, estimator__min_samples_split=2, estimator__max_features=0.33, estimator__bootstrap=False, estimator__max_depth=None, estimator__n_estimators=500, estimator__n_jobs=-1, score=0.917263, total= 6.5min\n",
      "[CV] estimator__min_samples_leaf=50, estimator__criterion=gini, estimator__class_weight=balanced, estimator__min_samples_split=10, estimator__max_features=0.33, estimator__bootstrap=False, estimator__max_depth=None, estimator__n_estimators=500, estimator__n_jobs=-1 \n"
     ]
    },
    {
     "name": "stderr",
     "output_type": "stream",
     "text": [
      "[Parallel(n_jobs=1)]: Done   9 out of   9 | elapsed: 44.6min remaining:    0.0s\n"
     ]
    },
    {
     "name": "stdout",
     "output_type": "stream",
     "text": [
      "[CV]  estimator__min_samples_leaf=50, estimator__criterion=gini, estimator__class_weight=balanced, estimator__min_samples_split=10, estimator__max_features=0.33, estimator__bootstrap=False, estimator__max_depth=None, estimator__n_estimators=500, estimator__n_jobs=-1, score=0.883290, total= 6.1min\n",
      "[CV] estimator__min_samples_leaf=50, estimator__criterion=gini, estimator__class_weight=balanced, estimator__min_samples_split=10, estimator__max_features=0.33, estimator__bootstrap=False, estimator__max_depth=None, estimator__n_estimators=500, estimator__n_jobs=-1 \n",
      "[CV]  estimator__min_samples_leaf=50, estimator__criterion=gini, estimator__class_weight=balanced, estimator__min_samples_split=10, estimator__max_features=0.33, estimator__bootstrap=False, estimator__max_depth=None, estimator__n_estimators=500, estimator__n_jobs=-1, score=0.873776, total= 6.6min\n",
      "[CV] estimator__min_samples_leaf=50, estimator__criterion=gini, estimator__class_weight=balanced, estimator__min_samples_split=10, estimator__max_features=0.33, estimator__bootstrap=False, estimator__max_depth=None, estimator__n_estimators=500, estimator__n_jobs=-1 \n",
      "[CV]  estimator__min_samples_leaf=50, estimator__criterion=gini, estimator__class_weight=balanced, estimator__min_samples_split=10, estimator__max_features=0.33, estimator__bootstrap=False, estimator__max_depth=None, estimator__n_estimators=500, estimator__n_jobs=-1, score=0.914388, total= 6.5min\n",
      "[CV] estimator__min_samples_leaf=50, estimator__criterion=gini, estimator__class_weight=balanced, estimator__min_samples_split=2, estimator__max_features=0.2, estimator__bootstrap=False, estimator__max_depth=12, estimator__n_estimators=500, estimator__n_jobs=-1 \n",
      "[CV]  estimator__min_samples_leaf=50, estimator__criterion=gini, estimator__class_weight=balanced, estimator__min_samples_split=2, estimator__max_features=0.2, estimator__bootstrap=False, estimator__max_depth=12, estimator__n_estimators=500, estimator__n_jobs=-1, score=0.881275, total= 3.4min\n",
      "[CV] estimator__min_samples_leaf=50, estimator__criterion=gini, estimator__class_weight=balanced, estimator__min_samples_split=2, estimator__max_features=0.2, estimator__bootstrap=False, estimator__max_depth=12, estimator__n_estimators=500, estimator__n_jobs=-1 \n",
      "[CV]  estimator__min_samples_leaf=50, estimator__criterion=gini, estimator__class_weight=balanced, estimator__min_samples_split=2, estimator__max_features=0.2, estimator__bootstrap=False, estimator__max_depth=12, estimator__n_estimators=500, estimator__n_jobs=-1, score=0.875600, total= 3.5min\n",
      "[CV] estimator__min_samples_leaf=50, estimator__criterion=gini, estimator__class_weight=balanced, estimator__min_samples_split=2, estimator__max_features=0.2, estimator__bootstrap=False, estimator__max_depth=12, estimator__n_estimators=500, estimator__n_jobs=-1 \n",
      "[CV]  estimator__min_samples_leaf=50, estimator__criterion=gini, estimator__class_weight=balanced, estimator__min_samples_split=2, estimator__max_features=0.2, estimator__bootstrap=False, estimator__max_depth=12, estimator__n_estimators=500, estimator__n_jobs=-1, score=0.916237, total= 3.5min\n",
      "[CV] estimator__min_samples_leaf=50, estimator__criterion=gini, estimator__class_weight=balanced, estimator__min_samples_split=10, estimator__max_features=0.2, estimator__bootstrap=False, estimator__max_depth=12, estimator__n_estimators=500, estimator__n_jobs=-1 \n",
      "[CV]  estimator__min_samples_leaf=50, estimator__criterion=gini, estimator__class_weight=balanced, estimator__min_samples_split=10, estimator__max_features=0.2, estimator__bootstrap=False, estimator__max_depth=12, estimator__n_estimators=500, estimator__n_jobs=-1, score=0.885355, total= 3.4min\n",
      "[CV] estimator__min_samples_leaf=50, estimator__criterion=gini, estimator__class_weight=balanced, estimator__min_samples_split=10, estimator__max_features=0.2, estimator__bootstrap=False, estimator__max_depth=12, estimator__n_estimators=500, estimator__n_jobs=-1 \n",
      "[CV]  estimator__min_samples_leaf=50, estimator__criterion=gini, estimator__class_weight=balanced, estimator__min_samples_split=10, estimator__max_features=0.2, estimator__bootstrap=False, estimator__max_depth=12, estimator__n_estimators=500, estimator__n_jobs=-1, score=0.879936, total= 3.5min\n",
      "[CV] estimator__min_samples_leaf=50, estimator__criterion=gini, estimator__class_weight=balanced, estimator__min_samples_split=10, estimator__max_features=0.2, estimator__bootstrap=False, estimator__max_depth=12, estimator__n_estimators=500, estimator__n_jobs=-1 \n",
      "[CV]  estimator__min_samples_leaf=50, estimator__criterion=gini, estimator__class_weight=balanced, estimator__min_samples_split=10, estimator__max_features=0.2, estimator__bootstrap=False, estimator__max_depth=12, estimator__n_estimators=500, estimator__n_jobs=-1, score=0.916301, total= 3.5min\n",
      "[CV] estimator__min_samples_leaf=50, estimator__criterion=gini, estimator__class_weight=balanced, estimator__min_samples_split=2, estimator__max_features=0.33, estimator__bootstrap=False, estimator__max_depth=12, estimator__n_estimators=500, estimator__n_jobs=-1 \n",
      "[CV]  estimator__min_samples_leaf=50, estimator__criterion=gini, estimator__class_weight=balanced, estimator__min_samples_split=2, estimator__max_features=0.33, estimator__bootstrap=False, estimator__max_depth=12, estimator__n_estimators=500, estimator__n_jobs=-1, score=0.876283, total= 5.3min\n",
      "[CV] estimator__min_samples_leaf=50, estimator__criterion=gini, estimator__class_weight=balanced, estimator__min_samples_split=2, estimator__max_features=0.33, estimator__bootstrap=False, estimator__max_depth=12, estimator__n_estimators=500, estimator__n_jobs=-1 \n",
      "[CV]  estimator__min_samples_leaf=50, estimator__criterion=gini, estimator__class_weight=balanced, estimator__min_samples_split=2, estimator__max_features=0.33, estimator__bootstrap=False, estimator__max_depth=12, estimator__n_estimators=500, estimator__n_jobs=-1, score=0.868928, total= 5.5min\n",
      "[CV] estimator__min_samples_leaf=50, estimator__criterion=gini, estimator__class_weight=balanced, estimator__min_samples_split=2, estimator__max_features=0.33, estimator__bootstrap=False, estimator__max_depth=12, estimator__n_estimators=500, estimator__n_jobs=-1 \n",
      "[CV]  estimator__min_samples_leaf=50, estimator__criterion=gini, estimator__class_weight=balanced, estimator__min_samples_split=2, estimator__max_features=0.33, estimator__bootstrap=False, estimator__max_depth=12, estimator__n_estimators=500, estimator__n_jobs=-1, score=0.910487, total= 5.5min\n",
      "[CV] estimator__min_samples_leaf=50, estimator__criterion=gini, estimator__class_weight=balanced, estimator__min_samples_split=10, estimator__max_features=0.33, estimator__bootstrap=False, estimator__max_depth=12, estimator__n_estimators=500, estimator__n_jobs=-1 \n",
      "[CV]  estimator__min_samples_leaf=50, estimator__criterion=gini, estimator__class_weight=balanced, estimator__min_samples_split=10, estimator__max_features=0.33, estimator__bootstrap=False, estimator__max_depth=12, estimator__n_estimators=500, estimator__n_jobs=-1, score=0.879580, total= 5.3min\n",
      "[CV] estimator__min_samples_leaf=50, estimator__criterion=gini, estimator__class_weight=balanced, estimator__min_samples_split=10, estimator__max_features=0.33, estimator__bootstrap=False, estimator__max_depth=12, estimator__n_estimators=500, estimator__n_jobs=-1 \n",
      "[CV]  estimator__min_samples_leaf=50, estimator__criterion=gini, estimator__class_weight=balanced, estimator__min_samples_split=10, estimator__max_features=0.33, estimator__bootstrap=False, estimator__max_depth=12, estimator__n_estimators=500, estimator__n_jobs=-1, score=0.868800, total= 5.5min\n",
      "[CV] estimator__min_samples_leaf=50, estimator__criterion=gini, estimator__class_weight=balanced, estimator__min_samples_split=10, estimator__max_features=0.33, estimator__bootstrap=False, estimator__max_depth=12, estimator__n_estimators=500, estimator__n_jobs=-1 \n",
      "[CV]  estimator__min_samples_leaf=50, estimator__criterion=gini, estimator__class_weight=balanced, estimator__min_samples_split=10, estimator__max_features=0.33, estimator__bootstrap=False, estimator__max_depth=12, estimator__n_estimators=500, estimator__n_jobs=-1, score=0.910616, total= 5.5min\n",
      "[CV] estimator__min_samples_leaf=50, estimator__criterion=gini, estimator__class_weight=balanced, estimator__min_samples_split=2, estimator__max_features=0.2, estimator__bootstrap=False, estimator__max_depth=14, estimator__n_estimators=500, estimator__n_jobs=-1 \n"
     ]
    },
    {
     "name": "stdout",
     "output_type": "stream",
     "text": [
      "[CV]  estimator__min_samples_leaf=50, estimator__criterion=gini, estimator__class_weight=balanced, estimator__min_samples_split=2, estimator__max_features=0.2, estimator__bootstrap=False, estimator__max_depth=14, estimator__n_estimators=500, estimator__n_jobs=-1, score=0.881019, total= 3.6min\n",
      "[CV] estimator__min_samples_leaf=50, estimator__criterion=gini, estimator__class_weight=balanced, estimator__min_samples_split=2, estimator__max_features=0.2, estimator__bootstrap=False, estimator__max_depth=14, estimator__n_estimators=500, estimator__n_jobs=-1 \n",
      "[CV]  estimator__min_samples_leaf=50, estimator__criterion=gini, estimator__class_weight=balanced, estimator__min_samples_split=2, estimator__max_features=0.2, estimator__bootstrap=False, estimator__max_depth=14, estimator__n_estimators=500, estimator__n_jobs=-1, score=0.879423, total= 3.8min\n",
      "[CV] estimator__min_samples_leaf=50, estimator__criterion=gini, estimator__class_weight=balanced, estimator__min_samples_split=2, estimator__max_features=0.2, estimator__bootstrap=False, estimator__max_depth=14, estimator__n_estimators=500, estimator__n_jobs=-1 \n",
      "[CV]  estimator__min_samples_leaf=50, estimator__criterion=gini, estimator__class_weight=balanced, estimator__min_samples_split=2, estimator__max_features=0.2, estimator__bootstrap=False, estimator__max_depth=14, estimator__n_estimators=500, estimator__n_jobs=-1, score=0.920879, total= 3.8min\n",
      "[CV] estimator__min_samples_leaf=50, estimator__criterion=gini, estimator__class_weight=balanced, estimator__min_samples_split=10, estimator__max_features=0.2, estimator__bootstrap=False, estimator__max_depth=14, estimator__n_estimators=500, estimator__n_jobs=-1 \n",
      "[CV]  estimator__min_samples_leaf=50, estimator__criterion=gini, estimator__class_weight=balanced, estimator__min_samples_split=10, estimator__max_features=0.2, estimator__bootstrap=False, estimator__max_depth=14, estimator__n_estimators=500, estimator__n_jobs=-1, score=0.888396, total= 3.6min\n",
      "[CV] estimator__min_samples_leaf=50, estimator__criterion=gini, estimator__class_weight=balanced, estimator__min_samples_split=10, estimator__max_features=0.2, estimator__bootstrap=False, estimator__max_depth=14, estimator__n_estimators=500, estimator__n_jobs=-1 \n",
      "[CV]  estimator__min_samples_leaf=50, estimator__criterion=gini, estimator__class_weight=balanced, estimator__min_samples_split=10, estimator__max_features=0.2, estimator__bootstrap=False, estimator__max_depth=14, estimator__n_estimators=500, estimator__n_jobs=-1, score=0.882207, total= 3.7min\n",
      "[CV] estimator__min_samples_leaf=50, estimator__criterion=gini, estimator__class_weight=balanced, estimator__min_samples_split=10, estimator__max_features=0.2, estimator__bootstrap=False, estimator__max_depth=14, estimator__n_estimators=500, estimator__n_jobs=-1 \n",
      "[CV]  estimator__min_samples_leaf=50, estimator__criterion=gini, estimator__class_weight=balanced, estimator__min_samples_split=10, estimator__max_features=0.2, estimator__bootstrap=False, estimator__max_depth=14, estimator__n_estimators=500, estimator__n_jobs=-1, score=0.916109, total= 3.7min\n",
      "[CV] estimator__min_samples_leaf=50, estimator__criterion=gini, estimator__class_weight=balanced, estimator__min_samples_split=2, estimator__max_features=0.33, estimator__bootstrap=False, estimator__max_depth=14, estimator__n_estimators=500, estimator__n_jobs=-1 \n",
      "[CV]  estimator__min_samples_leaf=50, estimator__criterion=gini, estimator__class_weight=balanced, estimator__min_samples_split=2, estimator__max_features=0.33, estimator__bootstrap=False, estimator__max_depth=14, estimator__n_estimators=500, estimator__n_jobs=-1, score=0.879979, total= 5.6min\n",
      "[CV] estimator__min_samples_leaf=50, estimator__criterion=gini, estimator__class_weight=balanced, estimator__min_samples_split=2, estimator__max_features=0.33, estimator__bootstrap=False, estimator__max_depth=14, estimator__n_estimators=500, estimator__n_jobs=-1 \n",
      "[CV]  estimator__min_samples_leaf=50, estimator__criterion=gini, estimator__class_weight=balanced, estimator__min_samples_split=2, estimator__max_features=0.33, estimator__bootstrap=False, estimator__max_depth=14, estimator__n_estimators=500, estimator__n_jobs=-1, score=0.877408, total= 5.9min\n",
      "[CV] estimator__min_samples_leaf=50, estimator__criterion=gini, estimator__class_weight=balanced, estimator__min_samples_split=2, estimator__max_features=0.33, estimator__bootstrap=False, estimator__max_depth=14, estimator__n_estimators=500, estimator__n_jobs=-1 \n",
      "[CV]  estimator__min_samples_leaf=50, estimator__criterion=gini, estimator__class_weight=balanced, estimator__min_samples_split=2, estimator__max_features=0.33, estimator__bootstrap=False, estimator__max_depth=14, estimator__n_estimators=500, estimator__n_jobs=-1, score=0.910680, total= 5.9min\n",
      "[CV] estimator__min_samples_leaf=50, estimator__criterion=gini, estimator__class_weight=balanced, estimator__min_samples_split=10, estimator__max_features=0.33, estimator__bootstrap=False, estimator__max_depth=14, estimator__n_estimators=500, estimator__n_jobs=-1 \n",
      "[CV]  estimator__min_samples_leaf=50, estimator__criterion=gini, estimator__class_weight=balanced, estimator__min_samples_split=10, estimator__max_features=0.33, estimator__bootstrap=False, estimator__max_depth=14, estimator__n_estimators=500, estimator__n_jobs=-1, score=0.886843, total= 5.6min\n",
      "[CV] estimator__min_samples_leaf=50, estimator__criterion=gini, estimator__class_weight=balanced, estimator__min_samples_split=10, estimator__max_features=0.33, estimator__bootstrap=False, estimator__max_depth=14, estimator__n_estimators=500, estimator__n_jobs=-1 \n",
      "[CV]  estimator__min_samples_leaf=50, estimator__criterion=gini, estimator__class_weight=balanced, estimator__min_samples_split=10, estimator__max_features=0.33, estimator__bootstrap=False, estimator__max_depth=14, estimator__n_estimators=500, estimator__n_jobs=-1, score=0.868735, total= 5.9min\n",
      "[CV] estimator__min_samples_leaf=50, estimator__criterion=gini, estimator__class_weight=balanced, estimator__min_samples_split=10, estimator__max_features=0.33, estimator__bootstrap=False, estimator__max_depth=14, estimator__n_estimators=500, estimator__n_jobs=-1 \n",
      "[CV]  estimator__min_samples_leaf=50, estimator__criterion=gini, estimator__class_weight=balanced, estimator__min_samples_split=10, estimator__max_features=0.33, estimator__bootstrap=False, estimator__max_depth=14, estimator__n_estimators=500, estimator__n_jobs=-1, score=0.911128, total= 5.9min\n",
      "[CV] estimator__min_samples_leaf=50, estimator__criterion=gini, estimator__class_weight=balanced_subsample, estimator__min_samples_split=2, estimator__max_features=0.2, estimator__bootstrap=False, estimator__max_depth=None, estimator__n_estimators=500, estimator__n_jobs=-1 \n",
      "[CV]  estimator__min_samples_leaf=50, estimator__criterion=gini, estimator__class_weight=balanced_subsample, estimator__min_samples_split=2, estimator__max_features=0.2, estimator__bootstrap=False, estimator__max_depth=None, estimator__n_estimators=500, estimator__n_jobs=-1, score=0.888396, total= 3.9min\n",
      "[CV] estimator__min_samples_leaf=50, estimator__criterion=gini, estimator__class_weight=balanced_subsample, estimator__min_samples_split=2, estimator__max_features=0.2, estimator__bootstrap=False, estimator__max_depth=None, estimator__n_estimators=500, estimator__n_jobs=-1 \n",
      "[CV]  estimator__min_samples_leaf=50, estimator__criterion=gini, estimator__class_weight=balanced_subsample, estimator__min_samples_split=2, estimator__max_features=0.2, estimator__bootstrap=False, estimator__max_depth=None, estimator__n_estimators=500, estimator__n_jobs=-1, score=0.889328, total= 4.1min\n",
      "[CV] estimator__min_samples_leaf=50, estimator__criterion=gini, estimator__class_weight=balanced_subsample, estimator__min_samples_split=2, estimator__max_features=0.2, estimator__bootstrap=False, estimator__max_depth=None, estimator__n_estimators=500, estimator__n_jobs=-1 \n",
      "[CV]  estimator__min_samples_leaf=50, estimator__criterion=gini, estimator__class_weight=balanced_subsample, estimator__min_samples_split=2, estimator__max_features=0.2, estimator__bootstrap=False, estimator__max_depth=None, estimator__n_estimators=500, estimator__n_jobs=-1, score=0.919753, total= 4.2min\n",
      "[CV] estimator__min_samples_leaf=50, estimator__criterion=gini, estimator__class_weight=balanced_subsample, estimator__min_samples_split=10, estimator__max_features=0.2, estimator__bootstrap=False, estimator__max_depth=None, estimator__n_estimators=500, estimator__n_jobs=-1 \n"
     ]
    },
    {
     "name": "stdout",
     "output_type": "stream",
     "text": [
      "[CV]  estimator__min_samples_leaf=50, estimator__criterion=gini, estimator__class_weight=balanced_subsample, estimator__min_samples_split=10, estimator__max_features=0.2, estimator__bootstrap=False, estimator__max_depth=None, estimator__n_estimators=500, estimator__n_jobs=-1, score=0.887819, total= 3.9min\n",
      "[CV] estimator__min_samples_leaf=50, estimator__criterion=gini, estimator__class_weight=balanced_subsample, estimator__min_samples_split=10, estimator__max_features=0.2, estimator__bootstrap=False, estimator__max_depth=None, estimator__n_estimators=500, estimator__n_jobs=-1 \n",
      "[CV]  estimator__min_samples_leaf=50, estimator__criterion=gini, estimator__class_weight=balanced_subsample, estimator__min_samples_split=10, estimator__max_features=0.2, estimator__bootstrap=False, estimator__max_depth=None, estimator__n_estimators=500, estimator__n_jobs=-1, score=0.889342, total= 4.2min\n",
      "[CV] estimator__min_samples_leaf=50, estimator__criterion=gini, estimator__class_weight=balanced_subsample, estimator__min_samples_split=10, estimator__max_features=0.2, estimator__bootstrap=False, estimator__max_depth=None, estimator__n_estimators=500, estimator__n_jobs=-1 \n",
      "[CV]  estimator__min_samples_leaf=50, estimator__criterion=gini, estimator__class_weight=balanced_subsample, estimator__min_samples_split=10, estimator__max_features=0.2, estimator__bootstrap=False, estimator__max_depth=None, estimator__n_estimators=500, estimator__n_jobs=-1, score=0.919176, total= 4.3min\n",
      "[CV] estimator__min_samples_leaf=50, estimator__criterion=gini, estimator__class_weight=balanced_subsample, estimator__min_samples_split=2, estimator__max_features=0.33, estimator__bootstrap=False, estimator__max_depth=None, estimator__n_estimators=500, estimator__n_jobs=-1 \n",
      "[CV]  estimator__min_samples_leaf=50, estimator__criterion=gini, estimator__class_weight=balanced_subsample, estimator__min_samples_split=2, estimator__max_features=0.33, estimator__bootstrap=False, estimator__max_depth=None, estimator__n_estimators=500, estimator__n_jobs=-1, score=0.879081, total= 6.1min\n",
      "[CV] estimator__min_samples_leaf=50, estimator__criterion=gini, estimator__class_weight=balanced_subsample, estimator__min_samples_split=2, estimator__max_features=0.33, estimator__bootstrap=False, estimator__max_depth=None, estimator__n_estimators=500, estimator__n_jobs=-1 \n",
      "[CV]  estimator__min_samples_leaf=50, estimator__criterion=gini, estimator__class_weight=balanced_subsample, estimator__min_samples_split=2, estimator__max_features=0.33, estimator__bootstrap=False, estimator__max_depth=None, estimator__n_estimators=500, estimator__n_jobs=-1, score=0.876560, total= 6.6min\n",
      "[CV] estimator__min_samples_leaf=50, estimator__criterion=gini, estimator__class_weight=balanced_subsample, estimator__min_samples_split=2, estimator__max_features=0.33, estimator__bootstrap=False, estimator__max_depth=None, estimator__n_estimators=500, estimator__n_jobs=-1 \n",
      "[CV]  estimator__min_samples_leaf=50, estimator__criterion=gini, estimator__class_weight=balanced_subsample, estimator__min_samples_split=2, estimator__max_features=0.33, estimator__bootstrap=False, estimator__max_depth=None, estimator__n_estimators=500, estimator__n_jobs=-1, score=0.916237, total= 6.5min\n",
      "[CV] estimator__min_samples_leaf=50, estimator__criterion=gini, estimator__class_weight=balanced_subsample, estimator__min_samples_split=10, estimator__max_features=0.33, estimator__bootstrap=False, estimator__max_depth=None, estimator__n_estimators=500, estimator__n_jobs=-1 \n",
      "[CV]  estimator__min_samples_leaf=50, estimator__criterion=gini, estimator__class_weight=balanced_subsample, estimator__min_samples_split=10, estimator__max_features=0.33, estimator__bootstrap=False, estimator__max_depth=None, estimator__n_estimators=500, estimator__n_jobs=-1, score=0.883162, total= 6.1min\n",
      "[CV] estimator__min_samples_leaf=50, estimator__criterion=gini, estimator__class_weight=balanced_subsample, estimator__min_samples_split=10, estimator__max_features=0.33, estimator__bootstrap=False, estimator__max_depth=None, estimator__n_estimators=500, estimator__n_jobs=-1 \n",
      "[CV]  estimator__min_samples_leaf=50, estimator__criterion=gini, estimator__class_weight=balanced_subsample, estimator__min_samples_split=10, estimator__max_features=0.33, estimator__bootstrap=False, estimator__max_depth=None, estimator__n_estimators=500, estimator__n_jobs=-1, score=0.861166, total= 6.5min\n",
      "[CV] estimator__min_samples_leaf=50, estimator__criterion=gini, estimator__class_weight=balanced_subsample, estimator__min_samples_split=10, estimator__max_features=0.33, estimator__bootstrap=False, estimator__max_depth=None, estimator__n_estimators=500, estimator__n_jobs=-1 \n",
      "[CV]  estimator__min_samples_leaf=50, estimator__criterion=gini, estimator__class_weight=balanced_subsample, estimator__min_samples_split=10, estimator__max_features=0.33, estimator__bootstrap=False, estimator__max_depth=None, estimator__n_estimators=500, estimator__n_jobs=-1, score=0.910680, total= 6.5min\n",
      "[CV] estimator__min_samples_leaf=50, estimator__criterion=gini, estimator__class_weight=balanced_subsample, estimator__min_samples_split=2, estimator__max_features=0.2, estimator__bootstrap=False, estimator__max_depth=12, estimator__n_estimators=500, estimator__n_jobs=-1 \n",
      "[CV]  estimator__min_samples_leaf=50, estimator__criterion=gini, estimator__class_weight=balanced_subsample, estimator__min_samples_split=2, estimator__max_features=0.2, estimator__bootstrap=False, estimator__max_depth=12, estimator__n_estimators=500, estimator__n_jobs=-1, score=0.880428, total= 3.4min\n",
      "[CV] estimator__min_samples_leaf=50, estimator__criterion=gini, estimator__class_weight=balanced_subsample, estimator__min_samples_split=2, estimator__max_features=0.2, estimator__bootstrap=False, estimator__max_depth=12, estimator__n_estimators=500, estimator__n_jobs=-1 \n",
      "[CV]  estimator__min_samples_leaf=50, estimator__criterion=gini, estimator__class_weight=balanced_subsample, estimator__min_samples_split=2, estimator__max_features=0.2, estimator__bootstrap=False, estimator__max_depth=12, estimator__n_estimators=500, estimator__n_jobs=-1, score=0.878255, total= 3.5min\n",
      "[CV] estimator__min_samples_leaf=50, estimator__criterion=gini, estimator__class_weight=balanced_subsample, estimator__min_samples_split=2, estimator__max_features=0.2, estimator__bootstrap=False, estimator__max_depth=12, estimator__n_estimators=500, estimator__n_jobs=-1 \n",
      "[CV]  estimator__min_samples_leaf=50, estimator__criterion=gini, estimator__class_weight=balanced_subsample, estimator__min_samples_split=2, estimator__max_features=0.2, estimator__bootstrap=False, estimator__max_depth=12, estimator__n_estimators=500, estimator__n_jobs=-1, score=0.920558, total= 3.5min\n",
      "[CV] estimator__min_samples_leaf=50, estimator__criterion=gini, estimator__class_weight=balanced_subsample, estimator__min_samples_split=10, estimator__max_features=0.2, estimator__bootstrap=False, estimator__max_depth=12, estimator__n_estimators=500, estimator__n_jobs=-1 \n",
      "[CV]  estimator__min_samples_leaf=50, estimator__criterion=gini, estimator__class_weight=balanced_subsample, estimator__min_samples_split=10, estimator__max_features=0.2, estimator__bootstrap=False, estimator__max_depth=12, estimator__n_estimators=500, estimator__n_jobs=-1, score=0.881724, total= 3.4min\n",
      "[CV] estimator__min_samples_leaf=50, estimator__criterion=gini, estimator__class_weight=balanced_subsample, estimator__min_samples_split=10, estimator__max_features=0.2, estimator__bootstrap=False, estimator__max_depth=12, estimator__n_estimators=500, estimator__n_jobs=-1 \n",
      "[CV]  estimator__min_samples_leaf=50, estimator__criterion=gini, estimator__class_weight=balanced_subsample, estimator__min_samples_split=10, estimator__max_features=0.2, estimator__bootstrap=False, estimator__max_depth=12, estimator__n_estimators=500, estimator__n_jobs=-1, score=0.883055, total= 3.5min\n",
      "[CV] estimator__min_samples_leaf=50, estimator__criterion=gini, estimator__class_weight=balanced_subsample, estimator__min_samples_split=10, estimator__max_features=0.2, estimator__bootstrap=False, estimator__max_depth=12, estimator__n_estimators=500, estimator__n_jobs=-1 \n",
      "[CV]  estimator__min_samples_leaf=50, estimator__criterion=gini, estimator__class_weight=balanced_subsample, estimator__min_samples_split=10, estimator__max_features=0.2, estimator__bootstrap=False, estimator__max_depth=12, estimator__n_estimators=500, estimator__n_jobs=-1, score=0.923177, total= 3.5min\n",
      "[CV] estimator__min_samples_leaf=50, estimator__criterion=gini, estimator__class_weight=balanced_subsample, estimator__min_samples_split=2, estimator__max_features=0.33, estimator__bootstrap=False, estimator__max_depth=12, estimator__n_estimators=500, estimator__n_jobs=-1 \n"
     ]
    },
    {
     "name": "stdout",
     "output_type": "stream",
     "text": [
      "[CV]  estimator__min_samples_leaf=50, estimator__criterion=gini, estimator__class_weight=balanced_subsample, estimator__min_samples_split=2, estimator__max_features=0.33, estimator__bootstrap=False, estimator__max_depth=12, estimator__n_estimators=500, estimator__n_jobs=-1, score=0.876411, total= 5.3min\n",
      "[CV] estimator__min_samples_leaf=50, estimator__criterion=gini, estimator__class_weight=balanced_subsample, estimator__min_samples_split=2, estimator__max_features=0.33, estimator__bootstrap=False, estimator__max_depth=12, estimator__n_estimators=500, estimator__n_jobs=-1 \n",
      "[CV]  estimator__min_samples_leaf=50, estimator__criterion=gini, estimator__class_weight=balanced_subsample, estimator__min_samples_split=2, estimator__max_features=0.33, estimator__bootstrap=False, estimator__max_depth=12, estimator__n_estimators=500, estimator__n_jobs=-1, score=0.871968, total= 5.5min\n",
      "[CV] estimator__min_samples_leaf=50, estimator__criterion=gini, estimator__class_weight=balanced_subsample, estimator__min_samples_split=2, estimator__max_features=0.33, estimator__bootstrap=False, estimator__max_depth=12, estimator__n_estimators=500, estimator__n_jobs=-1 \n",
      "[CV]  estimator__min_samples_leaf=50, estimator__criterion=gini, estimator__class_weight=balanced_subsample, estimator__min_samples_split=2, estimator__max_features=0.33, estimator__bootstrap=False, estimator__max_depth=12, estimator__n_estimators=500, estimator__n_jobs=-1, score=0.910680, total= 5.5min\n",
      "[CV] estimator__min_samples_leaf=50, estimator__criterion=gini, estimator__class_weight=balanced_subsample, estimator__min_samples_split=10, estimator__max_features=0.33, estimator__bootstrap=False, estimator__max_depth=12, estimator__n_estimators=500, estimator__n_jobs=-1 \n",
      "[CV]  estimator__min_samples_leaf=50, estimator__criterion=gini, estimator__class_weight=balanced_subsample, estimator__min_samples_split=10, estimator__max_features=0.33, estimator__bootstrap=False, estimator__max_depth=12, estimator__n_estimators=500, estimator__n_jobs=-1, score=0.879195, total= 5.3min\n",
      "[CV] estimator__min_samples_leaf=50, estimator__criterion=gini, estimator__class_weight=balanced_subsample, estimator__min_samples_split=10, estimator__max_features=0.33, estimator__bootstrap=False, estimator__max_depth=12, estimator__n_estimators=500, estimator__n_jobs=-1 \n",
      "[CV]  estimator__min_samples_leaf=50, estimator__criterion=gini, estimator__class_weight=balanced_subsample, estimator__min_samples_split=10, estimator__max_features=0.33, estimator__bootstrap=False, estimator__max_depth=12, estimator__n_estimators=500, estimator__n_jobs=-1, score=0.872032, total= 5.5min\n",
      "[CV] estimator__min_samples_leaf=50, estimator__criterion=gini, estimator__class_weight=balanced_subsample, estimator__min_samples_split=10, estimator__max_features=0.33, estimator__bootstrap=False, estimator__max_depth=12, estimator__n_estimators=500, estimator__n_jobs=-1 \n",
      "[CV]  estimator__min_samples_leaf=50, estimator__criterion=gini, estimator__class_weight=balanced_subsample, estimator__min_samples_split=10, estimator__max_features=0.33, estimator__bootstrap=False, estimator__max_depth=12, estimator__n_estimators=500, estimator__n_jobs=-1, score=0.913490, total= 5.5min\n",
      "[CV] estimator__min_samples_leaf=50, estimator__criterion=gini, estimator__class_weight=balanced_subsample, estimator__min_samples_split=2, estimator__max_features=0.2, estimator__bootstrap=False, estimator__max_depth=14, estimator__n_estimators=500, estimator__n_jobs=-1 \n",
      "[CV]  estimator__min_samples_leaf=50, estimator__criterion=gini, estimator__class_weight=balanced_subsample, estimator__min_samples_split=2, estimator__max_features=0.2, estimator__bootstrap=False, estimator__max_depth=14, estimator__n_estimators=500, estimator__n_jobs=-1, score=0.886586, total= 3.6min\n",
      "[CV] estimator__min_samples_leaf=50, estimator__criterion=gini, estimator__class_weight=balanced_subsample, estimator__min_samples_split=2, estimator__max_features=0.2, estimator__bootstrap=False, estimator__max_depth=14, estimator__n_estimators=500, estimator__n_jobs=-1 \n",
      "[CV]  estimator__min_samples_leaf=50, estimator__criterion=gini, estimator__class_weight=balanced_subsample, estimator__min_samples_split=2, estimator__max_features=0.2, estimator__bootstrap=False, estimator__max_depth=14, estimator__n_estimators=500, estimator__n_jobs=-1, score=0.878640, total= 3.8min\n",
      "[CV] estimator__min_samples_leaf=50, estimator__criterion=gini, estimator__class_weight=balanced_subsample, estimator__min_samples_split=2, estimator__max_features=0.2, estimator__bootstrap=False, estimator__max_depth=14, estimator__n_estimators=500, estimator__n_jobs=-1 \n",
      "[CV]  estimator__min_samples_leaf=50, estimator__criterion=gini, estimator__class_weight=balanced_subsample, estimator__min_samples_split=2, estimator__max_features=0.2, estimator__bootstrap=False, estimator__max_depth=14, estimator__n_estimators=500, estimator__n_jobs=-1, score=0.916173, total= 3.8min\n",
      "[CV] estimator__min_samples_leaf=50, estimator__criterion=gini, estimator__class_weight=balanced_subsample, estimator__min_samples_split=10, estimator__max_features=0.2, estimator__bootstrap=False, estimator__max_depth=14, estimator__n_estimators=500, estimator__n_jobs=-1 \n",
      "[CV]  estimator__min_samples_leaf=50, estimator__criterion=gini, estimator__class_weight=balanced_subsample, estimator__min_samples_split=10, estimator__max_features=0.2, estimator__bootstrap=False, estimator__max_depth=14, estimator__n_estimators=500, estimator__n_jobs=-1, score=0.886779, total= 3.6min\n",
      "[CV] estimator__min_samples_leaf=50, estimator__criterion=gini, estimator__class_weight=balanced_subsample, estimator__min_samples_split=10, estimator__max_features=0.2, estimator__bootstrap=False, estimator__max_depth=14, estimator__n_estimators=500, estimator__n_jobs=-1 \n",
      "[CV]  estimator__min_samples_leaf=50, estimator__criterion=gini, estimator__class_weight=balanced_subsample, estimator__min_samples_split=10, estimator__max_features=0.2, estimator__bootstrap=False, estimator__max_depth=14, estimator__n_estimators=500, estimator__n_jobs=-1, score=0.890752, total= 3.8min\n",
      "[CV] estimator__min_samples_leaf=50, estimator__criterion=gini, estimator__class_weight=balanced_subsample, estimator__min_samples_split=10, estimator__max_features=0.2, estimator__bootstrap=False, estimator__max_depth=14, estimator__n_estimators=500, estimator__n_jobs=-1 \n",
      "[CV]  estimator__min_samples_leaf=50, estimator__criterion=gini, estimator__class_weight=balanced_subsample, estimator__min_samples_split=10, estimator__max_features=0.2, estimator__bootstrap=False, estimator__max_depth=14, estimator__n_estimators=500, estimator__n_jobs=-1, score=0.916686, total= 3.8min\n",
      "[CV] estimator__min_samples_leaf=50, estimator__criterion=gini, estimator__class_weight=balanced_subsample, estimator__min_samples_split=2, estimator__max_features=0.33, estimator__bootstrap=False, estimator__max_depth=14, estimator__n_estimators=500, estimator__n_jobs=-1 \n",
      "[CV]  estimator__min_samples_leaf=50, estimator__criterion=gini, estimator__class_weight=balanced_subsample, estimator__min_samples_split=2, estimator__max_features=0.33, estimator__bootstrap=False, estimator__max_depth=14, estimator__n_estimators=500, estimator__n_jobs=-1, score=0.876476, total= 5.6min\n",
      "[CV] estimator__min_samples_leaf=50, estimator__criterion=gini, estimator__class_weight=balanced_subsample, estimator__min_samples_split=2, estimator__max_features=0.33, estimator__bootstrap=False, estimator__max_depth=14, estimator__n_estimators=500, estimator__n_jobs=-1 \n",
      "[CV]  estimator__min_samples_leaf=50, estimator__criterion=gini, estimator__class_weight=balanced_subsample, estimator__min_samples_split=2, estimator__max_features=0.33, estimator__bootstrap=False, estimator__max_depth=14, estimator__n_estimators=500, estimator__n_jobs=-1, score=0.872816, total= 5.9min\n",
      "[CV] estimator__min_samples_leaf=50, estimator__criterion=gini, estimator__class_weight=balanced_subsample, estimator__min_samples_split=2, estimator__max_features=0.33, estimator__bootstrap=False, estimator__max_depth=14, estimator__n_estimators=500, estimator__n_jobs=-1 \n",
      "[CV]  estimator__min_samples_leaf=50, estimator__criterion=gini, estimator__class_weight=balanced_subsample, estimator__min_samples_split=2, estimator__max_features=0.33, estimator__bootstrap=False, estimator__max_depth=14, estimator__n_estimators=500, estimator__n_jobs=-1, score=0.914131, total= 6.0min\n",
      "[CV] estimator__min_samples_leaf=50, estimator__criterion=gini, estimator__class_weight=balanced_subsample, estimator__min_samples_split=10, estimator__max_features=0.33, estimator__bootstrap=False, estimator__max_depth=14, estimator__n_estimators=500, estimator__n_jobs=-1 \n"
     ]
    },
    {
     "name": "stdout",
     "output_type": "stream",
     "text": [
      "[CV]  estimator__min_samples_leaf=50, estimator__criterion=gini, estimator__class_weight=balanced_subsample, estimator__min_samples_split=10, estimator__max_features=0.33, estimator__bootstrap=False, estimator__max_depth=14, estimator__n_estimators=500, estimator__n_jobs=-1, score=0.876091, total= 5.6min\n",
      "[CV] estimator__min_samples_leaf=50, estimator__criterion=gini, estimator__class_weight=balanced_subsample, estimator__min_samples_split=10, estimator__max_features=0.33, estimator__bootstrap=False, estimator__max_depth=14, estimator__n_estimators=500, estimator__n_jobs=-1 \n",
      "[CV]  estimator__min_samples_leaf=50, estimator__criterion=gini, estimator__class_weight=balanced_subsample, estimator__min_samples_split=10, estimator__max_features=0.33, estimator__bootstrap=False, estimator__max_depth=14, estimator__n_estimators=500, estimator__n_jobs=-1, score=0.873008, total= 5.9min\n",
      "[CV] estimator__min_samples_leaf=50, estimator__criterion=gini, estimator__class_weight=balanced_subsample, estimator__min_samples_split=10, estimator__max_features=0.33, estimator__bootstrap=False, estimator__max_depth=14, estimator__n_estimators=500, estimator__n_jobs=-1 \n",
      "[CV]  estimator__min_samples_leaf=50, estimator__criterion=gini, estimator__class_weight=balanced_subsample, estimator__min_samples_split=10, estimator__max_features=0.33, estimator__bootstrap=False, estimator__max_depth=14, estimator__n_estimators=500, estimator__n_jobs=-1, score=0.916942, total= 6.0min\n",
      "[CV] estimator__min_samples_leaf=50, estimator__criterion=gini, estimator__class_weight=balanced, estimator__min_samples_split=2, estimator__max_features=0.2, estimator__bootstrap=True, estimator__max_depth=None, estimator__n_estimators=500, estimator__n_jobs=-1 \n",
      "[CV]  estimator__min_samples_leaf=50, estimator__criterion=gini, estimator__class_weight=balanced, estimator__min_samples_split=2, estimator__max_features=0.2, estimator__bootstrap=True, estimator__max_depth=None, estimator__n_estimators=500, estimator__n_jobs=-1, score=0.883932, total= 2.4min\n",
      "[CV] estimator__min_samples_leaf=50, estimator__criterion=gini, estimator__class_weight=balanced, estimator__min_samples_split=2, estimator__max_features=0.2, estimator__bootstrap=True, estimator__max_depth=None, estimator__n_estimators=500, estimator__n_jobs=-1 \n",
      "[CV]  estimator__min_samples_leaf=50, estimator__criterion=gini, estimator__class_weight=balanced, estimator__min_samples_split=2, estimator__max_features=0.2, estimator__bootstrap=True, estimator__max_depth=None, estimator__n_estimators=500, estimator__n_jobs=-1, score=0.876511, total= 2.5min\n",
      "[CV] estimator__min_samples_leaf=50, estimator__criterion=gini, estimator__class_weight=balanced, estimator__min_samples_split=2, estimator__max_features=0.2, estimator__bootstrap=True, estimator__max_depth=None, estimator__n_estimators=500, estimator__n_jobs=-1 \n",
      "[CV]  estimator__min_samples_leaf=50, estimator__criterion=gini, estimator__class_weight=balanced, estimator__min_samples_split=2, estimator__max_features=0.2, estimator__bootstrap=True, estimator__max_depth=None, estimator__n_estimators=500, estimator__n_jobs=-1, score=0.908401, total= 2.6min\n",
      "[CV] estimator__min_samples_leaf=50, estimator__criterion=gini, estimator__class_weight=balanced, estimator__min_samples_split=10, estimator__max_features=0.2, estimator__bootstrap=True, estimator__max_depth=None, estimator__n_estimators=500, estimator__n_jobs=-1 \n",
      "[CV]  estimator__min_samples_leaf=50, estimator__criterion=gini, estimator__class_weight=balanced, estimator__min_samples_split=10, estimator__max_features=0.2, estimator__bootstrap=True, estimator__max_depth=None, estimator__n_estimators=500, estimator__n_jobs=-1, score=0.886395, total= 2.4min\n",
      "[CV] estimator__min_samples_leaf=50, estimator__criterion=gini, estimator__class_weight=balanced, estimator__min_samples_split=10, estimator__max_features=0.2, estimator__bootstrap=True, estimator__max_depth=None, estimator__n_estimators=500, estimator__n_jobs=-1 \n",
      "[CV]  estimator__min_samples_leaf=50, estimator__criterion=gini, estimator__class_weight=balanced, estimator__min_samples_split=10, estimator__max_features=0.2, estimator__bootstrap=True, estimator__max_depth=None, estimator__n_estimators=500, estimator__n_jobs=-1, score=0.869391, total= 2.5min\n",
      "[CV] estimator__min_samples_leaf=50, estimator__criterion=gini, estimator__class_weight=balanced, estimator__min_samples_split=10, estimator__max_features=0.2, estimator__bootstrap=True, estimator__max_depth=None, estimator__n_estimators=500, estimator__n_jobs=-1 \n",
      "[CV]  estimator__min_samples_leaf=50, estimator__criterion=gini, estimator__class_weight=balanced, estimator__min_samples_split=10, estimator__max_features=0.2, estimator__bootstrap=True, estimator__max_depth=None, estimator__n_estimators=500, estimator__n_jobs=-1, score=0.914150, total= 2.6min\n",
      "[CV] estimator__min_samples_leaf=50, estimator__criterion=gini, estimator__class_weight=balanced, estimator__min_samples_split=2, estimator__max_features=0.33, estimator__bootstrap=True, estimator__max_depth=None, estimator__n_estimators=500, estimator__n_jobs=-1 \n",
      "[CV]  estimator__min_samples_leaf=50, estimator__criterion=gini, estimator__class_weight=balanced, estimator__min_samples_split=2, estimator__max_features=0.33, estimator__bootstrap=True, estimator__max_depth=None, estimator__n_estimators=500, estimator__n_jobs=-1, score=0.879916, total= 3.7min\n",
      "[CV] estimator__min_samples_leaf=50, estimator__criterion=gini, estimator__class_weight=balanced, estimator__min_samples_split=2, estimator__max_features=0.33, estimator__bootstrap=True, estimator__max_depth=None, estimator__n_estimators=500, estimator__n_jobs=-1 \n",
      "[CV]  estimator__min_samples_leaf=50, estimator__criterion=gini, estimator__class_weight=balanced, estimator__min_samples_split=2, estimator__max_features=0.33, estimator__bootstrap=True, estimator__max_depth=None, estimator__n_estimators=500, estimator__n_jobs=-1, score=0.859152, total= 3.9min\n",
      "[CV] estimator__min_samples_leaf=50, estimator__criterion=gini, estimator__class_weight=balanced, estimator__min_samples_split=2, estimator__max_features=0.33, estimator__bootstrap=True, estimator__max_depth=None, estimator__n_estimators=500, estimator__n_jobs=-1 \n",
      "[CV]  estimator__min_samples_leaf=50, estimator__criterion=gini, estimator__class_weight=balanced, estimator__min_samples_split=2, estimator__max_features=0.33, estimator__bootstrap=True, estimator__max_depth=None, estimator__n_estimators=500, estimator__n_jobs=-1, score=0.903786, total= 3.9min\n",
      "[CV] estimator__min_samples_leaf=50, estimator__criterion=gini, estimator__class_weight=balanced, estimator__min_samples_split=10, estimator__max_features=0.33, estimator__bootstrap=True, estimator__max_depth=None, estimator__n_estimators=500, estimator__n_jobs=-1 \n",
      "[CV]  estimator__min_samples_leaf=50, estimator__criterion=gini, estimator__class_weight=balanced, estimator__min_samples_split=10, estimator__max_features=0.33, estimator__bootstrap=True, estimator__max_depth=None, estimator__n_estimators=500, estimator__n_jobs=-1, score=0.882315, total= 3.7min\n",
      "[CV] estimator__min_samples_leaf=50, estimator__criterion=gini, estimator__class_weight=balanced, estimator__min_samples_split=10, estimator__max_features=0.33, estimator__bootstrap=True, estimator__max_depth=None, estimator__n_estimators=500, estimator__n_jobs=-1 \n",
      "[CV]  estimator__min_samples_leaf=50, estimator__criterion=gini, estimator__class_weight=balanced, estimator__min_samples_split=10, estimator__max_features=0.33, estimator__bootstrap=True, estimator__max_depth=None, estimator__n_estimators=500, estimator__n_jobs=-1, score=0.860448, total= 3.9min\n",
      "[CV] estimator__min_samples_leaf=50, estimator__criterion=gini, estimator__class_weight=balanced, estimator__min_samples_split=10, estimator__max_features=0.33, estimator__bootstrap=True, estimator__max_depth=None, estimator__n_estimators=500, estimator__n_jobs=-1 \n",
      "[CV]  estimator__min_samples_leaf=50, estimator__criterion=gini, estimator__class_weight=balanced, estimator__min_samples_split=10, estimator__max_features=0.33, estimator__bootstrap=True, estimator__max_depth=None, estimator__n_estimators=500, estimator__n_jobs=-1, score=0.897652, total= 3.9min\n",
      "[CV] estimator__min_samples_leaf=50, estimator__criterion=gini, estimator__class_weight=balanced, estimator__min_samples_split=2, estimator__max_features=0.2, estimator__bootstrap=True, estimator__max_depth=12, estimator__n_estimators=500, estimator__n_jobs=-1 \n"
     ]
    },
    {
     "name": "stdout",
     "output_type": "stream",
     "text": [
      "[CV]  estimator__min_samples_leaf=50, estimator__criterion=gini, estimator__class_weight=balanced, estimator__min_samples_split=2, estimator__max_features=0.2, estimator__bootstrap=True, estimator__max_depth=12, estimator__n_estimators=500, estimator__n_jobs=-1, score=0.881004, total= 2.2min\n",
      "[CV] estimator__min_samples_leaf=50, estimator__criterion=gini, estimator__class_weight=balanced, estimator__min_samples_split=2, estimator__max_features=0.2, estimator__bootstrap=True, estimator__max_depth=12, estimator__n_estimators=500, estimator__n_jobs=-1 \n",
      "[CV]  estimator__min_samples_leaf=50, estimator__criterion=gini, estimator__class_weight=balanced, estimator__min_samples_split=2, estimator__max_features=0.2, estimator__bootstrap=True, estimator__max_depth=12, estimator__n_estimators=500, estimator__n_jobs=-1, score=0.863168, total= 2.3min\n",
      "[CV] estimator__min_samples_leaf=50, estimator__criterion=gini, estimator__class_weight=balanced, estimator__min_samples_split=2, estimator__max_features=0.2, estimator__bootstrap=True, estimator__max_depth=12, estimator__n_estimators=500, estimator__n_jobs=-1 \n",
      "[CV]  estimator__min_samples_leaf=50, estimator__criterion=gini, estimator__class_weight=balanced, estimator__min_samples_split=2, estimator__max_features=0.2, estimator__bootstrap=True, estimator__max_depth=12, estimator__n_estimators=500, estimator__n_jobs=-1, score=0.897175, total= 2.3min\n",
      "[CV] estimator__min_samples_leaf=50, estimator__criterion=gini, estimator__class_weight=balanced, estimator__min_samples_split=10, estimator__max_features=0.2, estimator__bootstrap=True, estimator__max_depth=12, estimator__n_estimators=500, estimator__n_jobs=-1 \n",
      "[CV]  estimator__min_samples_leaf=50, estimator__criterion=gini, estimator__class_weight=balanced, estimator__min_samples_split=10, estimator__max_features=0.2, estimator__bootstrap=True, estimator__max_depth=12, estimator__n_estimators=500, estimator__n_jobs=-1, score=0.880570, total= 2.3min\n",
      "[CV] estimator__min_samples_leaf=50, estimator__criterion=gini, estimator__class_weight=balanced, estimator__min_samples_split=10, estimator__max_features=0.2, estimator__bootstrap=True, estimator__max_depth=12, estimator__n_estimators=500, estimator__n_jobs=-1 \n",
      "[CV]  estimator__min_samples_leaf=50, estimator__criterion=gini, estimator__class_weight=balanced, estimator__min_samples_split=10, estimator__max_features=0.2, estimator__bootstrap=True, estimator__max_depth=12, estimator__n_estimators=500, estimator__n_jobs=-1, score=0.870943, total= 2.3min\n",
      "[CV] estimator__min_samples_leaf=50, estimator__criterion=gini, estimator__class_weight=balanced, estimator__min_samples_split=10, estimator__max_features=0.2, estimator__bootstrap=True, estimator__max_depth=12, estimator__n_estimators=500, estimator__n_jobs=-1 \n",
      "[CV]  estimator__min_samples_leaf=50, estimator__criterion=gini, estimator__class_weight=balanced, estimator__min_samples_split=10, estimator__max_features=0.2, estimator__bootstrap=True, estimator__max_depth=12, estimator__n_estimators=500, estimator__n_jobs=-1, score=0.908144, total= 2.3min\n",
      "[CV] estimator__min_samples_leaf=50, estimator__criterion=gini, estimator__class_weight=balanced, estimator__min_samples_split=2, estimator__max_features=0.33, estimator__bootstrap=True, estimator__max_depth=12, estimator__n_estimators=500, estimator__n_jobs=-1 \n",
      "[CV]  estimator__min_samples_leaf=50, estimator__criterion=gini, estimator__class_weight=balanced, estimator__min_samples_split=2, estimator__max_features=0.33, estimator__bootstrap=True, estimator__max_depth=12, estimator__n_estimators=500, estimator__n_jobs=-1, score=0.881866, total= 3.4min\n",
      "[CV] estimator__min_samples_leaf=50, estimator__criterion=gini, estimator__class_weight=balanced, estimator__min_samples_split=2, estimator__max_features=0.33, estimator__bootstrap=True, estimator__max_depth=12, estimator__n_estimators=500, estimator__n_jobs=-1 \n",
      "[CV]  estimator__min_samples_leaf=50, estimator__criterion=gini, estimator__class_weight=balanced, estimator__min_samples_split=2, estimator__max_features=0.33, estimator__bootstrap=True, estimator__max_depth=12, estimator__n_estimators=500, estimator__n_jobs=-1, score=0.851249, total= 3.5min\n",
      "[CV] estimator__min_samples_leaf=50, estimator__criterion=gini, estimator__class_weight=balanced, estimator__min_samples_split=2, estimator__max_features=0.33, estimator__bootstrap=True, estimator__max_depth=12, estimator__n_estimators=500, estimator__n_jobs=-1 \n",
      "[CV]  estimator__min_samples_leaf=50, estimator__criterion=gini, estimator__class_weight=balanced, estimator__min_samples_split=2, estimator__max_features=0.33, estimator__bootstrap=True, estimator__max_depth=12, estimator__n_estimators=500, estimator__n_jobs=-1, score=0.896626, total= 3.6min\n",
      "[CV] estimator__min_samples_leaf=50, estimator__criterion=gini, estimator__class_weight=balanced, estimator__min_samples_split=10, estimator__max_features=0.33, estimator__bootstrap=True, estimator__max_depth=12, estimator__n_estimators=500, estimator__n_jobs=-1 \n",
      "[CV]  estimator__min_samples_leaf=50, estimator__criterion=gini, estimator__class_weight=balanced, estimator__min_samples_split=10, estimator__max_features=0.33, estimator__bootstrap=True, estimator__max_depth=12, estimator__n_estimators=500, estimator__n_jobs=-1, score=0.878555, total= 3.4min\n",
      "[CV] estimator__min_samples_leaf=50, estimator__criterion=gini, estimator__class_weight=balanced, estimator__min_samples_split=10, estimator__max_features=0.33, estimator__bootstrap=True, estimator__max_depth=12, estimator__n_estimators=500, estimator__n_jobs=-1 \n",
      "[CV]  estimator__min_samples_leaf=50, estimator__criterion=gini, estimator__class_weight=balanced, estimator__min_samples_split=10, estimator__max_features=0.33, estimator__bootstrap=True, estimator__max_depth=12, estimator__n_estimators=500, estimator__n_jobs=-1, score=0.850800, total= 3.5min\n",
      "[CV] estimator__min_samples_leaf=50, estimator__criterion=gini, estimator__class_weight=balanced, estimator__min_samples_split=10, estimator__max_features=0.33, estimator__bootstrap=True, estimator__max_depth=12, estimator__n_estimators=500, estimator__n_jobs=-1 \n",
      "[CV]  estimator__min_samples_leaf=50, estimator__criterion=gini, estimator__class_weight=balanced, estimator__min_samples_split=10, estimator__max_features=0.33, estimator__bootstrap=True, estimator__max_depth=12, estimator__n_estimators=500, estimator__n_jobs=-1, score=0.890877, total= 3.6min\n",
      "[CV] estimator__min_samples_leaf=50, estimator__criterion=gini, estimator__class_weight=balanced, estimator__min_samples_split=2, estimator__max_features=0.2, estimator__bootstrap=True, estimator__max_depth=14, estimator__n_estimators=500, estimator__n_jobs=-1 \n",
      "[CV]  estimator__min_samples_leaf=50, estimator__criterion=gini, estimator__class_weight=balanced, estimator__min_samples_split=2, estimator__max_features=0.2, estimator__bootstrap=True, estimator__max_depth=14, estimator__n_estimators=500, estimator__n_jobs=-1, score=0.889820, total= 2.4min\n",
      "[CV] estimator__min_samples_leaf=50, estimator__criterion=gini, estimator__class_weight=balanced, estimator__min_samples_split=2, estimator__max_features=0.2, estimator__bootstrap=True, estimator__max_depth=14, estimator__n_estimators=500, estimator__n_jobs=-1 \n",
      "[CV]  estimator__min_samples_leaf=50, estimator__criterion=gini, estimator__class_weight=balanced, estimator__min_samples_split=2, estimator__max_features=0.2, estimator__bootstrap=True, estimator__max_depth=14, estimator__n_estimators=500, estimator__n_jobs=-1, score=0.874240, total= 2.4min\n",
      "[CV] estimator__min_samples_leaf=50, estimator__criterion=gini, estimator__class_weight=balanced, estimator__min_samples_split=2, estimator__max_features=0.2, estimator__bootstrap=True, estimator__max_depth=14, estimator__n_estimators=500, estimator__n_jobs=-1 \n",
      "[CV]  estimator__min_samples_leaf=50, estimator__criterion=gini, estimator__class_weight=balanced, estimator__min_samples_split=2, estimator__max_features=0.2, estimator__bootstrap=True, estimator__max_depth=14, estimator__n_estimators=500, estimator__n_jobs=-1, score=0.911404, total= 2.4min\n",
      "[CV] estimator__min_samples_leaf=50, estimator__criterion=gini, estimator__class_weight=balanced, estimator__min_samples_split=10, estimator__max_features=0.2, estimator__bootstrap=True, estimator__max_depth=14, estimator__n_estimators=500, estimator__n_jobs=-1 \n"
     ]
    },
    {
     "name": "stdout",
     "output_type": "stream",
     "text": [
      "[CV]  estimator__min_samples_leaf=50, estimator__criterion=gini, estimator__class_weight=balanced, estimator__min_samples_split=10, estimator__max_features=0.2, estimator__bootstrap=True, estimator__max_depth=14, estimator__n_estimators=500, estimator__n_jobs=-1, score=0.888780, total= 2.3min\n",
      "[CV] estimator__min_samples_leaf=50, estimator__criterion=gini, estimator__class_weight=balanced, estimator__min_samples_split=10, estimator__max_features=0.2, estimator__bootstrap=True, estimator__max_depth=14, estimator__n_estimators=500, estimator__n_jobs=-1 \n",
      "[CV]  estimator__min_samples_leaf=50, estimator__criterion=gini, estimator__class_weight=balanced, estimator__min_samples_split=10, estimator__max_features=0.2, estimator__bootstrap=True, estimator__max_depth=14, estimator__n_estimators=500, estimator__n_jobs=-1, score=0.866080, total= 2.4min\n",
      "[CV] estimator__min_samples_leaf=50, estimator__criterion=gini, estimator__class_weight=balanced, estimator__min_samples_split=10, estimator__max_features=0.2, estimator__bootstrap=True, estimator__max_depth=14, estimator__n_estimators=500, estimator__n_jobs=-1 \n",
      "[CV]  estimator__min_samples_leaf=50, estimator__criterion=gini, estimator__class_weight=balanced, estimator__min_samples_split=10, estimator__max_features=0.2, estimator__bootstrap=True, estimator__max_depth=14, estimator__n_estimators=500, estimator__n_jobs=-1, score=0.911083, total= 2.4min\n",
      "[CV] estimator__min_samples_leaf=50, estimator__criterion=gini, estimator__class_weight=balanced, estimator__min_samples_split=2, estimator__max_features=0.33, estimator__bootstrap=True, estimator__max_depth=14, estimator__n_estimators=500, estimator__n_jobs=-1 \n",
      "[CV]  estimator__min_samples_leaf=50, estimator__criterion=gini, estimator__class_weight=balanced, estimator__min_samples_split=2, estimator__max_features=0.33, estimator__bootstrap=True, estimator__max_depth=14, estimator__n_estimators=500, estimator__n_jobs=-1, score=0.876491, total= 3.5min\n",
      "[CV] estimator__min_samples_leaf=50, estimator__criterion=gini, estimator__class_weight=balanced, estimator__min_samples_split=2, estimator__max_features=0.33, estimator__bootstrap=True, estimator__max_depth=14, estimator__n_estimators=500, estimator__n_jobs=-1 \n",
      "[CV]  estimator__min_samples_leaf=50, estimator__criterion=gini, estimator__class_weight=balanced, estimator__min_samples_split=2, estimator__max_features=0.33, estimator__bootstrap=True, estimator__max_depth=14, estimator__n_estimators=500, estimator__n_jobs=-1, score=0.856368, total= 3.7min\n",
      "[CV] estimator__min_samples_leaf=50, estimator__criterion=gini, estimator__class_weight=balanced, estimator__min_samples_split=2, estimator__max_features=0.33, estimator__bootstrap=True, estimator__max_depth=14, estimator__n_estimators=500, estimator__n_jobs=-1 \n",
      "[CV]  estimator__min_samples_leaf=50, estimator__criterion=gini, estimator__class_weight=balanced, estimator__min_samples_split=2, estimator__max_features=0.33, estimator__bootstrap=True, estimator__max_depth=14, estimator__n_estimators=500, estimator__n_jobs=-1, score=0.896526, total= 3.7min\n",
      "[CV] estimator__min_samples_leaf=50, estimator__criterion=gini, estimator__class_weight=balanced, estimator__min_samples_split=10, estimator__max_features=0.33, estimator__bootstrap=True, estimator__max_depth=14, estimator__n_estimators=500, estimator__n_jobs=-1 \n",
      "[CV]  estimator__min_samples_leaf=50, estimator__criterion=gini, estimator__class_weight=balanced, estimator__min_samples_split=10, estimator__max_features=0.33, estimator__bootstrap=True, estimator__max_depth=14, estimator__n_estimators=500, estimator__n_jobs=-1, score=0.882650, total= 3.6min\n",
      "[CV] estimator__min_samples_leaf=50, estimator__criterion=gini, estimator__class_weight=balanced, estimator__min_samples_split=10, estimator__max_features=0.33, estimator__bootstrap=True, estimator__max_depth=14, estimator__n_estimators=500, estimator__n_jobs=-1 \n",
      "[CV]  estimator__min_samples_leaf=50, estimator__criterion=gini, estimator__class_weight=balanced, estimator__min_samples_split=10, estimator__max_features=0.33, estimator__bootstrap=True, estimator__max_depth=14, estimator__n_estimators=500, estimator__n_jobs=-1, score=0.861360, total= 3.7min\n",
      "[CV] estimator__min_samples_leaf=50, estimator__criterion=gini, estimator__class_weight=balanced, estimator__min_samples_split=10, estimator__max_features=0.33, estimator__bootstrap=True, estimator__max_depth=14, estimator__n_estimators=500, estimator__n_jobs=-1 \n",
      "[CV]  estimator__min_samples_leaf=50, estimator__criterion=gini, estimator__class_weight=balanced, estimator__min_samples_split=10, estimator__max_features=0.33, estimator__bootstrap=True, estimator__max_depth=14, estimator__n_estimators=500, estimator__n_jobs=-1, score=0.898037, total= 3.7min\n",
      "[CV] estimator__min_samples_leaf=50, estimator__criterion=gini, estimator__class_weight=balanced_subsample, estimator__min_samples_split=2, estimator__max_features=0.2, estimator__bootstrap=True, estimator__max_depth=None, estimator__n_estimators=500, estimator__n_jobs=-1 \n",
      "[CV]  estimator__min_samples_leaf=50, estimator__criterion=gini, estimator__class_weight=balanced_subsample, estimator__min_samples_split=2, estimator__max_features=0.2, estimator__bootstrap=True, estimator__max_depth=None, estimator__n_estimators=500, estimator__n_jobs=-1, score=0.883227, total= 2.5min\n",
      "[CV] estimator__min_samples_leaf=50, estimator__criterion=gini, estimator__class_weight=balanced_subsample, estimator__min_samples_split=2, estimator__max_features=0.2, estimator__bootstrap=True, estimator__max_depth=None, estimator__n_estimators=500, estimator__n_jobs=-1 \n",
      "[CV]  estimator__min_samples_leaf=50, estimator__criterion=gini, estimator__class_weight=balanced_subsample, estimator__min_samples_split=2, estimator__max_features=0.2, estimator__bootstrap=True, estimator__max_depth=None, estimator__n_estimators=500, estimator__n_jobs=-1, score=0.872944, total= 2.6min\n",
      "[CV] estimator__min_samples_leaf=50, estimator__criterion=gini, estimator__class_weight=balanced_subsample, estimator__min_samples_split=2, estimator__max_features=0.2, estimator__bootstrap=True, estimator__max_depth=None, estimator__n_estimators=500, estimator__n_jobs=-1 \n",
      "[CV]  estimator__min_samples_leaf=50, estimator__criterion=gini, estimator__class_weight=balanced_subsample, estimator__min_samples_split=2, estimator__max_features=0.2, estimator__bootstrap=True, estimator__max_depth=None, estimator__n_estimators=500, estimator__n_jobs=-1, score=0.914535, total= 2.6min\n",
      "[CV] estimator__min_samples_leaf=50, estimator__criterion=gini, estimator__class_weight=balanced_subsample, estimator__min_samples_split=10, estimator__max_features=0.2, estimator__bootstrap=True, estimator__max_depth=None, estimator__n_estimators=500, estimator__n_jobs=-1 \n",
      "[CV]  estimator__min_samples_leaf=50, estimator__criterion=gini, estimator__class_weight=balanced_subsample, estimator__min_samples_split=10, estimator__max_features=0.2, estimator__bootstrap=True, estimator__max_depth=None, estimator__n_estimators=500, estimator__n_jobs=-1, score=0.880315, total= 2.5min\n",
      "[CV] estimator__min_samples_leaf=50, estimator__criterion=gini, estimator__class_weight=balanced_subsample, estimator__min_samples_split=10, estimator__max_features=0.2, estimator__bootstrap=True, estimator__max_depth=None, estimator__n_estimators=500, estimator__n_jobs=-1 \n",
      "[CV]  estimator__min_samples_leaf=50, estimator__criterion=gini, estimator__class_weight=balanced_subsample, estimator__min_samples_split=10, estimator__max_features=0.2, estimator__bootstrap=True, estimator__max_depth=None, estimator__n_estimators=500, estimator__n_jobs=-1, score=0.877858, total= 2.6min\n",
      "[CV] estimator__min_samples_leaf=50, estimator__criterion=gini, estimator__class_weight=balanced_subsample, estimator__min_samples_split=10, estimator__max_features=0.2, estimator__bootstrap=True, estimator__max_depth=None, estimator__n_estimators=500, estimator__n_jobs=-1 \n",
      "[CV]  estimator__min_samples_leaf=50, estimator__criterion=gini, estimator__class_weight=balanced_subsample, estimator__min_samples_split=10, estimator__max_features=0.2, estimator__bootstrap=True, estimator__max_depth=None, estimator__n_estimators=500, estimator__n_jobs=-1, score=0.911083, total= 2.6min\n",
      "[CV] estimator__min_samples_leaf=50, estimator__criterion=gini, estimator__class_weight=balanced_subsample, estimator__min_samples_split=2, estimator__max_features=0.33, estimator__bootstrap=True, estimator__max_depth=None, estimator__n_estimators=500, estimator__n_jobs=-1 \n"
     ]
    },
    {
     "name": "stdout",
     "output_type": "stream",
     "text": [
      "[CV]  estimator__min_samples_leaf=50, estimator__criterion=gini, estimator__class_weight=balanced_subsample, estimator__min_samples_split=2, estimator__max_features=0.33, estimator__bootstrap=True, estimator__max_depth=None, estimator__n_estimators=500, estimator__n_jobs=-1, score=0.882700, total= 3.7min\n",
      "[CV] estimator__min_samples_leaf=50, estimator__criterion=gini, estimator__class_weight=balanced_subsample, estimator__min_samples_split=2, estimator__max_features=0.33, estimator__bootstrap=True, estimator__max_depth=None, estimator__n_estimators=500, estimator__n_jobs=-1 \n",
      "[CV]  estimator__min_samples_leaf=50, estimator__criterion=gini, estimator__class_weight=balanced_subsample, estimator__min_samples_split=2, estimator__max_features=0.33, estimator__bootstrap=True, estimator__max_depth=None, estimator__n_estimators=500, estimator__n_jobs=-1, score=0.859615, total= 3.9min\n",
      "[CV] estimator__min_samples_leaf=50, estimator__criterion=gini, estimator__class_weight=balanced_subsample, estimator__min_samples_split=2, estimator__max_features=0.33, estimator__bootstrap=True, estimator__max_depth=None, estimator__n_estimators=500, estimator__n_jobs=-1 \n",
      "[CV]  estimator__min_samples_leaf=50, estimator__criterion=gini, estimator__class_weight=balanced_subsample, estimator__min_samples_split=2, estimator__max_features=0.33, estimator__bootstrap=True, estimator__max_depth=None, estimator__n_estimators=500, estimator__n_jobs=-1, score=0.897652, total= 3.9min\n",
      "[CV] estimator__min_samples_leaf=50, estimator__criterion=gini, estimator__class_weight=balanced_subsample, estimator__min_samples_split=10, estimator__max_features=0.33, estimator__bootstrap=True, estimator__max_depth=None, estimator__n_estimators=500, estimator__n_jobs=-1 \n",
      "[CV]  estimator__min_samples_leaf=50, estimator__criterion=gini, estimator__class_weight=balanced_subsample, estimator__min_samples_split=10, estimator__max_features=0.33, estimator__bootstrap=True, estimator__max_depth=None, estimator__n_estimators=500, estimator__n_jobs=-1, score=0.882507, total= 3.7min\n",
      "[CV] estimator__min_samples_leaf=50, estimator__criterion=gini, estimator__class_weight=balanced_subsample, estimator__min_samples_split=10, estimator__max_features=0.33, estimator__bootstrap=True, estimator__max_depth=None, estimator__n_estimators=500, estimator__n_jobs=-1 \n",
      "[CV]  estimator__min_samples_leaf=50, estimator__criterion=gini, estimator__class_weight=balanced_subsample, estimator__min_samples_split=10, estimator__max_features=0.33, estimator__bootstrap=True, estimator__max_depth=None, estimator__n_estimators=500, estimator__n_jobs=-1, score=0.856111, total= 3.9min\n",
      "[CV] estimator__min_samples_leaf=50, estimator__criterion=gini, estimator__class_weight=balanced_subsample, estimator__min_samples_split=10, estimator__max_features=0.33, estimator__bootstrap=True, estimator__max_depth=None, estimator__n_estimators=500, estimator__n_jobs=-1 \n",
      "[CV]  estimator__min_samples_leaf=50, estimator__criterion=gini, estimator__class_weight=balanced_subsample, estimator__min_samples_split=10, estimator__max_features=0.33, estimator__bootstrap=True, estimator__max_depth=None, estimator__n_estimators=500, estimator__n_jobs=-1, score=0.897396, total= 3.9min\n",
      "[CV] estimator__min_samples_leaf=50, estimator__criterion=gini, estimator__class_weight=balanced_subsample, estimator__min_samples_split=2, estimator__max_features=0.2, estimator__bootstrap=True, estimator__max_depth=12, estimator__n_estimators=500, estimator__n_jobs=-1 \n",
      "[CV]  estimator__min_samples_leaf=50, estimator__criterion=gini, estimator__class_weight=balanced_subsample, estimator__min_samples_split=2, estimator__max_features=0.2, estimator__bootstrap=True, estimator__max_depth=12, estimator__n_estimators=500, estimator__n_jobs=-1, score=0.888203, total= 2.2min\n",
      "[CV] estimator__min_samples_leaf=50, estimator__criterion=gini, estimator__class_weight=balanced_subsample, estimator__min_samples_split=2, estimator__max_features=0.2, estimator__bootstrap=True, estimator__max_depth=12, estimator__n_estimators=500, estimator__n_jobs=-1 \n",
      "[CV]  estimator__min_samples_leaf=50, estimator__criterion=gini, estimator__class_weight=balanced_subsample, estimator__min_samples_split=2, estimator__max_features=0.2, estimator__bootstrap=True, estimator__max_depth=12, estimator__n_estimators=500, estimator__n_jobs=-1, score=0.866927, total= 2.3min\n",
      "[CV] estimator__min_samples_leaf=50, estimator__criterion=gini, estimator__class_weight=balanced_subsample, estimator__min_samples_split=2, estimator__max_features=0.2, estimator__bootstrap=True, estimator__max_depth=12, estimator__n_estimators=500, estimator__n_jobs=-1 \n",
      "[CV]  estimator__min_samples_leaf=50, estimator__criterion=gini, estimator__class_weight=balanced_subsample, estimator__min_samples_split=2, estimator__max_features=0.2, estimator__bootstrap=True, estimator__max_depth=12, estimator__n_estimators=500, estimator__n_jobs=-1, score=0.910891, total= 2.3min\n",
      "[CV] estimator__min_samples_leaf=50, estimator__criterion=gini, estimator__class_weight=balanced_subsample, estimator__min_samples_split=10, estimator__max_features=0.2, estimator__bootstrap=True, estimator__max_depth=12, estimator__n_estimators=500, estimator__n_jobs=-1 \n",
      "[CV]  estimator__min_samples_leaf=50, estimator__criterion=gini, estimator__class_weight=balanced_subsample, estimator__min_samples_split=10, estimator__max_features=0.2, estimator__bootstrap=True, estimator__max_depth=12, estimator__n_estimators=500, estimator__n_jobs=-1, score=0.885946, total= 2.2min\n",
      "[CV] estimator__min_samples_leaf=50, estimator__criterion=gini, estimator__class_weight=balanced_subsample, estimator__min_samples_split=10, estimator__max_features=0.2, estimator__bootstrap=True, estimator__max_depth=12, estimator__n_estimators=500, estimator__n_jobs=-1 \n",
      "[CV]  estimator__min_samples_leaf=50, estimator__criterion=gini, estimator__class_weight=balanced_subsample, estimator__min_samples_split=10, estimator__max_features=0.2, estimator__bootstrap=True, estimator__max_depth=12, estimator__n_estimators=500, estimator__n_jobs=-1, score=0.871186, total= 2.3min\n",
      "[CV] estimator__min_samples_leaf=50, estimator__criterion=gini, estimator__class_weight=balanced_subsample, estimator__min_samples_split=10, estimator__max_features=0.2, estimator__bootstrap=True, estimator__max_depth=12, estimator__n_estimators=500, estimator__n_jobs=-1 \n",
      "[CV]  estimator__min_samples_leaf=50, estimator__criterion=gini, estimator__class_weight=balanced_subsample, estimator__min_samples_split=10, estimator__max_features=0.2, estimator__bootstrap=True, estimator__max_depth=12, estimator__n_estimators=500, estimator__n_jobs=-1, score=0.907182, total= 2.3min\n",
      "[CV] estimator__min_samples_leaf=50, estimator__criterion=gini, estimator__class_weight=balanced_subsample, estimator__min_samples_split=2, estimator__max_features=0.33, estimator__bootstrap=True, estimator__max_depth=12, estimator__n_estimators=500, estimator__n_jobs=-1 \n",
      "[CV]  estimator__min_samples_leaf=50, estimator__criterion=gini, estimator__class_weight=balanced_subsample, estimator__min_samples_split=2, estimator__max_features=0.33, estimator__bootstrap=True, estimator__max_depth=12, estimator__n_estimators=500, estimator__n_jobs=-1, score=0.876747, total= 3.4min\n",
      "[CV] estimator__min_samples_leaf=50, estimator__criterion=gini, estimator__class_weight=balanced_subsample, estimator__min_samples_split=2, estimator__max_features=0.33, estimator__bootstrap=True, estimator__max_depth=12, estimator__n_estimators=500, estimator__n_jobs=-1 \n",
      "[CV]  estimator__min_samples_leaf=50, estimator__criterion=gini, estimator__class_weight=balanced_subsample, estimator__min_samples_split=2, estimator__max_features=0.33, estimator__bootstrap=True, estimator__max_depth=12, estimator__n_estimators=500, estimator__n_jobs=-1, score=0.857344, total= 3.5min\n",
      "[CV] estimator__min_samples_leaf=50, estimator__criterion=gini, estimator__class_weight=balanced_subsample, estimator__min_samples_split=2, estimator__max_features=0.33, estimator__bootstrap=True, estimator__max_depth=12, estimator__n_estimators=500, estimator__n_jobs=-1 \n",
      "[CV]  estimator__min_samples_leaf=50, estimator__criterion=gini, estimator__class_weight=balanced_subsample, estimator__min_samples_split=2, estimator__max_features=0.33, estimator__bootstrap=True, estimator__max_depth=12, estimator__n_estimators=500, estimator__n_jobs=-1, score=0.896755, total= 3.6min\n",
      "[CV] estimator__min_samples_leaf=50, estimator__criterion=gini, estimator__class_weight=balanced_subsample, estimator__min_samples_split=10, estimator__max_features=0.33, estimator__bootstrap=True, estimator__max_depth=12, estimator__n_estimators=500, estimator__n_jobs=-1 \n"
     ]
    },
    {
     "name": "stdout",
     "output_type": "stream",
     "text": [
      "[CV]  estimator__min_samples_leaf=50, estimator__criterion=gini, estimator__class_weight=balanced_subsample, estimator__min_samples_split=10, estimator__max_features=0.33, estimator__bootstrap=True, estimator__max_depth=12, estimator__n_estimators=500, estimator__n_jobs=-1, score=0.880570, total= 3.4min\n",
      "[CV] estimator__min_samples_leaf=50, estimator__criterion=gini, estimator__class_weight=balanced_subsample, estimator__min_samples_split=10, estimator__max_features=0.33, estimator__bootstrap=True, estimator__max_depth=12, estimator__n_estimators=500, estimator__n_jobs=-1 \n",
      "[CV]  estimator__min_samples_leaf=50, estimator__criterion=gini, estimator__class_weight=balanced_subsample, estimator__min_samples_split=10, estimator__max_features=0.33, estimator__bootstrap=True, estimator__max_depth=12, estimator__n_estimators=500, estimator__n_jobs=-1, score=0.850159, total= 3.5min\n",
      "[CV] estimator__min_samples_leaf=50, estimator__criterion=gini, estimator__class_weight=balanced_subsample, estimator__min_samples_split=10, estimator__max_features=0.33, estimator__bootstrap=True, estimator__max_depth=12, estimator__n_estimators=500, estimator__n_jobs=-1 \n",
      "[CV]  estimator__min_samples_leaf=50, estimator__criterion=gini, estimator__class_weight=balanced_subsample, estimator__min_samples_split=10, estimator__max_features=0.33, estimator__bootstrap=True, estimator__max_depth=12, estimator__n_estimators=500, estimator__n_jobs=-1, score=0.897268, total= 3.6min\n",
      "[CV] estimator__min_samples_leaf=50, estimator__criterion=gini, estimator__class_weight=balanced_subsample, estimator__min_samples_split=2, estimator__max_features=0.2, estimator__bootstrap=True, estimator__max_depth=14, estimator__n_estimators=500, estimator__n_jobs=-1 \n",
      "[CV]  estimator__min_samples_leaf=50, estimator__criterion=gini, estimator__class_weight=balanced_subsample, estimator__min_samples_split=2, estimator__max_features=0.2, estimator__bootstrap=True, estimator__max_depth=14, estimator__n_estimators=500, estimator__n_jobs=-1, score=0.892732, total= 2.3min\n",
      "[CV] estimator__min_samples_leaf=50, estimator__criterion=gini, estimator__class_weight=balanced_subsample, estimator__min_samples_split=2, estimator__max_features=0.2, estimator__bootstrap=True, estimator__max_depth=14, estimator__n_estimators=500, estimator__n_jobs=-1 \n",
      "[CV]  estimator__min_samples_leaf=50, estimator__criterion=gini, estimator__class_weight=balanced_subsample, estimator__min_samples_split=2, estimator__max_features=0.2, estimator__bootstrap=True, estimator__max_depth=14, estimator__n_estimators=500, estimator__n_jobs=-1, score=0.874162, total= 2.4min\n",
      "[CV] estimator__min_samples_leaf=50, estimator__criterion=gini, estimator__class_weight=balanced_subsample, estimator__min_samples_split=2, estimator__max_features=0.2, estimator__bootstrap=True, estimator__max_depth=14, estimator__n_estimators=500, estimator__n_jobs=-1 \n",
      "[CV]  estimator__min_samples_leaf=50, estimator__criterion=gini, estimator__class_weight=balanced_subsample, estimator__min_samples_split=2, estimator__max_features=0.2, estimator__bootstrap=True, estimator__max_depth=14, estimator__n_estimators=500, estimator__n_jobs=-1, score=0.911468, total= 2.4min\n",
      "[CV] estimator__min_samples_leaf=50, estimator__criterion=gini, estimator__class_weight=balanced_subsample, estimator__min_samples_split=10, estimator__max_features=0.2, estimator__bootstrap=True, estimator__max_depth=14, estimator__n_estimators=500, estimator__n_jobs=-1 \n",
      "[CV]  estimator__min_samples_leaf=50, estimator__criterion=gini, estimator__class_weight=balanced_subsample, estimator__min_samples_split=10, estimator__max_features=0.2, estimator__bootstrap=True, estimator__max_depth=14, estimator__n_estimators=500, estimator__n_jobs=-1, score=0.888859, total= 2.4min\n",
      "[CV] estimator__min_samples_leaf=50, estimator__criterion=gini, estimator__class_weight=balanced_subsample, estimator__min_samples_split=10, estimator__max_features=0.2, estimator__bootstrap=True, estimator__max_depth=14, estimator__n_estimators=500, estimator__n_jobs=-1 \n",
      "[CV]  estimator__min_samples_leaf=50, estimator__criterion=gini, estimator__class_weight=balanced_subsample, estimator__min_samples_split=10, estimator__max_features=0.2, estimator__bootstrap=True, estimator__max_depth=14, estimator__n_estimators=500, estimator__n_jobs=-1, score=0.870545, total= 2.4min\n",
      "[CV] estimator__min_samples_leaf=50, estimator__criterion=gini, estimator__class_weight=balanced_subsample, estimator__min_samples_split=10, estimator__max_features=0.2, estimator__bootstrap=True, estimator__max_depth=14, estimator__n_estimators=500, estimator__n_jobs=-1 \n",
      "[CV]  estimator__min_samples_leaf=50, estimator__criterion=gini, estimator__class_weight=balanced_subsample, estimator__min_samples_split=10, estimator__max_features=0.2, estimator__bootstrap=True, estimator__max_depth=14, estimator__n_estimators=500, estimator__n_jobs=-1, score=0.914827, total= 2.5min\n",
      "[CV] estimator__min_samples_leaf=50, estimator__criterion=gini, estimator__class_weight=balanced_subsample, estimator__min_samples_split=2, estimator__max_features=0.33, estimator__bootstrap=True, estimator__max_depth=14, estimator__n_estimators=500, estimator__n_jobs=-1 \n",
      "[CV]  estimator__min_samples_leaf=50, estimator__criterion=gini, estimator__class_weight=balanced_subsample, estimator__min_samples_split=2, estimator__max_features=0.33, estimator__bootstrap=True, estimator__max_depth=14, estimator__n_estimators=500, estimator__n_jobs=-1, score=0.879659, total= 3.6min\n",
      "[CV] estimator__min_samples_leaf=50, estimator__criterion=gini, estimator__class_weight=balanced_subsample, estimator__min_samples_split=2, estimator__max_features=0.33, estimator__bootstrap=True, estimator__max_depth=14, estimator__n_estimators=500, estimator__n_jobs=-1 \n",
      "[CV]  estimator__min_samples_leaf=50, estimator__criterion=gini, estimator__class_weight=balanced_subsample, estimator__min_samples_split=2, estimator__max_features=0.33, estimator__bootstrap=True, estimator__max_depth=14, estimator__n_estimators=500, estimator__n_jobs=-1, score=0.861296, total= 3.7min\n",
      "[CV] estimator__min_samples_leaf=50, estimator__criterion=gini, estimator__class_weight=balanced_subsample, estimator__min_samples_split=2, estimator__max_features=0.33, estimator__bootstrap=True, estimator__max_depth=14, estimator__n_estimators=500, estimator__n_jobs=-1 \n",
      "[CV]  estimator__min_samples_leaf=50, estimator__criterion=gini, estimator__class_weight=balanced_subsample, estimator__min_samples_split=2, estimator__max_features=0.33, estimator__bootstrap=True, estimator__max_depth=14, estimator__n_estimators=500, estimator__n_jobs=-1, score=0.901168, total= 3.7min\n",
      "[CV] estimator__min_samples_leaf=50, estimator__criterion=gini, estimator__class_weight=balanced_subsample, estimator__min_samples_split=10, estimator__max_features=0.33, estimator__bootstrap=True, estimator__max_depth=14, estimator__n_estimators=500, estimator__n_jobs=-1 \n",
      "[CV]  estimator__min_samples_leaf=50, estimator__criterion=gini, estimator__class_weight=balanced_subsample, estimator__min_samples_split=10, estimator__max_features=0.33, estimator__bootstrap=True, estimator__max_depth=14, estimator__n_estimators=500, estimator__n_jobs=-1, score=0.882507, total= 3.6min\n",
      "[CV] estimator__min_samples_leaf=50, estimator__criterion=gini, estimator__class_weight=balanced_subsample, estimator__min_samples_split=10, estimator__max_features=0.33, estimator__bootstrap=True, estimator__max_depth=14, estimator__n_estimators=500, estimator__n_jobs=-1 \n",
      "[CV]  estimator__min_samples_leaf=50, estimator__criterion=gini, estimator__class_weight=balanced_subsample, estimator__min_samples_split=10, estimator__max_features=0.33, estimator__bootstrap=True, estimator__max_depth=14, estimator__n_estimators=500, estimator__n_jobs=-1, score=0.856560, total= 3.7min\n",
      "[CV] estimator__min_samples_leaf=50, estimator__criterion=gini, estimator__class_weight=balanced_subsample, estimator__min_samples_split=10, estimator__max_features=0.33, estimator__bootstrap=True, estimator__max_depth=14, estimator__n_estimators=500, estimator__n_jobs=-1 \n",
      "[CV]  estimator__min_samples_leaf=50, estimator__criterion=gini, estimator__class_weight=balanced_subsample, estimator__min_samples_split=10, estimator__max_features=0.33, estimator__bootstrap=True, estimator__max_depth=14, estimator__n_estimators=500, estimator__n_jobs=-1, score=0.897396, total= 3.7min\n"
     ]
    },
    {
     "name": "stderr",
     "output_type": "stream",
     "text": [
      "[Parallel(n_jobs=1)]: Done 144 out of 144 | elapsed: 575.5min finished\n"
     ]
    },
    {
     "name": "stdout",
     "output_type": "stream",
     "text": [
      "Accuracy Score: 0.954576354984\n",
      "               precision    recall  f1-score   support\n",
      "\n",
      "        other       1.00      0.95      0.98     15598\n",
      "    royalties       0.43      0.99      0.60       335\n",
      "stabilization       0.46      0.99      0.63       248\n",
      "\n",
      "  avg / total       0.98      0.95      0.96     16181\n",
      "\n"
     ]
    }
   ],
   "source": [
    "label_results = grid_search(X, y, classifiers, parameters)"
   ]
  },
  {
   "cell_type": "code",
   "execution_count": 42,
   "metadata": {},
   "outputs": [
    {
     "data": {
      "text/html": [
       "<div>\n",
       "<style>\n",
       "    .dataframe thead tr:only-child th {\n",
       "        text-align: right;\n",
       "    }\n",
       "\n",
       "    .dataframe thead th {\n",
       "        text-align: left;\n",
       "    }\n",
       "\n",
       "    .dataframe tbody tr th {\n",
       "        vertical-align: top;\n",
       "    }\n",
       "</style>\n",
       "<table border=\"1\" class=\"dataframe\">\n",
       "  <thead>\n",
       "    <tr style=\"text-align: right;\">\n",
       "      <th></th>\n",
       "      <th>Model</th>\n",
       "      <th>Scoring Method</th>\n",
       "      <th>Best Params</th>\n",
       "      <th>Recall</th>\n",
       "    </tr>\n",
       "  </thead>\n",
       "  <tbody>\n",
       "    <tr>\n",
       "      <th>0</th>\n",
       "      <td>RandomForestClassifier</td>\n",
       "      <td>recall_macro</td>\n",
       "      <td>{u'estimator__min_samples_leaf': 50, u'estimator__criterion': u'gini', u'estimator__class_weight': u'balanced', u'estimator__min_samples_split': 2, u'estimator__max_features': 0.2, u'estimator__bootstrap': False, u'estimator__max_depth': None, u'estimator__n_estimators': 500, u'estimator__n_jobs': -1}</td>\n",
       "      <td>0.901507</td>\n",
       "    </tr>\n",
       "  </tbody>\n",
       "</table>\n",
       "</div>"
      ],
      "text/plain": [
       "                    Model Scoring Method  \\\n",
       "0  RandomForestClassifier   recall_macro   \n",
       "\n",
       "                                                                                                                                                                                                                                                                                                      Best Params  \\\n",
       "0  {u'estimator__min_samples_leaf': 50, u'estimator__criterion': u'gini', u'estimator__class_weight': u'balanced', u'estimator__min_samples_split': 2, u'estimator__max_features': 0.2, u'estimator__bootstrap': False, u'estimator__max_depth': None, u'estimator__n_estimators': 500, u'estimator__n_jobs': -1}   \n",
       "\n",
       "     Recall  \n",
       "0  0.901507  "
      ]
     },
     "metadata": {},
     "output_type": "display_data"
    }
   ],
   "source": [
    "pd.set_option('max_colwidth',500)\n",
    "resultsdf = pd.DataFrame(label_results)\n",
    "resultsdf.columns = ['Model','Scoring Method','Best Params','Recall']\n",
    "resultsdf.to_csv('Multiclass_grid_search_results.csv')\n",
    "display(resultsdf.sort_values(by='Recall',ascending=False))"
   ]
  },
  {
   "cell_type": "code",
   "execution_count": null,
   "metadata": {
    "collapsed": true
   },
   "outputs": [],
   "source": []
  }
 ],
 "metadata": {
  "anaconda-cloud": {},
  "kernelspec": {
   "display_name": "Python 2",
   "language": "python",
   "name": "python2"
  },
  "language_info": {
   "codemirror_mode": {
    "name": "ipython",
    "version": 2
   },
   "file_extension": ".py",
   "mimetype": "text/x-python",
   "name": "python",
   "nbconvert_exporter": "python",
   "pygments_lexer": "ipython2",
   "version": "2.7.13"
  }
 },
 "nbformat": 4,
 "nbformat_minor": 2
}
