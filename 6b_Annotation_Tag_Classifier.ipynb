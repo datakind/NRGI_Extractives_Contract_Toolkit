{
 "cells": [
  {
   "cell_type": "markdown",
   "metadata": {},
   "source": [
    "![alt text](DataKind_orange.png)"
   ]
  },
  {
   "cell_type": "markdown",
   "metadata": {},
   "source": [
    "### Binary classification of contract clause types"
   ]
  },
  {
   "cell_type": "code",
   "execution_count": 8,
   "metadata": {
    "collapsed": true
   },
   "outputs": [],
   "source": [
    "import os\n",
    "import gc\n",
    "from collections import Counter\n",
    "from itertools import product\n",
    "import re\n",
    "import pandas as pd\n",
    "import numpy as np\n",
    "\n",
    "from sklearn.dummy import DummyClassifier\n",
    "from sklearn.linear_model import LogisticRegression\n",
    "from sklearn.ensemble import RandomForestClassifier\n",
    "from sklearn.model_selection import train_test_split, cross_val_score\n",
    "from sklearn.metrics import accuracy_score, precision_score, recall_score, roc_auc_score\n",
    "from sklearn.metrics import confusion_matrix\n",
    "from sklearn.feature_extraction.text import TfidfVectorizer\n",
    "from sklearn.externals import joblib\n",
    "\n",
    "import nltk\n",
    "from nltk.corpus import stopwords\n",
    "from nltk.stem.snowball import SnowballStemmer\n",
    "from nltk import word_tokenize, pos_tag\n",
    "from textblob import TextBlob\n",
    "from textstat.textstat import textstat\n",
    "from langdetect import detect\n",
    "\n",
    "from IPython.display import display\n",
    "import matplotlib.pyplot as plt\n",
    "%matplotlib inline\n",
    "import seaborn as sns\n",
    "sns.set_context('notebook', rc={'figure.figsize': (10, 6)}, font_scale=1.5)"
   ]
  },
  {
   "cell_type": "code",
   "execution_count": 9,
   "metadata": {
    "collapsed": true
   },
   "outputs": [],
   "source": [
    "resource_folder = 'contract_data/Contracts_Annotations/resource_contracts/'\n",
    "land_folder = 'contract_data/Contracts_Annotations/openland_contracts/'\n",
    "folders = [resource_folder,land_folder]"
   ]
  },
  {
   "cell_type": "code",
   "execution_count": 10,
   "metadata": {
    "collapsed": true
   },
   "outputs": [],
   "source": [
    "target_label = 'royalties'\n",
    "n_folds = 5"
   ]
  },
  {
   "cell_type": "code",
   "execution_count": 11,
   "metadata": {
    "collapsed": true
   },
   "outputs": [],
   "source": [
    "# Languages must be supported by NLTK Snowball Stemmer and stopwords\n",
    "languages = ['english','french','spanish','italian','portuguese','dutch','swedish']\n",
    "language_codes = pd.read_csv('http://data.okfn.org/data/core/language-codes/r/language-codes.csv')\n",
    "language_codes.columns = ['language_code','Language']"
   ]
  },
  {
   "cell_type": "code",
   "execution_count": 37,
   "metadata": {
    "collapsed": true
   },
   "outputs": [],
   "source": [
    "models = [DummyClassifier(strategy='most_frequent'),\n",
    "          LogisticRegression(penalty='l2',C=1,class_weight='balanced',n_jobs=-1),\n",
    "          RandomForestClassifier(n_estimators=500,\n",
    "                                 max_features = .33, \n",
    "                                 max_depth = None,\n",
    "#                                  min_samples_leaf = 10,\n",
    "#                                  min_samples_split = 4,\n",
    "                                 criterion='gini',\n",
    "                                 class_weight='balanced_subsample',\n",
    "#                                  bootstrap=False,\n",
    "                                 n_jobs=-1,)\n",
    "         ]"
   ]
  },
  {
   "cell_type": "code",
   "execution_count": 13,
   "metadata": {
    "collapsed": false
   },
   "outputs": [
    {
     "name": "stdout",
     "output_type": "stream",
     "text": [
      "Number of annotations: 20609\n"
     ]
    }
   ],
   "source": [
    "annotations = pd.DataFrame()\n",
    "for folder in folders:\n",
    "    xls_files = [f for f in os.listdir(folder) if f.lower().endswith('.xls')]\n",
    "    for xls in xls_files:\n",
    "        temp = pd.read_excel(folder + xls)\n",
    "        if len(temp) > 0:\n",
    "            temp['OCID'] = xls[:-4]\n",
    "            temp['Source'] = folder.split('/')[-2]\n",
    "            annotations = annotations.append(temp)\n",
    "print \"Number of annotations: \" + str(len(annotations))"
   ]
  },
  {
   "cell_type": "code",
   "execution_count": 14,
   "metadata": {
    "collapsed": true
   },
   "outputs": [],
   "source": [
    "annotations.to_pickle('contract_data/Contracts_Annotations/combined_annotations.pkl')"
   ]
  },
  {
   "cell_type": "code",
   "execution_count": 15,
   "metadata": {
    "collapsed": false
   },
   "outputs": [
    {
     "name": "stdout",
     "output_type": "stream",
     "text": [
      "2.37% target variable in corpus\n"
     ]
    }
   ],
   "source": [
    "labels = [1 if x.lower() == target_label.lower() else 0 for x in annotations['Category']]\n",
    "print str(\"{0:.2f}%\".format(100*np.sum(labels) / float(len(labels)))) + \" target variable in corpus\""
   ]
  },
  {
   "cell_type": "code",
   "execution_count": 16,
   "metadata": {
    "collapsed": false,
    "scrolled": false
   },
   "outputs": [
    {
     "data": {
      "text/html": [
       "<div>\n",
       "<style>\n",
       "    .dataframe thead tr:only-child th {\n",
       "        text-align: right;\n",
       "    }\n",
       "\n",
       "    .dataframe thead th {\n",
       "        text-align: left;\n",
       "    }\n",
       "\n",
       "    .dataframe tbody tr th {\n",
       "        vertical-align: top;\n",
       "    }\n",
       "</style>\n",
       "<table border=\"1\" class=\"dataframe\">\n",
       "  <thead>\n",
       "    <tr style=\"text-align: right;\">\n",
       "      <th></th>\n",
       "      <th>Category</th>\n",
       "      <th>Topic</th>\n",
       "      <th>Annotation Text</th>\n",
       "      <th>PDF Page Number</th>\n",
       "      <th>Article Reference</th>\n",
       "      <th>OCID</th>\n",
       "      <th>Source</th>\n",
       "    </tr>\n",
       "  </thead>\n",
       "  <tbody>\n",
       "    <tr>\n",
       "      <th>0</th>\n",
       "      <td>Project title</td>\n",
       "      <td>General</td>\n",
       "      <td>Production Sharing Contract between Sociedade ...</td>\n",
       "      <td>1</td>\n",
       "      <td>Preamble</td>\n",
       "      <td>ocds-591adf-0014595575</td>\n",
       "      <td>resource_contracts</td>\n",
       "    </tr>\n",
       "    <tr>\n",
       "      <th>1</th>\n",
       "      <td>Name of field, block, deposit or site</td>\n",
       "      <td>General</td>\n",
       "      <td>Block 20/11</td>\n",
       "      <td>1</td>\n",
       "      <td>Preamble</td>\n",
       "      <td>ocds-591adf-0014595575</td>\n",
       "      <td>resource_contracts</td>\n",
       "    </tr>\n",
       "    <tr>\n",
       "      <th>2</th>\n",
       "      <td>Name of company executing document</td>\n",
       "      <td>General</td>\n",
       "      <td>CIE Angola Block 20 LTD (referred to as Cobalt...</td>\n",
       "      <td>3</td>\n",
       "      <td>Preamble</td>\n",
       "      <td>ocds-591adf-0014595575</td>\n",
       "      <td>resource_contracts</td>\n",
       "    </tr>\n",
       "    <tr>\n",
       "      <th>3</th>\n",
       "      <td>State agency, national company or ministry exe...</td>\n",
       "      <td>General</td>\n",
       "      <td>Sociedade Nacional de Combustiveis de Angola, ...</td>\n",
       "      <td>3</td>\n",
       "      <td>Preamble</td>\n",
       "      <td>ocds-591adf-0014595575</td>\n",
       "      <td>resource_contracts</td>\n",
       "    </tr>\n",
       "    <tr>\n",
       "      <th>4</th>\n",
       "      <td>Type of contract</td>\n",
       "      <td>General</td>\n",
       "      <td>Production Sharing Contract</td>\n",
       "      <td>3</td>\n",
       "      <td>Preamble</td>\n",
       "      <td>ocds-591adf-0014595575</td>\n",
       "      <td>resource_contracts</td>\n",
       "    </tr>\n",
       "    <tr>\n",
       "      <th>5</th>\n",
       "      <td>Country</td>\n",
       "      <td>General</td>\n",
       "      <td>Angola</td>\n",
       "      <td>3</td>\n",
       "      <td>Preamble</td>\n",
       "      <td>ocds-591adf-0014595575</td>\n",
       "      <td>resource_contracts</td>\n",
       "    </tr>\n",
       "    <tr>\n",
       "      <th>6</th>\n",
       "      <td>Parent company or affiliates outside of country</td>\n",
       "      <td>General</td>\n",
       "      <td>Cobalt, Cayman Islands; BP Exploration Angola ...</td>\n",
       "      <td>3</td>\n",
       "      <td>Preamble</td>\n",
       "      <td>ocds-591adf-0014595575</td>\n",
       "      <td>resource_contracts</td>\n",
       "    </tr>\n",
       "    <tr>\n",
       "      <th>7</th>\n",
       "      <td>Resource(s)</td>\n",
       "      <td>General</td>\n",
       "      <td>Hydrocarbons</td>\n",
       "      <td>4</td>\n",
       "      <td>Preamble</td>\n",
       "      <td>ocds-591adf-0014595575</td>\n",
       "      <td>resource_contracts</td>\n",
       "    </tr>\n",
       "    <tr>\n",
       "      <th>8</th>\n",
       "      <td>Date of issue of title/permit</td>\n",
       "      <td>General</td>\n",
       "      <td>40909</td>\n",
       "      <td>5</td>\n",
       "      <td>Art. 1.15</td>\n",
       "      <td>ocds-591adf-0014595575</td>\n",
       "      <td>resource_contracts</td>\n",
       "    </tr>\n",
       "    <tr>\n",
       "      <th>9</th>\n",
       "      <td>Infrastructure</td>\n",
       "      <td>Operations</td>\n",
       "      <td>Contractor Group may construct and install pip...</td>\n",
       "      <td>5</td>\n",
       "      <td>Arts. 1.18, 19, 20.3, 29.3</td>\n",
       "      <td>ocds-591adf-0014595575</td>\n",
       "      <td>resource_contracts</td>\n",
       "    </tr>\n",
       "  </tbody>\n",
       "</table>\n",
       "</div>"
      ],
      "text/plain": [
       "                                            Category       Topic  \\\n",
       "0                                      Project title     General   \n",
       "1              Name of field, block, deposit or site     General   \n",
       "2                 Name of company executing document     General   \n",
       "3  State agency, national company or ministry exe...     General   \n",
       "4                                   Type of contract     General   \n",
       "5                                            Country     General   \n",
       "6    Parent company or affiliates outside of country     General   \n",
       "7                                        Resource(s)     General   \n",
       "8                      Date of issue of title/permit     General   \n",
       "9                                     Infrastructure  Operations   \n",
       "\n",
       "                                     Annotation Text  PDF Page Number  \\\n",
       "0  Production Sharing Contract between Sociedade ...                1   \n",
       "1                                        Block 20/11                1   \n",
       "2  CIE Angola Block 20 LTD (referred to as Cobalt...                3   \n",
       "3  Sociedade Nacional de Combustiveis de Angola, ...                3   \n",
       "4                        Production Sharing Contract                3   \n",
       "5                                             Angola                3   \n",
       "6  Cobalt, Cayman Islands; BP Exploration Angola ...                3   \n",
       "7                                       Hydrocarbons                4   \n",
       "8                                              40909                5   \n",
       "9  Contractor Group may construct and install pip...                5   \n",
       "\n",
       "            Article Reference                    OCID              Source  \n",
       "0                    Preamble  ocds-591adf-0014595575  resource_contracts  \n",
       "1                    Preamble  ocds-591adf-0014595575  resource_contracts  \n",
       "2                    Preamble  ocds-591adf-0014595575  resource_contracts  \n",
       "3                    Preamble  ocds-591adf-0014595575  resource_contracts  \n",
       "4                    Preamble  ocds-591adf-0014595575  resource_contracts  \n",
       "5                    Preamble  ocds-591adf-0014595575  resource_contracts  \n",
       "6                    Preamble  ocds-591adf-0014595575  resource_contracts  \n",
       "7                    Preamble  ocds-591adf-0014595575  resource_contracts  \n",
       "8                   Art. 1.15  ocds-591adf-0014595575  resource_contracts  \n",
       "9  Arts. 1.18, 19, 20.3, 29.3  ocds-591adf-0014595575  resource_contracts  "
      ]
     },
     "execution_count": 16,
     "metadata": {},
     "output_type": "execute_result"
    }
   ],
   "source": [
    "annotations.head(10)"
   ]
  },
  {
   "cell_type": "code",
   "execution_count": 17,
   "metadata": {
    "collapsed": true
   },
   "outputs": [],
   "source": [
    "punctuation_re = r'[^\\w\\s#]'\n",
    "\n",
    "def punctuation_remove(text):\n",
    "    \"\"\"\n",
    "    Mutates and returns text where all punctuation besides hashtags,\n",
    "    are replaced\n",
    "    \"\"\"\n",
    "    new_text = nltk.regexp.re.sub(punctuation_re, ' ', text)\n",
    "    return new_text\n",
    "\n",
    "def perform_lowercase(text):\n",
    "    \"\"\"\n",
    "    Mutates and returns text where all characters are lowercased\n",
    "    \"\"\"\n",
    "    try:\n",
    "        new_text = text.lower()\n",
    "    except:\n",
    "        new_text = str(text).lower()\n",
    "    return new_text\n",
    "\n",
    "def doublespace_remove(text):\n",
    "    return re.sub(' +',' ',text)\n",
    "\n",
    "def textblobsent(text):\n",
    "    '''\n",
    "    returns the TextBlob polarity and subjectivity\n",
    "    '''\n",
    "    text = text.encode('ascii','ignore')\n",
    "    sent = TextBlob(text).sentiment\n",
    "    return pd.Series([sent.polarity,sent.subjectivity])\n",
    "\n",
    "def get_length(document):\n",
    "    return len(document)\n",
    "\n",
    "def get_num_words(document):\n",
    "    return len(document.split())\n",
    "\n",
    "def get_avg_wordlength(document):\n",
    "    wordlengths = [len(word) for word in document.split()]\n",
    "    if len(wordlengths) == 0:\n",
    "        return 0\n",
    "    else:\n",
    "        return np.mean(wordlengths)\n",
    "\n",
    "def get_num_syllables(text):\n",
    "    '''\n",
    "    returns the number of syllables\n",
    "    '''\n",
    "    return textstat.syllable_count(text)\n",
    "\n",
    "def determine_tense(essay):\n",
    "    '''\n",
    "    Returns the number of past, present and future tense verbs in a given text\n",
    "    '''\n",
    "    text = word_tokenize(essay)\n",
    "    tagged = pos_tag(text)\n",
    "\n",
    "    numfuture = len([word for word in tagged if word[1] == \"MD\"])\n",
    "    numpresent = len([word for word in tagged if word[1] in [\"VBP\", \"VBZ\",\"VBG\"]])\n",
    "    numpast = len([word for word in tagged if word[1] in [\"VBD\", \"VBN\"]]) \n",
    "    \n",
    "    return pd.Series([numpast,numpresent,numfuture],index=['NumPast','NumPresent','NumFuture'])\n",
    "\n",
    "def get_pos_tags(text):\n",
    "    '''\n",
    "    Returns part of speech tag counts\n",
    "    '''\n",
    "    text = word_tokenize(text)\n",
    "    tagged = pos_tag(text)\n",
    "\n",
    "    counts = Counter([word[1] for word in tagged]).items()\n",
    "    countdict = {}\n",
    "    for key, value in counts:\n",
    "        countdict[key] = value  \n",
    "    \n",
    "    return countdict\n",
    "\n",
    "def detect_lang(text):\n",
    "    '''\n",
    "    Returns detected language\n",
    "    '''\n",
    "    text = doublespace_remove(text)\n",
    "    try:\n",
    "        return detect(text)\n",
    "    except:\n",
    "        return 'None'\n",
    "    \n",
    "def remove_stopwords(row):\n",
    "    '''\n",
    "    Multilingual stopwords removal\n",
    "    '''\n",
    "    language = row['Language']\n",
    "    if language in languages:\n",
    "        text = ' '.join([word for word in row['CleanText'].split(' ') if word not in stopwords.words(language)])\n",
    "        return text\n",
    "    else:\n",
    "        return row['CleanText']\n",
    "    \n",
    "def stem_words(row):\n",
    "    ''' \n",
    "    Multilingual word stemmer\n",
    "    '''\n",
    "    language = row['Language']    \n",
    "    if language in languages:\n",
    "        stemmer = SnowballStemmer(language)\n",
    "        text = ' '.join([stemmer.stem(word) for word in row['CleanText_NoStop'].split(' ')])\n",
    "        return text\n",
    "    else:\n",
    "        return row['CleanText_NoStop']"
   ]
  },
  {
   "cell_type": "code",
   "execution_count": 18,
   "metadata": {
    "collapsed": true
   },
   "outputs": [],
   "source": [
    "def clean_text(df):\n",
    "    df['Annotation Text'].fillna('',inplace=True)\n",
    "    df['CleanText'] = df['Annotation Text']\n",
    "    func_list = [perform_lowercase,punctuation_remove,doublespace_remove]\n",
    "    for func in func_list:\n",
    "        df['CleanText'] = df['CleanText'].apply(func)\n",
    "\n",
    "    return df\n",
    "\n",
    "def featurize(df):\n",
    "    \n",
    "    df['NumWords'] = df['CleanText'].apply(get_num_words)\n",
    "    df['NumCharacters'] = df['CleanText'].apply(get_length)\n",
    "    df['AvgWordLength'] = df['CleanText'].apply(get_avg_wordlength)\n",
    "    df['NumSyllables'] = df['CleanText'].apply(get_num_syllables)\n",
    "    df['language_code'] = df['CleanText'].apply(detect_lang)\n",
    "    df = df.merge(language_codes,how='left',on='language_code')\n",
    "    df['Language'] = df['Language'].astype('str')\n",
    "    df['Language'] = df['Language'].apply(lambda x: x.lower().split(';')[0])\n",
    "    df['Language'] = df['Language'].apply(lambda x: x if x in languages else 'other')\n",
    "    df['Language'].fillna('None')\n",
    "    langdummies = pd.get_dummies(df['Language'],prefix='language_')\n",
    "    \n",
    "    df['CleanText_NoStop'] = df.apply(remove_stopwords,axis=1)\n",
    "    df['CleanText_NoStop_Stemmed'] = df.apply(stem_words,axis=1)\n",
    "    df.drop(['language_code','Language'],axis=1,inplace=True)\n",
    "    \n",
    "    tenses = df['CleanText'].apply(determine_tense)\n",
    "    tenses.columns = ['tense_' + col for col in tenses.columns]\n",
    "    \n",
    "    postagcounts = []\n",
    "    for index, row in df.iterrows():\n",
    "        postagcounts.append(get_pos_tags(row['CleanText']))    \n",
    "    postagdf = pd.DataFrame(postagcounts).fillna(0)\n",
    "    postagdf.index = df.index\n",
    "    postagdf.columns = ['postag_' + col for col in postagdf.columns]\n",
    "    \n",
    "    textblobsentdf = df['CleanText'].apply(textblobsent)\n",
    "    textblobsentdf.columns = ['TextblobPolarity','TextblobSubjectivity']\n",
    "    df = pd.concat([df,textblobsentdf,tenses,postagdf,langdummies],axis=1)\n",
    "    \n",
    "    return df"
   ]
  },
  {
   "cell_type": "code",
   "execution_count": 19,
   "metadata": {
    "collapsed": true
   },
   "outputs": [],
   "source": [
    "annotations = clean_text(annotations)\n",
    "annotations = featurize(annotations)"
   ]
  },
  {
   "cell_type": "code",
   "execution_count": 21,
   "metadata": {
    "collapsed": false
   },
   "outputs": [
    {
     "name": "stdout",
     "output_type": "stream",
     "text": [
      "(20609, 12469)\n"
     ]
    }
   ],
   "source": [
    "tfidf_vectorizer = TfidfVectorizer(max_df= .6,\n",
    "                                 min_df= .002, \n",
    "                                 stop_words=None,  \n",
    "                                 use_idf=True, \n",
    "                                 ngram_range=(1,4))\n",
    "tfidf_matrix = tfidf_vectorizer.fit_transform(annotations['CleanText_NoStop_Stemmed'].values.astype('U'))\n",
    "terms = tfidf_vectorizer.get_feature_names()\n",
    "tfidf_matrix = tfidf_matrix.todense()\n",
    "tfidf = pd.DataFrame(tfidf_matrix)\n",
    "tfidf.index = annotations.index\n",
    "tfidf.columns = terms\n",
    "print tfidf.shape"
   ]
  },
  {
   "cell_type": "code",
   "execution_count": 22,
   "metadata": {
    "collapsed": true
   },
   "outputs": [],
   "source": [
    "exclude = ['Source','Category','Topic','Annotation Text','CleanText','CleanText_NoStop','CleanText_NoStop_Stemmed',\n",
    "           'OCID','PDF Page Number','Article Reference','MD','VBP','VBZ','VBG','VBD','VBN','other',\"''\"]\n",
    "features = [col for col in annotations.columns.tolist() if not col in exclude]"
   ]
  },
  {
   "cell_type": "code",
   "execution_count": 23,
   "metadata": {
    "collapsed": true
   },
   "outputs": [],
   "source": [
    "X = pd.concat([tfidf,annotations[features]],axis=1)"
   ]
  },
  {
   "cell_type": "code",
   "execution_count": 24,
   "metadata": {
    "collapsed": true
   },
   "outputs": [],
   "source": [
    "X.fillna(0,inplace=True)\n",
    "X = X.rename(columns = {'fit':'fit_feature'})"
   ]
  },
  {
   "cell_type": "code",
   "execution_count": 25,
   "metadata": {
    "collapsed": true
   },
   "outputs": [],
   "source": [
    "y = labels\n",
    "X_train, X_test, y_train, y_test = train_test_split(X, y, test_size=0.25)"
   ]
  },
  {
   "cell_type": "code",
   "execution_count": 26,
   "metadata": {
    "collapsed": true
   },
   "outputs": [],
   "source": [
    "def plot_confusion_matrix(cm, classes,\n",
    "                          normalize=False,\n",
    "                          title='Confusion matrix',\n",
    "                          cmap=plt.cm.Blues):\n",
    "    \"\"\"\n",
    "    This function prints and plots the confusion matrix.\n",
    "    Normalization can be applied by setting `normalize=True`.\n",
    "    \"\"\"\n",
    "    plt.imshow(cm, interpolation='nearest', cmap=cmap)\n",
    "    plt.title(title)\n",
    "    plt.colorbar()\n",
    "    tick_marks = np.arange(len(classes))\n",
    "    plt.xticks(tick_marks, classes, rotation=45)\n",
    "    plt.yticks(tick_marks, classes)\n",
    "\n",
    "    if normalize:\n",
    "        cm = cm.astype('float') / cm.sum(axis=1)[:, np.newaxis]\n",
    "\n",
    "    thresh = cm.max() / 2.\n",
    "    for i, j in product(range(cm.shape[0]), range(cm.shape[1])):\n",
    "        plt.text(j, i, cm[i, j],\n",
    "                 horizontalalignment=\"center\",\n",
    "                 color=\"white\" if cm[i, j] > thresh else \"black\")\n",
    "\n",
    "    plt.tight_layout()\n",
    "    plt.ylabel('True label')\n",
    "    plt.xlabel('Predicted label')\n",
    "    plt.show()"
   ]
  },
  {
   "cell_type": "code",
   "execution_count": 38,
   "metadata": {
    "collapsed": false,
    "scrolled": false
   },
   "outputs": [
    {
     "name": "stdout",
     "output_type": "stream",
     "text": [
      "\n",
      "\n",
      "**** DummyClassifier ****\n",
      "5 Fold CV Accuracy Score: 0.976\n"
     ]
    },
    {
     "data": {
      "image/png": "[encoded data removed]",
      "text/plain": [
       "<matplotlib.figure.Figure at 0x126c7ee90>"
      ]
     },
     "metadata": {},
     "output_type": "display_data"
    },
    {
     "name": "stdout",
     "output_type": "stream",
     "text": [
      "\n",
      "\n",
      "**** LogisticRegression ****\n",
      "5 Fold CV Accuracy Score: 0.986\n",
      "*** Test Set Scores ***\n",
      "    Accuracy: 0.9901\n",
      "   Precision: 0.7178\n",
      "      Recall:0.7178\n",
      "     ROC AUC:0.9749\n"
     ]
    },
    {
     "data": {
      "image/png": "[encoded data removed]",
      "text/plain": [
       "<matplotlib.figure.Figure at 0x126521b50>"
      ]
     },
     "metadata": {},
     "output_type": "display_data"
    },
    {
     "name": "stdout",
     "output_type": "stream",
     "text": [
      "\n",
      "\n",
      "**** RandomForestClassifier ****\n",
      "5 Fold CV Accuracy Score: 0.992\n",
      "*** Test Set Scores ***\n",
      "    Accuracy: 0.9942\n",
      "   Precision: 0.9107\n",
      "      Recall:0.9107\n",
      "     ROC AUC:0.917\n"
     ]
    },
    {
     "data": {
      "image/png": "[encoded data removed]",
      "text/plain": [
       "<matplotlib.figure.Figure at 0x127085210>"
      ]
     },
     "metadata": {},
     "output_type": "display_data"
    }
   ],
   "source": [
    "for model in models:\n",
    "    print '\\n'\n",
    "    print '**** ' + str(model).split('(')[0] + ' ****'\n",
    "    print str(n_folds) + ' Fold CV Accuracy Score: ' + str(round(np.mean(cross_val_score(model, X, y, cv=n_folds)),3))\n",
    "    model.fit(X_train, y_train)\n",
    "    test_pred = model.predict(X_test)\n",
    "    if not str(model).split('(')[0] == 'DummyClassifier':\n",
    "        print '*** Test Set Scores ***'\n",
    "        print '    Accuracy: ' + str(round(accuracy_score(y_test, test_pred),4))\n",
    "        print '   Precision: ' + str(round(precision_score(y_test, test_pred),4))\n",
    "        print '      Recall:'  + str(round(precision_score(y_test, test_pred),4))\n",
    "        print '     ROC AUC:'  + str(round(roc_auc_score(y_test, test_pred),4))\n",
    "        \n",
    "    cnf_matrix = confusion_matrix(y_test, test_pred)\n",
    "    np.set_printoptions(precision=2)\n",
    "\n",
    "    # Plot confusion matrix\n",
    "    sns.set_context(rc={\"figure.figsize\": (6, 6)})       \n",
    "    plt.figure()\n",
    "    plot_confusion_matrix(cnf_matrix, classes=np.unique(y),\n",
    "                              title='Confusion matrix')"
   ]
  },
  {
   "cell_type": "markdown",
   "metadata": {},
   "source": [
    "Accuracy: 0.9942\n",
    "Precision: 0.9107\n",
    "Recall:0.9107\n",
    "ROC AUC:0.917\n",
    "\n",
    "Accuracy: 0.994\n",
    "Precision: 0.9174\n",
    "Recall:0.9174\n",
    "ROC AUC:0.9089\n",
    "\n",
    "Accuracy: 0.9917\n",
    "Precision: 0.811\n",
    "Recall:0.811\n",
    "ROC AUC:0.9197\n",
    "\n",
    "Accuracy: 0.992\n",
    "Precision: 0.785\n",
    "Recall:0.785\n",
    "ROC AUC:0.96"
   ]
  },
  {
   "cell_type": "code",
   "execution_count": 28,
   "metadata": {
    "collapsed": true
   },
   "outputs": [],
   "source": [
    "def get_feature_importances(clf,X):\n",
    "    '''\n",
    "    returns feature importances\n",
    "    '''\n",
    "    importances = clf.feature_importances_\n",
    "    indices = np.argsort(importances)[::-1]\n",
    "    feat_importance = pd.DataFrame(X.columns, importances)    \n",
    "    feat_importance.reset_index(inplace=True)\n",
    "    feat_importance.columns = ['Importance','Feature']\n",
    "    feat_importance.sort_values(by='Importance', axis=0, ascending=True, inplace=True)\n",
    "    feat_importance.set_index('Feature',inplace=True)\n",
    "    return feat_importance"
   ]
  },
  {
   "cell_type": "code",
   "execution_count": 29,
   "metadata": {
    "collapsed": false
   },
   "outputs": [
    {
     "data": {
      "text/html": [
       "<div>\n",
       "<style>\n",
       "    .dataframe thead tr:only-child th {\n",
       "        text-align: right;\n",
       "    }\n",
       "\n",
       "    .dataframe thead th {\n",
       "        text-align: left;\n",
       "    }\n",
       "\n",
       "    .dataframe tbody tr th {\n",
       "        vertical-align: top;\n",
       "    }\n",
       "</style>\n",
       "<table border=\"1\" class=\"dataframe\">\n",
       "  <thead>\n",
       "    <tr style=\"text-align: right;\">\n",
       "      <th></th>\n",
       "      <th>Importance</th>\n",
       "    </tr>\n",
       "  </thead>\n",
       "  <tbody>\n",
       "    <tr>\n",
       "      <th>royalti</th>\n",
       "      <td>0.169220</td>\n",
       "    </tr>\n",
       "    <tr>\n",
       "      <th>redev</th>\n",
       "      <td>0.112582</td>\n",
       "    </tr>\n",
       "    <tr>\n",
       "      <th>pai</th>\n",
       "      <td>0.101876</td>\n",
       "    </tr>\n",
       "    <tr>\n",
       "      <th>AvgWordLength</th>\n",
       "      <td>0.056894</td>\n",
       "    </tr>\n",
       "    <tr>\n",
       "      <th>taux</th>\n",
       "      <td>0.053223</td>\n",
       "    </tr>\n",
       "    <tr>\n",
       "      <th>pay</th>\n",
       "      <td>0.043921</td>\n",
       "    </tr>\n",
       "    <tr>\n",
       "      <th>TextblobPolarity</th>\n",
       "      <td>0.043607</td>\n",
       "    </tr>\n",
       "    <tr>\n",
       "      <th>proportionnel</th>\n",
       "      <td>0.020399</td>\n",
       "    </tr>\n",
       "    <tr>\n",
       "      <th>NumWords</th>\n",
       "      <td>0.016156</td>\n",
       "    </tr>\n",
       "    <tr>\n",
       "      <th>redev proportionnel</th>\n",
       "      <td>0.015708</td>\n",
       "    </tr>\n",
       "    <tr>\n",
       "      <th>brut</th>\n",
       "      <td>0.015591</td>\n",
       "    </tr>\n",
       "    <tr>\n",
       "      <th>valeur</th>\n",
       "      <td>0.015320</td>\n",
       "    </tr>\n",
       "    <tr>\n",
       "      <th>postag_CD</th>\n",
       "      <td>0.010256</td>\n",
       "    </tr>\n",
       "    <tr>\n",
       "      <th>pag</th>\n",
       "      <td>0.009955</td>\n",
       "    </tr>\n",
       "    <tr>\n",
       "      <th>net</th>\n",
       "      <td>0.009693</td>\n",
       "    </tr>\n",
       "    <tr>\n",
       "      <th>chiffr</th>\n",
       "      <td>0.009528</td>\n",
       "    </tr>\n",
       "    <tr>\n",
       "      <th>fob</th>\n",
       "      <td>0.008261</td>\n",
       "    </tr>\n",
       "    <tr>\n",
       "      <th>export</th>\n",
       "      <td>0.008149</td>\n",
       "    </tr>\n",
       "    <tr>\n",
       "      <th>postag_NN</th>\n",
       "      <td>0.007397</td>\n",
       "    </tr>\n",
       "    <tr>\n",
       "      <th>affair</th>\n",
       "      <td>0.007148</td>\n",
       "    </tr>\n",
       "  </tbody>\n",
       "</table>\n",
       "</div>"
      ],
      "text/plain": [
       "                     Importance\n",
       "royalti                0.169220\n",
       "redev                  0.112582\n",
       "pai                    0.101876\n",
       "AvgWordLength          0.056894\n",
       "taux                   0.053223\n",
       "pay                    0.043921\n",
       "TextblobPolarity       0.043607\n",
       "proportionnel          0.020399\n",
       "NumWords               0.016156\n",
       "redev proportionnel    0.015708\n",
       "brut                   0.015591\n",
       "valeur                 0.015320\n",
       "postag_CD              0.010256\n",
       "pag                    0.009955\n",
       "net                    0.009693\n",
       "chiffr                 0.009528\n",
       "fob                    0.008261\n",
       "export                 0.008149\n",
       "postag_NN              0.007397\n",
       "affair                 0.007148"
      ]
     },
     "metadata": {},
     "output_type": "display_data"
    }
   ],
   "source": [
    "importances = {}\n",
    "importances = get_feature_importances(model,X)\n",
    "importances.index.name=None\n",
    "display(importances.sort_values(by='Importance',ascending=False).head(20))"
   ]
  },
  {
   "cell_type": "markdown",
   "metadata": {
    "collapsed": true
   },
   "source": [
    "### Pickle Model"
   ]
  },
  {
   "cell_type": "code",
   "execution_count": 30,
   "metadata": {
    "collapsed": false
   },
   "outputs": [
    {
     "ename": "TypeError",
     "evalue": "dump() takes at least 2 arguments (2 given)",
     "output_type": "error",
     "traceback": [
      "\u001b[0;31m---------------------------------------------------------------------------\u001b[0m",
      "\u001b[0;31mTypeError\u001b[0m                                 Traceback (most recent call last)",
      "\u001b[0;32m<ipython-input-30-49878349ef89>\u001b[0m in \u001b[0;36m<module>\u001b[0;34m()\u001b[0m\n\u001b[0;32m----> 1\u001b[0;31m \u001b[0mjoblib\u001b[0m\u001b[0;34m.\u001b[0m\u001b[0mdump\u001b[0m\u001b[0;34m(\u001b[0m\u001b[0mtarget_label\u001b[0m \u001b[0;34m+\u001b[0m \u001b[0;34m'_binary.pkl'\u001b[0m\u001b[0;34m,\u001b[0m\u001b[0mcompress\u001b[0m\u001b[0;34m=\u001b[0m\u001b[0;36m9\u001b[0m\u001b[0;34m)\u001b[0m\u001b[0;34m\u001b[0m\u001b[0m\n\u001b[0m",
      "\u001b[0;31mTypeError\u001b[0m: dump() takes at least 2 arguments (2 given)"
     ]
    }
   ],
   "source": [
    "joblib.dump(model, target_label + '_binary.pkl',compress=9)"
   ]
  },
  {
   "cell_type": "code",
   "execution_count": null,
   "metadata": {
    "collapsed": true
   },
   "outputs": [],
   "source": []
  }
 ],
 "metadata": {
  "kernelspec": {
   "display_name": "Python [Root]",
   "language": "python",
   "name": "Python [Root]"
  },
  "language_info": {
   "codemirror_mode": {
    "name": "ipython",
    "version": 2
   },
   "file_extension": ".py",
   "mimetype": "text/x-python",
   "name": "python",
   "nbconvert_exporter": "python",
   "pygments_lexer": "ipython2",
   "version": "2.7.12"
  }
 },
 "nbformat": 4,
 "nbformat_minor": 2
}
