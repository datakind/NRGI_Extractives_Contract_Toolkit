{
 "cells": [
  {
   "cell_type": "code",
   "execution_count": 1,
   "metadata": {},
   "outputs": [
    {
     "name": "stdout",
     "output_type": "stream",
     "text": [
      "458\n"
     ]
    }
   ],
   "source": [
    "import os\n",
    "import codecs\n",
    "destination_folder = 'contract_data/Contracts_Backlog/'\n",
    "existing_pdfs = [f for f in os.listdir(destination_folder) if f.lower().endswith('.pdf')]\n",
    "print len(existing_pdfs)"
   ]
  },
  {
   "cell_type": "code",
   "execution_count": 2,
   "metadata": {},
   "outputs": [
    {
     "name": "stdout",
     "output_type": "stream",
     "text": [
      "498\n"
     ]
    }
   ],
   "source": [
    "colombia_filenames = 'contract_data/Contracts_Backlog/colombia_oil_contracts.txt' \n",
    "files = codecs.open(colombia_filenames,'r', encoding='utf-8').readlines()\n",
    "print len(files)"
   ]
  },
  {
   "cell_type": "code",
   "execution_count": 17,
   "metadata": {},
   "outputs": [
    {
     "name": "stdout",
     "output_type": "stream",
     "text": [
      "443\n"
     ]
    }
   ],
   "source": [
    "existing_pdfs = [f for f in os.listdir(destination_folder) if f.lower().endswith('.pdf')]\n",
    "print len(existing_pdfs)"
   ]
  },
  {
   "cell_type": "code",
   "execution_count": 15,
   "metadata": {},
   "outputs": [
    {
     "data": {
      "text/plain": [
       "55"
      ]
     },
     "execution_count": 15,
     "metadata": {},
     "output_type": "execute_result"
    }
   ],
   "source": [
    "len(files) - len(existing_pdfs)"
   ]
  },
  {
   "cell_type": "code",
   "execution_count": 1,
   "metadata": {},
   "outputs": [
    {
     "ename": "ImportError",
     "evalue": "No module named rabin",
     "output_type": "error",
     "traceback": [
      "\u001b[0;31m---------------------------------------------------------------------------\u001b[0m",
      "\u001b[0;31mImportError\u001b[0m                               Traceback (most recent call last)",
      "\u001b[0;32m<ipython-input-1-07f0dee79623>\u001b[0m in \u001b[0;36m<module>\u001b[0;34m()\u001b[0m\n\u001b[0;32m----> 1\u001b[0;31m \u001b[0;32mimport\u001b[0m \u001b[0mrabin\u001b[0m\u001b[0;34m\u001b[0m\u001b[0m\n\u001b[0m",
      "\u001b[0;31mImportError\u001b[0m: No module named rabin"
     ]
    }
   ],
   "source": [
    "import rabin "
   ]
  },
  {
   "cell_type": "code",
   "execution_count": 27,
   "metadata": {
    "collapsed": true
   },
   "outputs": [],
   "source": [
    "import os, time, re, subprocess, hashlib\n",
    "import numpy as np\n",
    "import networkx as nx\n",
    "import community as cm\n",
    "from glob import glob\n",
    "from operator import itemgetter"
   ]
  },
  {
   "cell_type": "code",
   "execution_count": 33,
   "metadata": {},
   "outputs": [
    {
     "name": "stdout",
     "output_type": "stream",
     "text": [
      "passed\n"
     ]
    }
   ],
   "source": [
    "import os\n",
    "import random\n",
    "\n",
    "from rabin import Rabin, get_file_fingerprints, set_min_block_size, set_max_block_size, set_average_block_size\n",
    "\n",
    "TARGET = 'test.bin'\n",
    "os.system(\"dd if=/dev/urandom of=%s bs=1024 count=100\" % TARGET)\n",
    "random.seed(open(TARGET, 'r').read(1024))\n",
    "\n",
    "set_min_block_size(1024)\n",
    "set_max_block_size(2048)\n",
    "set_average_block_size(1024)\n",
    "\n",
    "reached = []\n",
    "def block_reached(start, length, fingerprint):\n",
    "    # print '(%s, %s, %s)' % (start, length, fingerprint)\n",
    "    reached.append((start, length, fingerprint))\n",
    "\n",
    "r = Rabin()\n",
    "r.register(block_reached)\n",
    "\n",
    "with open(TARGET, 'r') as f:\n",
    "    while True:\n",
    "        size = random.randint(1,os.path.getsize(TARGET))\n",
    "        data = f.read(size)\n",
    "        if len(data) == 0:\n",
    "            break\n",
    "        r.update(data)\n",
    "\n",
    "partial = r.fingerprints()\n",
    "gold = get_file_fingerprints(TARGET)\n",
    "\n",
    "assert len(gold) == len(partial) == len(reached)\n",
    "\n",
    "for i in range(len(gold)):\n",
    "    try:\n",
    "        gs,gl,gp = gold[i]\n",
    "        ps,pl,pp = partial[i]\n",
    "        rs,rl,rp = reached[i]\n",
    "        assert gs == ps == rs\n",
    "        assert gl == pl == rl\n",
    "        assert gp == pp == rp\n",
    "    except:\n",
    "        print 'gold   ', gold[i]\n",
    "        print 'partial', partial[i]\n",
    "        print 'reached', reached[i]\n",
    "        raise\n",
    "\n",
    "assert partial == gold == reached\n",
    "\n",
    "os.unlink(TARGET)\n",
    "print 'passed'"
   ]
  },
  {
   "cell_type": "code",
   "execution_count": null,
   "metadata": {
    "collapsed": true
   },
   "outputs": [],
   "source": []
  }
 ],
 "metadata": {
  "kernelspec": {
   "display_name": "Python 2",
   "language": "python",
   "name": "python2"
  },
  "language_info": {
   "codemirror_mode": {
    "name": "ipython",
    "version": 2
   },
   "file_extension": ".py",
   "mimetype": "text/x-python",
   "name": "python",
   "nbconvert_exporter": "python",
   "pygments_lexer": "ipython2",
   "version": "2.7.13"
  }
 },
 "nbformat": 4,
 "nbformat_minor": 2
}
