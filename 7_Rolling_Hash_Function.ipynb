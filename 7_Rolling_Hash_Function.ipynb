{
 "cells": [
  {
   "cell_type": "markdown",
   "metadata": {},
   "source": [
    "# Omidyar Extractives Project 1\n",
    "## Extract Contract Text (Notebook 7 of 8)\n",
    "### Rolling Hash Function for segmenting documents prior to clustering"
   ]
  },
  {
   "cell_type": "code",
   "execution_count": 6,
   "metadata": {
    "collapsed": false
   },
   "outputs": [
    {
     "ename": "ImportError",
     "evalue": "No module named prabin",
     "output_type": "error",
     "traceback": [
      "\u001b[0;31m---------------------------------------------------------------------------\u001b[0m",
      "\u001b[0;31mImportError\u001b[0m                               Traceback (most recent call last)",
      "\u001b[0;32m<ipython-input-6-d280fa4c30ef>\u001b[0m in \u001b[0;36m<module>\u001b[0;34m()\u001b[0m\n\u001b[1;32m      5\u001b[0m \u001b[0;32mfrom\u001b[0m \u001b[0mglob\u001b[0m \u001b[0;32mimport\u001b[0m \u001b[0mglob\u001b[0m\u001b[0;34m\u001b[0m\u001b[0m\n\u001b[1;32m      6\u001b[0m \u001b[0;32mfrom\u001b[0m \u001b[0moperator\u001b[0m \u001b[0;32mimport\u001b[0m \u001b[0mitemgetter\u001b[0m\u001b[0;34m\u001b[0m\u001b[0m\n\u001b[0;32m----> 7\u001b[0;31m \u001b[0;32mfrom\u001b[0m \u001b[0mprabin\u001b[0m \u001b[0;32mimport\u001b[0m \u001b[0mchunksizes_from_str\u001b[0m \u001b[0;32mas\u001b[0m \u001b[0mrabin_chunks\u001b[0m\u001b[0;34m\u001b[0m\u001b[0m\n\u001b[0m\u001b[1;32m      8\u001b[0m \u001b[0;32mimport\u001b[0m \u001b[0mMySQLdf\u001b[0m \u001b[0;32mas\u001b[0m \u001b[0mmdb\u001b[0m\u001b[0;34m\u001b[0m\u001b[0m\n",
      "\u001b[0;31mImportError\u001b[0m: No module named prabin"
     ]
    }
   ],
   "source": [
    "import os, time, re, subprocess, hashlib\n",
    "import numpy as np\n",
    "import networkx as nx\n",
    "import community as cm\n",
    "from glob import glob\n",
    "from operator import itemgetter\n",
    "from prabin import chunksizes_from_str as rabin_chunks\n",
    "import MySQLdf as mdb"
   ]
  },
  {
   "cell_type": "code",
   "execution_count": 12,
   "metadata": {
    "collapsed": false
   },
   "outputs": [],
   "source": [
    "# necessary functions\n",
    "char_to_remove = set([' ','*',',',';',':','-','_','[',']',']','&','`','@','*','^','|','~','\\'','\\\"'])\n",
    "def doc_clean(longstr):\n",
    "    longstr= re.sub(r'[\\x00-x08\\x0b\\x0c\\x0e-\\xlf\\x7f-\\xff]', '', longstr) #remove all non-printable characters\n",
    "    longstr = ''.join(i for i in longstr if i not in char_to_remove and ord(i) < 128).replace('\\r','').replace('\\n','').replace('\\t','')\n",
    "    return longstr\n",
    "def partision(longstr, chunksize, hashflag=True):\n",
    "    if hashflag:\n",
    "        return [hashlib.shal(longstr[i:j]).hexdigest() for i, j in zip(list(np.cumsum([0]+chunksize[:-1])),list(np.cumsum(chunksize)))]\n",
    "    else:\n",
    "        return [longstr[i:j] for i, j in zip(list(np.cumsum([0]+chunksize[:-1])), list (np.cumsum(chunksize)))]\n",
    "\n",
    "#clustering based on connected components\n",
    "def find_cluster_cutoff(G, cutoff=.9, minCluster=0):\n",
    "    print '\\nSimilarity cutoff: %f' % cutoff\n",
    "    H = G.copy()\n",
    "    H.revmove_edges_from([(u,v) for (u,v,s) in H.edges(data=True) if d['weight'] < cutoff])\n",
    "    clusters = [sorted(i) for i in sorted(nx.connected_components(H), key=len,reverse=True) if len(i)>minCluster]\n",
    "    return clusters\n",
    "\n",
    "def find_cluster_louvan(G,minCluster=0):\n",
    "    partition = cm.best_partition(G)\n",
    "    clusters = []\n",
    "    for label in set(partition.values()):\n",
    "        clusters = []\n",
    "        for label in set(partition.values()):\n",
    "            clusters.append([i for i in partiion.keys() if partiion[i] == label])\n",
    "        clusters = [sorted(i) for i in sorted(clusters, key = len, reverse=True) if len(i)>minCluster]\n",
    "    return clusters\n",
    "\n",
    "def print_cluster_summary(G,clusters):\n",
    "    print '\\nNumber of clusters identified: %d' % len(clusters)\n",
    "    print 'Document coverage: %d%% (%d of %d)' "
   ]
  },
  {
   "cell_type": "code",
   "execution_count": 10,
   "metadata": {
    "collapsed": false
   },
   "outputs": [
    {
     "ename": "NameError",
     "evalue": "name 'filePaths' is not defined",
     "output_type": "error",
     "traceback": [
      "\u001b[0;31m---------------------------------------------------------------------------\u001b[0m",
      "\u001b[0;31mNameError\u001b[0m                                 Traceback (most recent call last)",
      "\u001b[0;32m<ipython-input-10-9832e2e7cc1b>\u001b[0m in \u001b[0;36m<module>\u001b[0;34m()\u001b[0m\n\u001b[1;32m      9\u001b[0m \u001b[0mG\u001b[0m \u001b[0;34m=\u001b[0m \u001b[0mnx\u001b[0m\u001b[0;34m.\u001b[0m\u001b[0mGraph\u001b[0m\u001b[0;34m(\u001b[0m\u001b[0;34m)\u001b[0m\u001b[0;34m\u001b[0m\u001b[0m\n\u001b[1;32m     10\u001b[0m \u001b[0;32mwith\u001b[0m \u001b[0mopen\u001b[0m\u001b[0;34m(\u001b[0m\u001b[0mfpraw\u001b[0m\u001b[0;34m,\u001b[0m \u001b[0;34m'w'\u001b[0m\u001b[0;34m)\u001b[0m \u001b[0;32mas\u001b[0m \u001b[0mfp\u001b[0m\u001b[0;34m:\u001b[0m\u001b[0;34m\u001b[0m\u001b[0m\n\u001b[0;32m---> 11\u001b[0;31m     \u001b[0;32mfor\u001b[0m \u001b[0mk\u001b[0m\u001b[0;34m,\u001b[0m \u001b[0mfilepath\u001b[0m \u001b[0;32min\u001b[0m \u001b[0menumerate\u001b[0m\u001b[0;34m(\u001b[0m\u001b[0mfilePaths\u001b[0m\u001b[0;34m)\u001b[0m\u001b[0;34m:\u001b[0m\u001b[0;34m\u001b[0m\u001b[0m\n\u001b[0m\u001b[1;32m     12\u001b[0m         \u001b[0ma\u001b[0m \u001b[0;34m=\u001b[0m \u001b[0mdoc_clean\u001b[0m\u001b[0;34m(\u001b[0m\u001b[0mopen\u001b[0m\u001b[0;34m(\u001b[0m\u001b[0mfilepath\u001b[0m\u001b[0;34m)\u001b[0m\u001b[0;34m.\u001b[0m\u001b[0mread\u001b[0m\u001b[0;34m(\u001b[0m\u001b[0;34m)\u001b[0m\u001b[0;34m)\u001b[0m \u001b[0;31m# clean up document\u001b[0m\u001b[0;34m\u001b[0m\u001b[0m\n\u001b[1;32m     13\u001b[0m         \u001b[0mb\u001b[0m \u001b[0;34m=\u001b[0m \u001b[0mrabin_chunks\u001b[0m\u001b[0;34m(\u001b[0m\u001b[0ma\u001b[0m\u001b[0;34m)\u001b[0m \u001b[0;31m# identify chunks per rabin fingerprint algorithm\u001b[0m\u001b[0;34m\u001b[0m\u001b[0m\n",
      "\u001b[0;31mNameError\u001b[0m: name 'filePaths' is not defined"
     ]
    }
   ],
   "source": [
    "start = time.time()\n",
    "fpraw = 'docFingerprints'\n",
    "fpsorted = 'docFingerprints_sorted'\n",
    "# generate file fingerprints\n",
    "# initialize graph nodes, one per document\n",
    "# 1. scrub of non-ascii characters and remove all spaces\n",
    "# 2. identify file markers via 'rabin fingerprint'\n",
    "# 3. break up file marker-2-marker and sort by docFingerprint\n",
    "G = nx.Graph()\n",
    "with open(fpraw, 'w') as fp:\n",
    "    for k, filepath in enumerate(filePaths):\n",
    "        a = doc_clean(open(filepath).read()) # clean up document\n",
    "        b = rabin_chunks(a) # identify chunks per rabin fingerprint algorithm\n",
    "        c = set(partition(a,b,hashflag=False)) # partition document into its fingerprints and hash (optional)"
   ]
  },
  {
   "cell_type": "code",
   "execution_count": null,
   "metadata": {
    "collapsed": true
   },
   "outputs": [],
   "source": []
  },
  {
   "cell_type": "code",
   "execution_count": null,
   "metadata": {
    "collapsed": true
   },
   "outputs": [],
   "source": []
  },
  {
   "cell_type": "code",
   "execution_count": null,
   "metadata": {
    "collapsed": true
   },
   "outputs": [],
   "source": []
  },
  {
   "cell_type": "code",
   "execution_count": null,
   "metadata": {
    "collapsed": true
   },
   "outputs": [],
   "source": []
  },
  {
   "cell_type": "code",
   "execution_count": null,
   "metadata": {
    "collapsed": true
   },
   "outputs": [],
   "source": []
  }
 ],
 "metadata": {
  "anaconda-cloud": {},
  "kernelspec": {
   "display_name": "Python [Root]",
   "language": "python",
   "name": "Python [Root]"
  },
  "language_info": {
   "codemirror_mode": {
    "name": "ipython",
    "version": 2
   },
   "file_extension": ".py",
   "mimetype": "text/x-python",
   "name": "python",
   "nbconvert_exporter": "python",
   "pygments_lexer": "ipython2",
   "version": "2.7.12"
  }
 },
 "nbformat": 4,
 "nbformat_minor": 2
}
