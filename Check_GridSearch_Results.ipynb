{
 "cells": [
  {
   "cell_type": "code",
   "execution_count": 1,
   "metadata": {
    "collapsed": true
   },
   "outputs": [],
   "source": [
    "import pandas as pd"
   ]
  },
  {
   "cell_type": "code",
   "execution_count": 7,
   "metadata": {
    "collapsed": true
   },
   "outputs": [],
   "source": [
    "with open('results_gridsearch/20171113_verbose_grid_search_results.txt') as f:\n",
    "    data = eval(f.read())"
   ]
  },
  {
   "cell_type": "code",
   "execution_count": 84,
   "metadata": {},
   "outputs": [],
   "source": [
    "accuracy = data['Accuracy']\n",
    "recall = data['Recall_Macro']"
   ]
  },
  {
   "cell_type": "code",
   "execution_count": 85,
   "metadata": {},
   "outputs": [],
   "source": [
    "accuracy =[item.strip() for item in accuracy]\n",
    "recall =[item.strip() for item in recall]"
   ]
  },
  {
   "cell_type": "code",
   "execution_count": 86,
   "metadata": {},
   "outputs": [],
   "source": [
    "accuracy=[item for item in accuracy if 'score=' in item]\n",
    "recall=[item for item in recall if 'score=' in item]"
   ]
  },
  {
   "cell_type": "code",
   "execution_count": 87,
   "metadata": {},
   "outputs": [],
   "source": [
    "accuracy = [item.split(',') for item in accuracy]\n",
    "recall = [item.split(',') for item in recall]"
   ]
  },
  {
   "cell_type": "code",
   "execution_count": 123,
   "metadata": {},
   "outputs": [],
   "source": [
    "accdict = {}\n",
    "i = 0\n",
    "for item in accuracy:\n",
    "    accdict[i] = dict([val.strip().split('=') for val in item])\n",
    "    i += 1\n",
    "recalldict = {}\n",
    "i = 0\n",
    "for item in recall:\n",
    "    recalldict[i] = dict([val.strip().split('=') for val in item])\n",
    "    i += 1"
   ]
  },
  {
   "cell_type": "code",
   "execution_count": 181,
   "metadata": {},
   "outputs": [],
   "source": [
    "accdf = pd.DataFrame(accdict).T\n",
    "accdf['accuracy_score'] = accdf['score']\n",
    "recalldf = pd.DataFrame(recalldict).T\n",
    "recalldf['recall_score'] = recalldf['score']\n",
    "accdf.drop(['score','total','estimator__n_jobs','estimator__n_estimators'],axis=1,inplace=True)\n",
    "recalldf.drop(['score','total','estimator__n_jobs','estimator__n_estimators'],axis=1,inplace=True)"
   ]
  },
  {
   "cell_type": "code",
   "execution_count": 182,
   "metadata": {},
   "outputs": [
    {
     "name": "stdout",
     "output_type": "stream",
     "text": [
      "720\n",
      "Index([u'estimator__bootstrap', u'estimator__class_weight',\n",
      "       u'estimator__max_depth', u'estimator__max_features',\n",
      "       u'estimator__min_samples_leaf', u'estimator__min_samples_split',\n",
      "       u'recall_score'],\n",
      "      dtype='object')\n"
     ]
    }
   ],
   "source": [
    "print len(recalldf)\n",
    "print recalldf.columns"
   ]
  },
  {
   "cell_type": "code",
   "execution_count": 183,
   "metadata": {
    "collapsed": true
   },
   "outputs": [],
   "source": [
    "recalldf.reset_index(drop=True,inplace=True)\n",
    "accdf.reset_index(drop=True,inplace=True)"
   ]
  },
  {
   "cell_type": "code",
   "execution_count": 186,
   "metadata": {},
   "outputs": [
    {
     "name": "stdout",
     "output_type": "stream",
     "text": [
      "3600\n"
     ]
    }
   ],
   "source": [
    "df = pd.merge(accdf,recalldf)\n",
    "print len(df)"
   ]
  },
  {
   "cell_type": "code",
   "execution_count": 187,
   "metadata": {},
   "outputs": [
    {
     "name": "stdout",
     "output_type": "stream",
     "text": [
      "3590\n"
     ]
    },
    {
     "data": {
      "text/html": [
       "<div>\n",
       "<style>\n",
       "    .dataframe thead tr:only-child th {\n",
       "        text-align: right;\n",
       "    }\n",
       "\n",
       "    .dataframe thead th {\n",
       "        text-align: left;\n",
       "    }\n",
       "\n",
       "    .dataframe tbody tr th {\n",
       "        vertical-align: top;\n",
       "    }\n",
       "</style>\n",
       "<table border=\"1\" class=\"dataframe\">\n",
       "  <thead>\n",
       "    <tr style=\"text-align: right;\">\n",
       "      <th></th>\n",
       "      <th>estimator__bootstrap</th>\n",
       "      <th>estimator__class_weight</th>\n",
       "      <th>estimator__max_depth</th>\n",
       "      <th>estimator__max_features</th>\n",
       "      <th>estimator__min_samples_leaf</th>\n",
       "      <th>estimator__min_samples_split</th>\n",
       "      <th>accuracy_score</th>\n",
       "      <th>recall_score</th>\n",
       "    </tr>\n",
       "  </thead>\n",
       "  <tbody>\n",
       "    <tr>\n",
       "      <th>0</th>\n",
       "      <td>False</td>\n",
       "      <td>balanced</td>\n",
       "      <td>None</td>\n",
       "      <td>auto</td>\n",
       "      <td>1</td>\n",
       "      <td>2</td>\n",
       "      <td>0.983236</td>\n",
       "      <td>0.747520</td>\n",
       "    </tr>\n",
       "    <tr>\n",
       "      <th>1</th>\n",
       "      <td>False</td>\n",
       "      <td>balanced</td>\n",
       "      <td>None</td>\n",
       "      <td>auto</td>\n",
       "      <td>1</td>\n",
       "      <td>2</td>\n",
       "      <td>0.983236</td>\n",
       "      <td>0.690141</td>\n",
       "    </tr>\n",
       "    <tr>\n",
       "      <th>2</th>\n",
       "      <td>False</td>\n",
       "      <td>balanced</td>\n",
       "      <td>None</td>\n",
       "      <td>auto</td>\n",
       "      <td>1</td>\n",
       "      <td>2</td>\n",
       "      <td>0.983236</td>\n",
       "      <td>0.688741</td>\n",
       "    </tr>\n",
       "    <tr>\n",
       "      <th>3</th>\n",
       "      <td>False</td>\n",
       "      <td>balanced</td>\n",
       "      <td>None</td>\n",
       "      <td>auto</td>\n",
       "      <td>1</td>\n",
       "      <td>2</td>\n",
       "      <td>0.983236</td>\n",
       "      <td>0.674764</td>\n",
       "    </tr>\n",
       "    <tr>\n",
       "      <th>4</th>\n",
       "      <td>False</td>\n",
       "      <td>balanced</td>\n",
       "      <td>None</td>\n",
       "      <td>auto</td>\n",
       "      <td>1</td>\n",
       "      <td>2</td>\n",
       "      <td>0.983236</td>\n",
       "      <td>0.632247</td>\n",
       "    </tr>\n",
       "  </tbody>\n",
       "</table>\n",
       "</div>"
      ],
      "text/plain": [
       "  estimator__bootstrap estimator__class_weight estimator__max_depth  \\\n",
       "0                False                balanced                 None   \n",
       "1                False                balanced                 None   \n",
       "2                False                balanced                 None   \n",
       "3                False                balanced                 None   \n",
       "4                False                balanced                 None   \n",
       "\n",
       "  estimator__max_features estimator__min_samples_leaf  \\\n",
       "0                    auto                           1   \n",
       "1                    auto                           1   \n",
       "2                    auto                           1   \n",
       "3                    auto                           1   \n",
       "4                    auto                           1   \n",
       "\n",
       "  estimator__min_samples_split accuracy_score recall_score  \n",
       "0                            2       0.983236     0.747520  \n",
       "1                            2       0.983236     0.690141  \n",
       "2                            2       0.983236     0.688741  \n",
       "3                            2       0.983236     0.674764  \n",
       "4                            2       0.983236     0.632247  "
      ]
     },
     "execution_count": 187,
     "metadata": {},
     "output_type": "execute_result"
    }
   ],
   "source": [
    "df.drop_duplicates(inplace=True)\n",
    "print len(df)\n",
    "df.head()"
   ]
  },
  {
   "cell_type": "code",
   "execution_count": 194,
   "metadata": {},
   "outputs": [],
   "source": [
    "df.recall_score = df.recall_score.astype('float')\n",
    "df.accuracy_score = df.accuracy_score.astype('float')"
   ]
  },
  {
   "cell_type": "code",
   "execution_count": 201,
   "metadata": {},
   "outputs": [
    {
     "data": {
      "text/html": [
       "<div>\n",
       "<style>\n",
       "    .dataframe thead tr:only-child th {\n",
       "        text-align: right;\n",
       "    }\n",
       "\n",
       "    .dataframe thead th {\n",
       "        text-align: left;\n",
       "    }\n",
       "\n",
       "    .dataframe tbody tr th {\n",
       "        vertical-align: top;\n",
       "    }\n",
       "</style>\n",
       "<table border=\"1\" class=\"dataframe\">\n",
       "  <thead>\n",
       "    <tr style=\"text-align: right;\">\n",
       "      <th></th>\n",
       "      <th>estimator__bootstrap</th>\n",
       "      <th>estimator__class_weight</th>\n",
       "      <th>estimator__max_depth</th>\n",
       "      <th>estimator__max_features</th>\n",
       "      <th>estimator__min_samples_leaf</th>\n",
       "      <th>estimator__min_samples_split</th>\n",
       "      <th>accuracy_score</th>\n",
       "      <th>recall_score</th>\n",
       "    </tr>\n",
       "  </thead>\n",
       "  <tbody>\n",
       "    <tr>\n",
       "      <th>156</th>\n",
       "      <td>False</td>\n",
       "      <td>balanced</td>\n",
       "      <td>None</td>\n",
       "      <td>0.2</td>\n",
       "      <td>50</td>\n",
       "      <td>2</td>\n",
       "      <td>0.955142</td>\n",
       "      <td>0.930129</td>\n",
       "    </tr>\n",
       "    <tr>\n",
       "      <th>181</th>\n",
       "      <td>False</td>\n",
       "      <td>balanced</td>\n",
       "      <td>None</td>\n",
       "      <td>0.2</td>\n",
       "      <td>50</td>\n",
       "      <td>10</td>\n",
       "      <td>0.954778</td>\n",
       "      <td>0.930002</td>\n",
       "    </tr>\n",
       "    <tr>\n",
       "      <th>1081</th>\n",
       "      <td>False</td>\n",
       "      <td>balanced_subsample</td>\n",
       "      <td>None</td>\n",
       "      <td>0.2</td>\n",
       "      <td>50</td>\n",
       "      <td>10</td>\n",
       "      <td>0.955142</td>\n",
       "      <td>0.931775</td>\n",
       "    </tr>\n",
       "    <tr>\n",
       "      <th>1956</th>\n",
       "      <td>True</td>\n",
       "      <td>balanced</td>\n",
       "      <td>None</td>\n",
       "      <td>0.2</td>\n",
       "      <td>50</td>\n",
       "      <td>2</td>\n",
       "      <td>0.956966</td>\n",
       "      <td>0.930890</td>\n",
       "    </tr>\n",
       "  </tbody>\n",
       "</table>\n",
       "</div>"
      ],
      "text/plain": [
       "     estimator__bootstrap estimator__class_weight estimator__max_depth  \\\n",
       "156                 False                balanced                 None   \n",
       "181                 False                balanced                 None   \n",
       "1081                False      balanced_subsample                 None   \n",
       "1956                 True                balanced                 None   \n",
       "\n",
       "     estimator__max_features estimator__min_samples_leaf  \\\n",
       "156                      0.2                          50   \n",
       "181                      0.2                          50   \n",
       "1081                     0.2                          50   \n",
       "1956                     0.2                          50   \n",
       "\n",
       "     estimator__min_samples_split  accuracy_score  recall_score  \n",
       "156                             2        0.955142      0.930129  \n",
       "181                            10        0.954778      0.930002  \n",
       "1081                           10        0.955142      0.931775  \n",
       "1956                            2        0.956966      0.930890  "
      ]
     },
     "execution_count": 201,
     "metadata": {},
     "output_type": "execute_result"
    }
   ],
   "source": [
    "df[(df['accuracy_score'] > .95) & (df['recall_score'] > .93)]"
   ]
  },
  {
   "cell_type": "code",
   "execution_count": null,
   "metadata": {
    "collapsed": true
   },
   "outputs": [],
   "source": []
  }
 ],
 "metadata": {
  "kernelspec": {
   "display_name": "Python 2",
   "language": "python",
   "name": "python2"
  },
  "language_info": {
   "codemirror_mode": {
    "name": "ipython",
    "version": 2
   },
   "file_extension": ".py",
   "mimetype": "text/x-python",
   "name": "python",
   "nbconvert_exporter": "python",
   "pygments_lexer": "ipython2",
   "version": "2.7.13"
  }
 },
 "nbformat": 4,
 "nbformat_minor": 2
}
