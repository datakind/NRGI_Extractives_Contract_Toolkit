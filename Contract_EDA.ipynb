{
 "cells": [
  {
   "cell_type": "code",
   "execution_count": 1,
   "metadata": {
    "collapsed": true
   },
   "outputs": [],
   "source": [
    "import pandas as pd"
   ]
  },
  {
   "cell_type": "code",
   "execution_count": 7,
   "metadata": {
    "collapsed": true
   },
   "outputs": [],
   "source": [
    "contracts = pd.read_pickle('contract_data/contracts_with_text.pkl')"
   ]
  },
  {
   "cell_type": "code",
   "execution_count": 9,
   "metadata": {
    "collapsed": false
   },
   "outputs": [
    {
     "data": {
      "text/plain": [
       "Index([u'OCID', u'Category', u'Contract Name', u'Contract Identifier',\n",
       "       u'Language', u'Country Name', u'Resource', u'Contract Type',\n",
       "       u'Signature Date', u'Document Type', u'Government Entity',\n",
       "       u'Government Identifier', u'Company Name', u'Company Address',\n",
       "       u'Jurisdiction of Incorporation', u'Registration Agency',\n",
       "       u'Company Number', u'Corporate Grouping', u'Participation Share',\n",
       "       u'Open Corporates Link', u'Incorporation Date', u'Operator',\n",
       "       u'Project Title', u'Project Identifier', u'License Name',\n",
       "       u'License Identifier', u'Source Url', u'Disclosure Mode',\n",
       "       u'Retrieval Date', u'Pdf Url', u'Deal Number', u'Contract Note',\n",
       "       u'Matrix Page', u'Annotation Category', u'Annotation Text',\n",
       "       u'Contract_Text'],\n",
       "      dtype='object')"
      ]
     },
     "execution_count": 9,
     "metadata": {},
     "output_type": "execute_result"
    }
   ],
   "source": [
    "contracts.columns"
   ]
  },
  {
   "cell_type": "code",
   "execution_count": 8,
   "metadata": {
    "collapsed": false
   },
   "outputs": [
    {
     "data": {
      "text/plain": [
       "1493"
      ]
     },
     "execution_count": 8,
     "metadata": {},
     "output_type": "execute_result"
    }
   ],
   "source": [
    "len(contracts)"
   ]
  },
  {
   "cell_type": "code",
   "execution_count": 10,
   "metadata": {
    "collapsed": false
   },
   "outputs": [
    {
     "data": {
      "text/plain": [
       "en    666\n",
       "fr    437\n",
       "es    366\n",
       "pt     20\n",
       "ar      3\n",
       "pl      1\n",
       "Name: Language, dtype: int64"
      ]
     },
     "execution_count": 10,
     "metadata": {},
     "output_type": "execute_result"
    }
   ],
   "source": [
    "contracts.Language.value_counts()"
   ]
  },
  {
   "cell_type": "code",
   "execution_count": 11,
   "metadata": {
    "collapsed": false
   },
   "outputs": [
    {
     "data": {
      "text/plain": [
       "0    ﻿                 October 2.9,2012            ...\n",
       "1    PRODUCTION SHARING CONTRACT<br /><br />\\r\\n<br...\n",
       "2    ﻿   AVENANT N°1 A LA CONVENTION DE BASE POUR  ...\n",
       "3    ﻿   ANNEXE A             <br />\\r<br /><br />\\...\n",
       "4    EX-10.7 4 a2197356zex-10_7.htm EX-10.7<br /><b...\n",
       "Name: Contract_Text, dtype: object"
      ]
     },
     "execution_count": 11,
     "metadata": {},
     "output_type": "execute_result"
    }
   ],
   "source": [
    "contracts['Contract_Text'].head()"
   ]
  },
  {
   "cell_type": "code",
   "execution_count": null,
   "metadata": {
    "collapsed": true
   },
   "outputs": [],
   "source": []
  }
 ],
 "metadata": {
  "kernelspec": {
   "display_name": "Python 2",
   "language": "python",
   "name": "python2"
  },
  "language_info": {
   "codemirror_mode": {
    "name": "ipython",
    "version": 2
   },
   "file_extension": ".py",
   "mimetype": "text/x-python",
   "name": "python",
   "nbconvert_exporter": "python",
   "pygments_lexer": "ipython2",
   "version": "2.7.12"
  }
 },
 "nbformat": 4,
 "nbformat_minor": 1
}
