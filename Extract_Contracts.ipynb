{
 "cells": [
  {
   "cell_type": "markdown",
   "metadata": {},
   "source": [
    "### Append contract text to contract metadata file"
   ]
  },
  {
   "cell_type": "code",
   "execution_count": 1,
   "metadata": {
    "collapsed": true
   },
   "outputs": [],
   "source": [
    "import urllib\n",
    "import pandas as pd"
   ]
  },
  {
   "cell_type": "code",
   "execution_count": 2,
   "metadata": {
    "collapsed": true
   },
   "outputs": [],
   "source": [
    "contracts = pd.read_csv('contract_data/contract_2017-05-30.csv')"
   ]
  },
  {
   "cell_type": "code",
   "execution_count": 3,
   "metadata": {
    "collapsed": false
   },
   "outputs": [
    {
     "data": {
      "text/plain": [
       "Index([u'OCID', u'Category', u'Contract Name', u'Contract Identifier',\n",
       "       u'Language', u'Country Name', u'Resource', u'Contract Type',\n",
       "       u'Signature Date', u'Document Type', u'Government Entity',\n",
       "       u'Government Identifier', u'Company Name', u'Company Address',\n",
       "       u'Jurisdiction of Incorporation', u'Registration Agency',\n",
       "       u'Company Number', u'Corporate Grouping', u'Participation Share',\n",
       "       u'Open Corporates Link', u'Incorporation Date', u'Operator',\n",
       "       u'Project Title', u'Project Identifier', u'License Name',\n",
       "       u'License Identifier', u'Source Url', u'Disclosure Mode',\n",
       "       u'Retrieval Date', u'Pdf Url', u'Deal Number', u'Contract Note',\n",
       "       u'Matrix Page', u'Annotation Category', u'Annotation Text'],\n",
       "      dtype='object')"
      ]
     },
     "execution_count": 3,
     "metadata": {},
     "output_type": "execute_result"
    }
   ],
   "source": [
    "contracts.columns"
   ]
  },
  {
   "cell_type": "code",
   "execution_count": 4,
   "metadata": {
    "collapsed": false
   },
   "outputs": [],
   "source": [
    "def get_contract_text(contract_filename):\n",
    "    # Takes contract pdf file path and returns txt from file\n",
    "    txt_file = contract_filename[:-3] + 'txt'\n",
    "    return urllib.urlopen(txt_file).read()"
   ]
  },
  {
   "cell_type": "code",
   "execution_count": 6,
   "metadata": {
    "collapsed": false
   },
   "outputs": [],
   "source": [
    "contracts['Contract_Text'] = contracts['Pdf Url'].apply(get_contract_text)"
   ]
  },
  {
   "cell_type": "code",
   "execution_count": 12,
   "metadata": {
    "collapsed": false
   },
   "outputs": [],
   "source": [
    "contracts.to_pickle('contract_data/contracts_with_text.pkl')"
   ]
  },
  {
   "cell_type": "code",
   "execution_count": null,
   "metadata": {
    "collapsed": true
   },
   "outputs": [],
   "source": []
  }
 ],
 "metadata": {
  "kernelspec": {
   "display_name": "Python 2",
   "language": "python",
   "name": "python2"
  },
  "language_info": {
   "codemirror_mode": {
    "name": "ipython",
    "version": 2
   },
   "file_extension": ".py",
   "mimetype": "text/x-python",
   "name": "python",
   "nbconvert_exporter": "python",
   "pygments_lexer": "ipython2",
   "version": "2.7.12"
  }
 },
 "nbformat": 4,
 "nbformat_minor": 1
}
