{
 "cells": [
  {
   "cell_type": "code",
   "execution_count": 2,
   "metadata": {
    "collapsed": true
   },
   "outputs": [],
   "source": [
    "import urllib2\n",
    "import pandas as pd\n",
    "pd.set_option('max_colwidth',200)\n",
    "import numpy as np"
   ]
  },
  {
   "cell_type": "code",
   "execution_count": null,
   "metadata": {
    "collapsed": true
   },
   "outputs": [],
   "source": [
    "url = 'http://data.gdeltproject.org/gdeltv2/20170503184500.export.CSV.zip'\n",
    "response = urllib2.urlopen(url)\n",
    "zipfile = response.read()\n",
    "with open(\"gdelt_sample.zip\", 'w') as f:\n",
    "    f.write(zipfile)"
   ]
  },
  {
   "cell_type": "code",
   "execution_count": 20,
   "metadata": {
    "collapsed": false
   },
   "outputs": [],
   "source": [
    "headers = pd.read_csv('gdelt_sample_fieldids.csv')\n",
    "df = pd.read_csv('gdelt_sample_20170503184500.csv',sep='\\t',header=None)"
   ]
  },
  {
   "cell_type": "code",
   "execution_count": 39,
   "metadata": {
    "collapsed": false
   },
   "outputs": [
    {
     "data": {
      "text/plain": [
       "61"
      ]
     },
     "execution_count": 39,
     "metadata": {},
     "output_type": "execute_result"
    }
   ],
   "source": [
    "len(df.columns)"
   ]
  },
  {
   "cell_type": "code",
   "execution_count": 40,
   "metadata": {
    "collapsed": false
   },
   "outputs": [
    {
     "data": {
      "text/html": [
       "<div>\n",
       "<table border=\"1\" class=\"dataframe\">\n",
       "  <thead>\n",
       "    <tr style=\"text-align: right;\">\n",
       "      <th></th>\n",
       "      <th>0</th>\n",
       "      <th>1</th>\n",
       "      <th>2</th>\n",
       "      <th>3</th>\n",
       "      <th>4</th>\n",
       "      <th>5</th>\n",
       "      <th>6</th>\n",
       "      <th>7</th>\n",
       "      <th>8</th>\n",
       "      <th>9</th>\n",
       "      <th>...</th>\n",
       "      <th>51</th>\n",
       "      <th>52</th>\n",
       "      <th>53</th>\n",
       "      <th>54</th>\n",
       "      <th>55</th>\n",
       "      <th>56</th>\n",
       "      <th>57</th>\n",
       "      <th>58</th>\n",
       "      <th>59</th>\n",
       "      <th>60</th>\n",
       "    </tr>\n",
       "  </thead>\n",
       "  <tbody>\n",
       "    <tr>\n",
       "      <th>0</th>\n",
       "      <td>652454637</td>\n",
       "      <td>20170503</td>\n",
       "      <td>201705</td>\n",
       "      <td>2017</td>\n",
       "      <td>2017.337</td>\n",
       "      <td>AFG</td>\n",
       "      <td>AFGHAN</td>\n",
       "      <td>AFG</td>\n",
       "      <td>NaN</td>\n",
       "      <td>NaN</td>\n",
       "      <td>...</td>\n",
       "      <td>4</td>\n",
       "      <td>Kabul, Kabol, Afghanistan</td>\n",
       "      <td>AF</td>\n",
       "      <td>AF13</td>\n",
       "      <td>3580.0</td>\n",
       "      <td>34.51670</td>\n",
       "      <td>69.1833</td>\n",
       "      <td>-3378435</td>\n",
       "      <td>20170503184500</td>\n",
       "      <td>Sedai Khelafat radio in Pashto/BBC Monitoring/(c) BBC</td>\n",
       "    </tr>\n",
       "    <tr>\n",
       "      <th>1</th>\n",
       "      <td>652454638</td>\n",
       "      <td>20170503</td>\n",
       "      <td>201705</td>\n",
       "      <td>2017</td>\n",
       "      <td>2017.337</td>\n",
       "      <td>CVL</td>\n",
       "      <td>CONSTITUENT</td>\n",
       "      <td>NaN</td>\n",
       "      <td>NaN</td>\n",
       "      <td>NaN</td>\n",
       "      <td>...</td>\n",
       "      <td>4</td>\n",
       "      <td>Tamanaco, Cojedes, Venezuela</td>\n",
       "      <td>VE</td>\n",
       "      <td>VE08</td>\n",
       "      <td>32151.0</td>\n",
       "      <td>9.89752</td>\n",
       "      <td>-68.3422</td>\n",
       "      <td>-959220</td>\n",
       "      <td>20170503184500</td>\n",
       "      <td>El Nacional website, Caracas/BBC Monitoring/(c) BBC</td>\n",
       "    </tr>\n",
       "    <tr>\n",
       "      <th>2</th>\n",
       "      <td>652454639</td>\n",
       "      <td>20170503</td>\n",
       "      <td>201705</td>\n",
       "      <td>2017</td>\n",
       "      <td>2017.337</td>\n",
       "      <td>CVL</td>\n",
       "      <td>CONSTITUENT</td>\n",
       "      <td>NaN</td>\n",
       "      <td>NaN</td>\n",
       "      <td>NaN</td>\n",
       "      <td>...</td>\n",
       "      <td>4</td>\n",
       "      <td>Las Mercedes, Estado Guarico, Venezuela</td>\n",
       "      <td>VE</td>\n",
       "      <td>VE12</td>\n",
       "      <td>31997.0</td>\n",
       "      <td>8.65761</td>\n",
       "      <td>-65.5352</td>\n",
       "      <td>-949729</td>\n",
       "      <td>20170503184500</td>\n",
       "      <td>El Nacional website, Caracas/BBC Monitoring/(c) BBC</td>\n",
       "    </tr>\n",
       "    <tr>\n",
       "      <th>3</th>\n",
       "      <td>652454640</td>\n",
       "      <td>20170503</td>\n",
       "      <td>201705</td>\n",
       "      <td>2017</td>\n",
       "      <td>2017.337</td>\n",
       "      <td>CVL</td>\n",
       "      <td>CONSTITUENT</td>\n",
       "      <td>NaN</td>\n",
       "      <td>NaN</td>\n",
       "      <td>NaN</td>\n",
       "      <td>...</td>\n",
       "      <td>4</td>\n",
       "      <td>Tamanaco, Cojedes, Venezuela</td>\n",
       "      <td>VE</td>\n",
       "      <td>VE08</td>\n",
       "      <td>32151.0</td>\n",
       "      <td>9.89752</td>\n",
       "      <td>-68.3422</td>\n",
       "      <td>-959220</td>\n",
       "      <td>20170503184500</td>\n",
       "      <td>El Nacional website, Caracas/BBC Monitoring/(c) BBC</td>\n",
       "    </tr>\n",
       "    <tr>\n",
       "      <th>4</th>\n",
       "      <td>652454641</td>\n",
       "      <td>20170503</td>\n",
       "      <td>201705</td>\n",
       "      <td>2017</td>\n",
       "      <td>2017.337</td>\n",
       "      <td>CVL</td>\n",
       "      <td>CONSTITUENT</td>\n",
       "      <td>NaN</td>\n",
       "      <td>NaN</td>\n",
       "      <td>NaN</td>\n",
       "      <td>...</td>\n",
       "      <td>4</td>\n",
       "      <td>Tamanaco, Cojedes, Venezuela</td>\n",
       "      <td>VE</td>\n",
       "      <td>VE08</td>\n",
       "      <td>32151.0</td>\n",
       "      <td>9.89752</td>\n",
       "      <td>-68.3422</td>\n",
       "      <td>-959220</td>\n",
       "      <td>20170503184500</td>\n",
       "      <td>El Nacional website, Caracas/BBC Monitoring/(c) BBC</td>\n",
       "    </tr>\n",
       "  </tbody>\n",
       "</table>\n",
       "<p>5 rows × 61 columns</p>\n",
       "</div>"
      ],
      "text/plain": [
       "          0         1       2     3         4    5            6    7   8   9   \\\n",
       "0  652454637  20170503  201705  2017  2017.337  AFG       AFGHAN  AFG NaN NaN   \n",
       "1  652454638  20170503  201705  2017  2017.337  CVL  CONSTITUENT  NaN NaN NaN   \n",
       "2  652454639  20170503  201705  2017  2017.337  CVL  CONSTITUENT  NaN NaN NaN   \n",
       "3  652454640  20170503  201705  2017  2017.337  CVL  CONSTITUENT  NaN NaN NaN   \n",
       "4  652454641  20170503  201705  2017  2017.337  CVL  CONSTITUENT  NaN NaN NaN   \n",
       "\n",
       "                           ...                            51  \\\n",
       "0                          ...                             4   \n",
       "1                          ...                             4   \n",
       "2                          ...                             4   \n",
       "3                          ...                             4   \n",
       "4                          ...                             4   \n",
       "\n",
       "                                        52  53    54       55        56  \\\n",
       "0                Kabul, Kabol, Afghanistan  AF  AF13   3580.0  34.51670   \n",
       "1             Tamanaco, Cojedes, Venezuela  VE  VE08  32151.0   9.89752   \n",
       "2  Las Mercedes, Estado Guarico, Venezuela  VE  VE12  31997.0   8.65761   \n",
       "3             Tamanaco, Cojedes, Venezuela  VE  VE08  32151.0   9.89752   \n",
       "4             Tamanaco, Cojedes, Venezuela  VE  VE08  32151.0   9.89752   \n",
       "\n",
       "        57        58              59  \\\n",
       "0  69.1833  -3378435  20170503184500   \n",
       "1 -68.3422   -959220  20170503184500   \n",
       "2 -65.5352   -949729  20170503184500   \n",
       "3 -68.3422   -959220  20170503184500   \n",
       "4 -68.3422   -959220  20170503184500   \n",
       "\n",
       "                                                      60  \n",
       "0  Sedai Khelafat radio in Pashto/BBC Monitoring/(c) BBC  \n",
       "1    El Nacional website, Caracas/BBC Monitoring/(c) BBC  \n",
       "2    El Nacional website, Caracas/BBC Monitoring/(c) BBC  \n",
       "3    El Nacional website, Caracas/BBC Monitoring/(c) BBC  \n",
       "4    El Nacional website, Caracas/BBC Monitoring/(c) BBC  \n",
       "\n",
       "[5 rows x 61 columns]"
      ]
     },
     "execution_count": 40,
     "metadata": {},
     "output_type": "execute_result"
    }
   ],
   "source": [
    "df.head()"
   ]
  },
  {
   "cell_type": "code",
   "execution_count": null,
   "metadata": {
    "collapsed": true
   },
   "outputs": [],
   "source": []
  }
 ],
 "metadata": {
  "anaconda-cloud": {},
  "kernelspec": {
   "display_name": "Python [Root]",
   "language": "python",
   "name": "Python [Root]"
  },
  "language_info": {
   "codemirror_mode": {
    "name": "ipython",
    "version": 2
   },
   "file_extension": ".py",
   "mimetype": "text/x-python",
   "name": "python",
   "nbconvert_exporter": "python",
   "pygments_lexer": "ipython2",
   "version": "2.7.12"
  }
 },
 "nbformat": 4,
 "nbformat_minor": 0
}
