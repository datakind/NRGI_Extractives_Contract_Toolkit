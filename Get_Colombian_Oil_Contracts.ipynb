{
 "cells": [
  {
   "cell_type": "markdown",
   "metadata": {},
   "source": [
    "### Pulled text from Colombian oil contract website, found pdf links and output list of links to pdf files"
   ]
  },
  {
   "cell_type": "code",
   "execution_count": 1,
   "metadata": {
    "collapsed": false
   },
   "outputs": [],
   "source": [
    "import codecs\n",
    "f = codecs.open('contract_data/Contracts_Backlog/colombia_oil_contracts_raw.txt','rt', encoding='utf-8').readlines()\n",
    "pdffiles = [filename for filename in [filename.strip() for filename in f] if filename.endswith('.pdf')]\n",
    "\n",
    "f = codecs.open('contract_data/Contracts_Backlog/colombia_oil_contracts.txt','w',encoding='utf-8')\n",
    "for filename in pdffiles:\n",
    "    filename = filename.replace(' ','%20')\n",
    "    f.write('http://www.anh.gov.co/Asignacion-de-areas/Contratos%20EP%20y%20TEAS%20firmados/' + filename)\n",
    "    f.write('\\n')\n",
    "f.close()"
   ]
  },
  {
   "cell_type": "code",
   "execution_count": null,
   "metadata": {
    "collapsed": true
   },
   "outputs": [],
   "source": []
  }
 ],
 "metadata": {
  "kernelspec": {
   "display_name": "Python 2",
   "language": "python",
   "name": "python2"
  },
  "language_info": {
   "codemirror_mode": {
    "name": "ipython",
    "version": 2
   },
   "file_extension": ".py",
   "mimetype": "text/x-python",
   "name": "python",
   "nbconvert_exporter": "python",
   "pygments_lexer": "ipython2",
   "version": "2.7.12"
  }
 },
 "nbformat": 4,
 "nbformat_minor": 1
}
