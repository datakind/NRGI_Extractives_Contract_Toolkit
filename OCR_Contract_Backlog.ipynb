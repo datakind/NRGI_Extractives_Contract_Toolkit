{
 "cells": [
  {
   "cell_type": "code",
   "execution_count": 1,
   "metadata": {},
   "outputs": [],
   "source": [
    "import io, os\n",
    "import codecs, re, urlparse, urllib2\n",
    "import time\n",
    "from PIL import Image as PI\n",
    "import pyocr\n",
    "import pyocr.builders\n",
    "from wand.image import Image"
   ]
  },
  {
   "cell_type": "code",
   "execution_count": 2,
   "metadata": {
    "collapsed": true
   },
   "outputs": [],
   "source": [
    "# List of PDF URLs from Colombian website\n",
    "colombia_filenames = 'contract_data/Contracts_Backlog/colombia_oil_contracts.txt' \n",
    "# Where you want to save the PDFspip \n",
    "destination_folder = 'contract_data/Contracts_Backlog/'"
   ]
  },
  {
   "cell_type": "code",
   "execution_count": 3,
   "metadata": {},
   "outputs": [
    {
     "name": "stdout",
     "output_type": "stream",
     "text": [
      "474\n"
     ]
    }
   ],
   "source": [
    "existing_pdfs = [unicode(f,'utf-8') for f in os.listdir(destination_folder) if f.lower().endswith('.pdf')]\n",
    "f = codecs.open(colombia_filenames,'r', encoding='utf-8').readlines()\n",
    "print len(existing_pdfs)"
   ]
  },
  {
   "cell_type": "code",
   "execution_count": 4,
   "metadata": {
    "collapsed": true
   },
   "outputs": [],
   "source": [
    "def urlEncodeNonAscii(b):\n",
    "    return re.sub('[\\x80-\\xFF]', lambda c: '%%%02x' % ord(c.group(0)), b)\n",
    "\n",
    "def iriToUri(iri):\n",
    "    parts= urlparse.urlparse(iri)\n",
    "    return urlparse.urlunparse(\n",
    "        part.encode('idna') if parti==1 else urlEncodeNonAscii(part.encode('utf-8'))\n",
    "        for parti, part in enumerate(parts)\n",
    "    )"
   ]
  },
  {
   "cell_type": "code",
   "execution_count": 5,
   "metadata": {
    "collapsed": true
   },
   "outputs": [],
   "source": [
    "def download_pdf(url,pdf_filename):\n",
    "    '''\n",
    "    Function downloads PDFs from url to given filename\n",
    "    '''\n",
    "    try:\n",
    "        url = iriToUri(url)\n",
    "    except:\n",
    "        pass\n",
    "    response = urllib2.urlopen(url)\n",
    "    f = open(destination_folder + pdf_filename, 'w')\n",
    "    f.write(response.read())\n",
    "    f.close()\n",
    "    \n",
    "    return"
   ]
  },
  {
   "cell_type": "markdown",
   "metadata": {},
   "source": [
    "### Download PDFs"
   ]
  },
  {
   "cell_type": "code",
   "execution_count": 14,
   "metadata": {
    "collapsed": true
   },
   "outputs": [],
   "source": [
    "existing_pdfs = [f for f in os.listdir(destination_folder) if f.lower().endswith('.pdf')]"
   ]
  },
  {
   "cell_type": "code",
   "execution_count": 6,
   "metadata": {},
   "outputs": [
    {
     "name": "stdout",
     "output_type": "stream",
     "text": [
      "http://www.anh.gov.co/Asignacion-de-areas/Contratos%20EP%20y%20TEAS%20firmados/CTO%20EyP%20CAÑO%20LOS%20TOTUMOS%202010.pdf\n"
     ]
    }
   ],
   "source": [
    "testurl = u'http://www.anh.gov.co/Asignacion-de-areas/Contratos%20EP%20y%20TEAS%20firmados/CTO%20EyP%20CAÑO%20LOS%20TOTUMOS%202010.pdf'\n",
    "print testurl"
   ]
  },
  {
   "cell_type": "code",
   "execution_count": 15,
   "metadata": {},
   "outputs": [
    {
     "name": "stdout",
     "output_type": "stream",
     "text": [
      "CTO_EyP_CAÑO_LOS_TOTUMOS_2010.pdf\n",
      "<type 'unicode'>\n"
     ]
    },
    {
     "data": {
      "text/plain": [
       "u'CTO_EyP_CA\\xd1O_LOS_TOTUMOS_2010.pdf'"
      ]
     },
     "execution_count": 15,
     "metadata": {},
     "output_type": "execute_result"
    }
   ],
   "source": [
    "pdf_filename = testurl.strip().split('/')[-1].replace(\"%20\",\"_\")\n",
    "print pdf_filename\n",
    "print type(pdf_filename)\n",
    "pdf_filename"
   ]
  },
  {
   "cell_type": "code",
   "execution_count": 16,
   "metadata": {},
   "outputs": [
    {
     "name": "stdout",
     "output_type": "stream",
     "text": [
      "CTO_EyP_CAÑO_LOS_TOTUMOS_2010.pdf\n",
      "<type 'str'>\n"
     ]
    },
    {
     "data": {
      "text/plain": [
       "'CTO_EyP_CAN\\xcc\\x83O_LOS_TOTUMOS_2010.pdf'"
      ]
     },
     "execution_count": 16,
     "metadata": {},
     "output_type": "execute_result"
    }
   ],
   "source": [
    "query = [item for item in existing_pdfs if 'TOTUMOS' in item][0]\n",
    "print query\n",
    "print type(query)\n",
    "query"
   ]
  },
  {
   "cell_type": "code",
   "execution_count": 17,
   "metadata": {},
   "outputs": [
    {
     "name": "stdout",
     "output_type": "stream",
     "text": [
      "CTO_EyP_CAÑO_LOS_TOTUMOS_2010.pdf\n",
      "CTO_EyP_CAÑO_LOS_TOTUMOS_2010.pdf\n"
     ]
    },
    {
     "name": "stderr",
     "output_type": "stream",
     "text": [
      "/Users/jaclynweiser/anaconda2/lib/python2.7/site-packages/ipykernel_launcher.py:3: UnicodeWarning: Unicode equal comparison failed to convert both arguments to Unicode - interpreting them as being unequal\n",
      "  This is separate from the ipykernel package so we can avoid doing imports until\n"
     ]
    },
    {
     "data": {
      "text/plain": [
       "False"
      ]
     },
     "execution_count": 17,
     "metadata": {},
     "output_type": "execute_result"
    }
   ],
   "source": [
    "print query\n",
    "print pdf_filename\n",
    "query == pdf_filename"
   ]
  },
  {
   "cell_type": "code",
   "execution_count": null,
   "metadata": {},
   "outputs": [],
   "source": [
    "for url in f:\n",
    "    pdf_filename = url.strip().split('/')[-1].replace(\"%20\",\"_\").encode('utf8')\n",
    "    if not pdf_filename in existing_pdfs:\n",
    "        print pdf_filename\n",
    "        try:\n",
    "            download_pdf(url.strip(),pdf_filename)\n",
    "        except:\n",
    "            print \"Sleeping on \" + pdf_filename\n",
    "            time.sleep(5*60)\n",
    "            try:\n",
    "                download_pdf(url.strip(),pdf_filename)\n",
    "            except:\n",
    "                print \"Could not open file: \" + pdf_filename"
   ]
  },
  {
   "cell_type": "markdown",
   "metadata": {
    "collapsed": true
   },
   "source": [
    "### Perform OCR on PDFs"
   ]
  },
  {
   "cell_type": "code",
   "execution_count": null,
   "metadata": {
    "collapsed": true
   },
   "outputs": [],
   "source": [
    "def ocr_pdf_to_text(filename):\n",
    "    tool = pyocr.get_available_tools()[0]\n",
    "    lang = 'spa'\n",
    "    req_image = []\n",
    "    final_text = []\n",
    "    image_pdf = Image(filename=filename, resolution=300)\n",
    "    image_jpeg = image_pdf.convert('jpeg')\n",
    "    for img in image_jpeg.sequence:\n",
    "        img_page = Image(image=img)\n",
    "        req_image.append(img_page.make_blob('jpeg'))\n",
    "\n",
    "    for img in req_image: \n",
    "        txt = tool.image_to_string(\n",
    "            PI.open(io.BytesIO(img)),\n",
    "            lang=lang,\n",
    "            builder=pyocr.builders.TextBuilder()\n",
    "        )\n",
    "        final_text.append(txt)\n",
    "    return final_text"
   ]
  },
  {
   "cell_type": "code",
   "execution_count": null,
   "metadata": {
    "collapsed": true
   },
   "outputs": [],
   "source": [
    "colombian_backlog = []\n",
    "for filename in filenames:\n",
    "    colombian_backlog.append(ocr_pdf_to_text(filename))"
   ]
  },
  {
   "cell_type": "code",
   "execution_count": null,
   "metadata": {
    "collapsed": true
   },
   "outputs": [],
   "source": []
  }
 ],
 "metadata": {
  "kernelspec": {
   "display_name": "Python 2",
   "language": "python",
   "name": "python2"
  },
  "language_info": {
   "codemirror_mode": {
    "name": "ipython",
    "version": 2
   },
   "file_extension": ".py",
   "mimetype": "text/x-python",
   "name": "python",
   "nbconvert_exporter": "python",
   "pygments_lexer": "ipython2",
   "version": "2.7.13"
  }
 },
 "nbformat": 4,
 "nbformat_minor": 1
}
